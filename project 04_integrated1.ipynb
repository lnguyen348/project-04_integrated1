{
 "cells": [
  {
   "cell_type": "markdown",
   "metadata": {},
   "source": [
    "# Research on video game successfulness\n",
    ">Purpose: to analyze and identify patterns that determine whether a game succeeds or not"
   ]
  },
  {
   "cell_type": "markdown",
   "metadata": {},
   "source": [
    "# Summary\n",
    "\n",
    "An investigation was conducted to analyze and identify patterns that determine whether a game succeeds or not. Based on the data given, a video game's success can be determined on the region at focus because the earned number of sales differ between NA, EU, or JP if comparisons are being made. Considering this aspect, the NA region accrues the most sales followed by EU, and earning the least is JP. Overlooking the region factor, the data suggests that the platforms with the greatest total sales are the X360, PS3, DS, 3DS, and PS4. Analysis of the given data also implied that new platforms generally seem to take between 2.5 to 3 years to appear and old platforms seem to last for about nine years before fading out. For that reason, platforms that are released after 2010 (since the provided information goes to 2016) have the possibility for growth, and some potentially profitable platforms could be the XOne, PS4, and/or 3DS. Delving further into the global sales of all games that are broken down by the selected platforms, the output also showed that the average sales are greatest for the PS4 platform compared to the 3DS and XOne platforms. In particular, the relationship between the two types of reviews (user and critic) and platform sales was explored for the PS4. The data shows that both types of reviews have a weak correlation on the effect of PS4 sales, nonetheless out of the two weak correlated reviews, critic reviews have a higher correlation with platform sales than user reviews. Moreover, the notion of video-game, cross-platform capability as a factor for game success showed no such implication since certain games are more preferably played on certain preferential platforms. In addition to viewing particular game titles, the game genres were also observed, and the results exhibited the most profitable genres appearing to be action and sports games. Be that as it may, the high and low sales cannot be generalized about game genres as well as user ratings.\n",
    " \n",
    "To this end, a successful game is: able to played on a platform that requires a television to be plugged in and has an action, role-playing, or sport genre."
   ]
  },
  {
   "cell_type": "markdown",
   "metadata": {},
   "source": [
    "##  Open the data file and study the general information"
   ]
  },
  {
   "cell_type": "code",
   "execution_count": 1,
   "metadata": {},
   "outputs": [
    {
     "name": "stdout",
     "output_type": "stream",
     "text": [
      "<class 'pandas.core.frame.DataFrame'>\n",
      "RangeIndex: 16715 entries, 0 to 16714\n",
      "Data columns (total 11 columns):\n",
      "Name               16713 non-null object\n",
      "Platform           16715 non-null object\n",
      "Year_of_Release    16446 non-null float64\n",
      "Genre              16713 non-null object\n",
      "NA_sales           16715 non-null float64\n",
      "EU_sales           16715 non-null float64\n",
      "JP_sales           16715 non-null float64\n",
      "Other_sales        16715 non-null float64\n",
      "Critic_Score       8137 non-null float64\n",
      "User_Score         10014 non-null object\n",
      "Rating             9949 non-null object\n",
      "dtypes: float64(6), object(5)\n",
      "memory usage: 1.4+ MB\n"
     ]
    },
    {
     "data": {
      "text/html": [
       "<div>\n",
       "<style scoped>\n",
       "    .dataframe tbody tr th:only-of-type {\n",
       "        vertical-align: middle;\n",
       "    }\n",
       "\n",
       "    .dataframe tbody tr th {\n",
       "        vertical-align: top;\n",
       "    }\n",
       "\n",
       "    .dataframe thead th {\n",
       "        text-align: right;\n",
       "    }\n",
       "</style>\n",
       "<table border=\"1\" class=\"dataframe\">\n",
       "  <thead>\n",
       "    <tr style=\"text-align: right;\">\n",
       "      <th></th>\n",
       "      <th>Name</th>\n",
       "      <th>Platform</th>\n",
       "      <th>Year_of_Release</th>\n",
       "      <th>Genre</th>\n",
       "      <th>NA_sales</th>\n",
       "      <th>EU_sales</th>\n",
       "      <th>JP_sales</th>\n",
       "      <th>Other_sales</th>\n",
       "      <th>Critic_Score</th>\n",
       "      <th>User_Score</th>\n",
       "      <th>Rating</th>\n",
       "    </tr>\n",
       "  </thead>\n",
       "  <tbody>\n",
       "    <tr>\n",
       "      <td>0</td>\n",
       "      <td>Wii Sports</td>\n",
       "      <td>Wii</td>\n",
       "      <td>2006.0</td>\n",
       "      <td>Sports</td>\n",
       "      <td>41.36</td>\n",
       "      <td>28.96</td>\n",
       "      <td>3.77</td>\n",
       "      <td>8.45</td>\n",
       "      <td>76.0</td>\n",
       "      <td>8</td>\n",
       "      <td>E</td>\n",
       "    </tr>\n",
       "    <tr>\n",
       "      <td>1</td>\n",
       "      <td>Super Mario Bros.</td>\n",
       "      <td>NES</td>\n",
       "      <td>1985.0</td>\n",
       "      <td>Platform</td>\n",
       "      <td>29.08</td>\n",
       "      <td>3.58</td>\n",
       "      <td>6.81</td>\n",
       "      <td>0.77</td>\n",
       "      <td>NaN</td>\n",
       "      <td>NaN</td>\n",
       "      <td>NaN</td>\n",
       "    </tr>\n",
       "    <tr>\n",
       "      <td>2</td>\n",
       "      <td>Mario Kart Wii</td>\n",
       "      <td>Wii</td>\n",
       "      <td>2008.0</td>\n",
       "      <td>Racing</td>\n",
       "      <td>15.68</td>\n",
       "      <td>12.76</td>\n",
       "      <td>3.79</td>\n",
       "      <td>3.29</td>\n",
       "      <td>82.0</td>\n",
       "      <td>8.3</td>\n",
       "      <td>E</td>\n",
       "    </tr>\n",
       "    <tr>\n",
       "      <td>3</td>\n",
       "      <td>Wii Sports Resort</td>\n",
       "      <td>Wii</td>\n",
       "      <td>2009.0</td>\n",
       "      <td>Sports</td>\n",
       "      <td>15.61</td>\n",
       "      <td>10.93</td>\n",
       "      <td>3.28</td>\n",
       "      <td>2.95</td>\n",
       "      <td>80.0</td>\n",
       "      <td>8</td>\n",
       "      <td>E</td>\n",
       "    </tr>\n",
       "    <tr>\n",
       "      <td>4</td>\n",
       "      <td>Pokemon Red/Pokemon Blue</td>\n",
       "      <td>GB</td>\n",
       "      <td>1996.0</td>\n",
       "      <td>Role-Playing</td>\n",
       "      <td>11.27</td>\n",
       "      <td>8.89</td>\n",
       "      <td>10.22</td>\n",
       "      <td>1.00</td>\n",
       "      <td>NaN</td>\n",
       "      <td>NaN</td>\n",
       "      <td>NaN</td>\n",
       "    </tr>\n",
       "    <tr>\n",
       "      <td>5</td>\n",
       "      <td>Tetris</td>\n",
       "      <td>GB</td>\n",
       "      <td>1989.0</td>\n",
       "      <td>Puzzle</td>\n",
       "      <td>23.20</td>\n",
       "      <td>2.26</td>\n",
       "      <td>4.22</td>\n",
       "      <td>0.58</td>\n",
       "      <td>NaN</td>\n",
       "      <td>NaN</td>\n",
       "      <td>NaN</td>\n",
       "    </tr>\n",
       "    <tr>\n",
       "      <td>6</td>\n",
       "      <td>New Super Mario Bros.</td>\n",
       "      <td>DS</td>\n",
       "      <td>2006.0</td>\n",
       "      <td>Platform</td>\n",
       "      <td>11.28</td>\n",
       "      <td>9.14</td>\n",
       "      <td>6.50</td>\n",
       "      <td>2.88</td>\n",
       "      <td>89.0</td>\n",
       "      <td>8.5</td>\n",
       "      <td>E</td>\n",
       "    </tr>\n",
       "    <tr>\n",
       "      <td>7</td>\n",
       "      <td>Wii Play</td>\n",
       "      <td>Wii</td>\n",
       "      <td>2006.0</td>\n",
       "      <td>Misc</td>\n",
       "      <td>13.96</td>\n",
       "      <td>9.18</td>\n",
       "      <td>2.93</td>\n",
       "      <td>2.84</td>\n",
       "      <td>58.0</td>\n",
       "      <td>6.6</td>\n",
       "      <td>E</td>\n",
       "    </tr>\n",
       "    <tr>\n",
       "      <td>8</td>\n",
       "      <td>New Super Mario Bros. Wii</td>\n",
       "      <td>Wii</td>\n",
       "      <td>2009.0</td>\n",
       "      <td>Platform</td>\n",
       "      <td>14.44</td>\n",
       "      <td>6.94</td>\n",
       "      <td>4.70</td>\n",
       "      <td>2.24</td>\n",
       "      <td>87.0</td>\n",
       "      <td>8.4</td>\n",
       "      <td>E</td>\n",
       "    </tr>\n",
       "    <tr>\n",
       "      <td>9</td>\n",
       "      <td>Duck Hunt</td>\n",
       "      <td>NES</td>\n",
       "      <td>1984.0</td>\n",
       "      <td>Shooter</td>\n",
       "      <td>26.93</td>\n",
       "      <td>0.63</td>\n",
       "      <td>0.28</td>\n",
       "      <td>0.47</td>\n",
       "      <td>NaN</td>\n",
       "      <td>NaN</td>\n",
       "      <td>NaN</td>\n",
       "    </tr>\n",
       "  </tbody>\n",
       "</table>\n",
       "</div>"
      ],
      "text/plain": [
       "                        Name Platform  Year_of_Release         Genre  \\\n",
       "0                 Wii Sports      Wii           2006.0        Sports   \n",
       "1          Super Mario Bros.      NES           1985.0      Platform   \n",
       "2             Mario Kart Wii      Wii           2008.0        Racing   \n",
       "3          Wii Sports Resort      Wii           2009.0        Sports   \n",
       "4   Pokemon Red/Pokemon Blue       GB           1996.0  Role-Playing   \n",
       "5                     Tetris       GB           1989.0        Puzzle   \n",
       "6      New Super Mario Bros.       DS           2006.0      Platform   \n",
       "7                   Wii Play      Wii           2006.0          Misc   \n",
       "8  New Super Mario Bros. Wii      Wii           2009.0      Platform   \n",
       "9                  Duck Hunt      NES           1984.0       Shooter   \n",
       "\n",
       "   NA_sales  EU_sales  JP_sales  Other_sales  Critic_Score User_Score Rating  \n",
       "0     41.36     28.96      3.77         8.45          76.0          8      E  \n",
       "1     29.08      3.58      6.81         0.77           NaN        NaN    NaN  \n",
       "2     15.68     12.76      3.79         3.29          82.0        8.3      E  \n",
       "3     15.61     10.93      3.28         2.95          80.0          8      E  \n",
       "4     11.27      8.89     10.22         1.00           NaN        NaN    NaN  \n",
       "5     23.20      2.26      4.22         0.58           NaN        NaN    NaN  \n",
       "6     11.28      9.14      6.50         2.88          89.0        8.5      E  \n",
       "7     13.96      9.18      2.93         2.84          58.0        6.6      E  \n",
       "8     14.44      6.94      4.70         2.24          87.0        8.4      E  \n",
       "9     26.93      0.63      0.28         0.47           NaN        NaN    NaN  "
      ]
     },
     "execution_count": 1,
     "metadata": {},
     "output_type": "execute_result"
    }
   ],
   "source": [
    "import pandas as pd\n",
    "import matplotlib.pyplot as plt\n",
    "import seaborn as sns\n",
    "import numpy as np\n",
    "from scipy import stats as st\n",
    "\n",
    "try:\n",
    "    game_data = pd.read_csv('/datasets/games.csv')\n",
    "except:\n",
    "    game_data = pd.read_csv('games.csv')\n",
    "    \n",
    "game_data.info()\n",
    "game_data.head(10)"
   ]
  },
  {
   "cell_type": "markdown",
   "metadata": {},
   "source": [
    "### Conclusion\n",
    "\n",
    "Upon looking at the general information for the data given, missing values are discernible for the variables *Name*, *Year_of_Release*, *Genre*, *Critic_Score*, *User_Score*, and *Rating*. There are some variables observed that do not have the appropriate data type and will be converted accordingly, such as: *User_Score* is shown as an object data type and will be changed to a float data type and *Year_of_Release* is displayed as a float data type and will be converted to an integer data type."
   ]
  },
  {
   "cell_type": "markdown",
   "metadata": {},
   "source": [
    "## Data preparation"
   ]
  },
  {
   "cell_type": "code",
   "execution_count": 2,
   "metadata": {},
   "outputs": [],
   "source": [
    "# lowercasing column names\n",
    "game_data.columns = map(str.lower, game_data.columns)\n",
    "\n",
    "# determining proportion of missing values for each variable\n",
    "game_data.isna().sum() / game_data.shape[0]\n",
    "# dropping rows where 'name', 'year_of_release', and 'genre' have missing values\n",
    "game_data.dropna(subset=['name', 'year_of_release', 'genre'], inplace=True)\n",
    "# replacing missing values\n",
    "game_data['rating'] = game_data['rating'].fillna('Unknown')\n",
    "\n",
    "# converting data to appropriate data types\n",
    "game_data['year_of_release'] = game_data['year_of_release'].astype('int')\n",
    "game_data['critic_score'] = pd.to_numeric(game_data['critic_score'], errors='coerce')"
   ]
  },
  {
   "cell_type": "code",
   "execution_count": 3,
   "metadata": {},
   "outputs": [
    {
     "data": {
      "text/plain": [
       "0"
      ]
     },
     "execution_count": 3,
     "metadata": {},
     "output_type": "execute_result"
    }
   ],
   "source": [
    "# checking for duplicates\n",
    "game_data.duplicated().sum()"
   ]
  },
  {
   "cell_type": "code",
   "execution_count": 4,
   "metadata": {},
   "outputs": [
    {
     "name": "stdout",
     "output_type": "stream",
     "text": [
      "Value counts for user_score before:\n",
      "tbd    2376\n",
      "7.8     322\n",
      "8       285\n",
      "8.2     276\n",
      "8.3     252\n",
      "       ... \n",
      "9.6       2\n",
      "0.6       2\n",
      "1         2\n",
      "9.7       1\n",
      "0         1\n",
      "Name: user_score, Length: 96, dtype: int64\n",
      "Value counts for user_score after:\n",
      "7.8    322\n",
      "8.0    285\n",
      "8.2    276\n",
      "8.3    252\n",
      "7.5    249\n",
      "      ... \n",
      "9.6      2\n",
      "0.6      2\n",
      "1.9      2\n",
      "9.7      1\n",
      "0.0      1\n",
      "Name: user_score, Length: 95, dtype: int64\n"
     ]
    }
   ],
   "source": [
    "# analyzing values that have TBD abbreviation\n",
    "print('Value counts for user_score before:')\n",
    "print(game_data['user_score'].value_counts())\n",
    "game_data['user_score'].replace('tbd', np.nan, inplace=True)\n",
    "game_data['user_score'] = game_data['user_score'].astype('float')\n",
    "print('Value counts for user_score after:')\n",
    "print(game_data['user_score'].value_counts())"
   ]
  },
  {
   "cell_type": "code",
   "execution_count": 5,
   "metadata": {},
   "outputs": [
    {
     "name": "stdout",
     "output_type": "stream",
     "text": [
      "<class 'pandas.core.frame.DataFrame'>\n",
      "Int64Index: 16444 entries, 0 to 16714\n",
      "Data columns (total 12 columns):\n",
      "name               16444 non-null object\n",
      "platform           16444 non-null object\n",
      "year_of_release    16444 non-null int64\n",
      "genre              16444 non-null object\n",
      "na_sales           16444 non-null float64\n",
      "eu_sales           16444 non-null float64\n",
      "jp_sales           16444 non-null float64\n",
      "other_sales        16444 non-null float64\n",
      "critic_score       7983 non-null float64\n",
      "user_score         7463 non-null float64\n",
      "rating             16444 non-null object\n",
      "total_sales        16444 non-null float64\n",
      "dtypes: float64(7), int64(1), object(4)\n",
      "memory usage: 1.6+ MB\n"
     ]
    },
    {
     "data": {
      "text/html": [
       "<div>\n",
       "<style scoped>\n",
       "    .dataframe tbody tr th:only-of-type {\n",
       "        vertical-align: middle;\n",
       "    }\n",
       "\n",
       "    .dataframe tbody tr th {\n",
       "        vertical-align: top;\n",
       "    }\n",
       "\n",
       "    .dataframe thead th {\n",
       "        text-align: right;\n",
       "    }\n",
       "</style>\n",
       "<table border=\"1\" class=\"dataframe\">\n",
       "  <thead>\n",
       "    <tr style=\"text-align: right;\">\n",
       "      <th></th>\n",
       "      <th>name</th>\n",
       "      <th>platform</th>\n",
       "      <th>year_of_release</th>\n",
       "      <th>genre</th>\n",
       "      <th>na_sales</th>\n",
       "      <th>eu_sales</th>\n",
       "      <th>jp_sales</th>\n",
       "      <th>other_sales</th>\n",
       "      <th>critic_score</th>\n",
       "      <th>user_score</th>\n",
       "      <th>rating</th>\n",
       "      <th>total_sales</th>\n",
       "    </tr>\n",
       "  </thead>\n",
       "  <tbody>\n",
       "    <tr>\n",
       "      <td>0</td>\n",
       "      <td>Wii Sports</td>\n",
       "      <td>Wii</td>\n",
       "      <td>2006</td>\n",
       "      <td>Sports</td>\n",
       "      <td>41.36</td>\n",
       "      <td>28.96</td>\n",
       "      <td>3.77</td>\n",
       "      <td>8.45</td>\n",
       "      <td>76.0</td>\n",
       "      <td>8.0</td>\n",
       "      <td>E</td>\n",
       "      <td>82.54</td>\n",
       "    </tr>\n",
       "    <tr>\n",
       "      <td>1</td>\n",
       "      <td>Super Mario Bros.</td>\n",
       "      <td>NES</td>\n",
       "      <td>1985</td>\n",
       "      <td>Platform</td>\n",
       "      <td>29.08</td>\n",
       "      <td>3.58</td>\n",
       "      <td>6.81</td>\n",
       "      <td>0.77</td>\n",
       "      <td>NaN</td>\n",
       "      <td>NaN</td>\n",
       "      <td>Unknown</td>\n",
       "      <td>40.24</td>\n",
       "    </tr>\n",
       "    <tr>\n",
       "      <td>2</td>\n",
       "      <td>Mario Kart Wii</td>\n",
       "      <td>Wii</td>\n",
       "      <td>2008</td>\n",
       "      <td>Racing</td>\n",
       "      <td>15.68</td>\n",
       "      <td>12.76</td>\n",
       "      <td>3.79</td>\n",
       "      <td>3.29</td>\n",
       "      <td>82.0</td>\n",
       "      <td>8.3</td>\n",
       "      <td>E</td>\n",
       "      <td>35.52</td>\n",
       "    </tr>\n",
       "    <tr>\n",
       "      <td>3</td>\n",
       "      <td>Wii Sports Resort</td>\n",
       "      <td>Wii</td>\n",
       "      <td>2009</td>\n",
       "      <td>Sports</td>\n",
       "      <td>15.61</td>\n",
       "      <td>10.93</td>\n",
       "      <td>3.28</td>\n",
       "      <td>2.95</td>\n",
       "      <td>80.0</td>\n",
       "      <td>8.0</td>\n",
       "      <td>E</td>\n",
       "      <td>32.77</td>\n",
       "    </tr>\n",
       "    <tr>\n",
       "      <td>4</td>\n",
       "      <td>Pokemon Red/Pokemon Blue</td>\n",
       "      <td>GB</td>\n",
       "      <td>1996</td>\n",
       "      <td>Role-Playing</td>\n",
       "      <td>11.27</td>\n",
       "      <td>8.89</td>\n",
       "      <td>10.22</td>\n",
       "      <td>1.00</td>\n",
       "      <td>NaN</td>\n",
       "      <td>NaN</td>\n",
       "      <td>Unknown</td>\n",
       "      <td>31.38</td>\n",
       "    </tr>\n",
       "    <tr>\n",
       "      <td>5</td>\n",
       "      <td>Tetris</td>\n",
       "      <td>GB</td>\n",
       "      <td>1989</td>\n",
       "      <td>Puzzle</td>\n",
       "      <td>23.20</td>\n",
       "      <td>2.26</td>\n",
       "      <td>4.22</td>\n",
       "      <td>0.58</td>\n",
       "      <td>NaN</td>\n",
       "      <td>NaN</td>\n",
       "      <td>Unknown</td>\n",
       "      <td>30.26</td>\n",
       "    </tr>\n",
       "    <tr>\n",
       "      <td>6</td>\n",
       "      <td>New Super Mario Bros.</td>\n",
       "      <td>DS</td>\n",
       "      <td>2006</td>\n",
       "      <td>Platform</td>\n",
       "      <td>11.28</td>\n",
       "      <td>9.14</td>\n",
       "      <td>6.50</td>\n",
       "      <td>2.88</td>\n",
       "      <td>89.0</td>\n",
       "      <td>8.5</td>\n",
       "      <td>E</td>\n",
       "      <td>29.80</td>\n",
       "    </tr>\n",
       "    <tr>\n",
       "      <td>7</td>\n",
       "      <td>Wii Play</td>\n",
       "      <td>Wii</td>\n",
       "      <td>2006</td>\n",
       "      <td>Misc</td>\n",
       "      <td>13.96</td>\n",
       "      <td>9.18</td>\n",
       "      <td>2.93</td>\n",
       "      <td>2.84</td>\n",
       "      <td>58.0</td>\n",
       "      <td>6.6</td>\n",
       "      <td>E</td>\n",
       "      <td>28.91</td>\n",
       "    </tr>\n",
       "    <tr>\n",
       "      <td>8</td>\n",
       "      <td>New Super Mario Bros. Wii</td>\n",
       "      <td>Wii</td>\n",
       "      <td>2009</td>\n",
       "      <td>Platform</td>\n",
       "      <td>14.44</td>\n",
       "      <td>6.94</td>\n",
       "      <td>4.70</td>\n",
       "      <td>2.24</td>\n",
       "      <td>87.0</td>\n",
       "      <td>8.4</td>\n",
       "      <td>E</td>\n",
       "      <td>28.32</td>\n",
       "    </tr>\n",
       "    <tr>\n",
       "      <td>9</td>\n",
       "      <td>Duck Hunt</td>\n",
       "      <td>NES</td>\n",
       "      <td>1984</td>\n",
       "      <td>Shooter</td>\n",
       "      <td>26.93</td>\n",
       "      <td>0.63</td>\n",
       "      <td>0.28</td>\n",
       "      <td>0.47</td>\n",
       "      <td>NaN</td>\n",
       "      <td>NaN</td>\n",
       "      <td>Unknown</td>\n",
       "      <td>28.31</td>\n",
       "    </tr>\n",
       "  </tbody>\n",
       "</table>\n",
       "</div>"
      ],
      "text/plain": [
       "                        name platform  year_of_release         genre  \\\n",
       "0                 Wii Sports      Wii             2006        Sports   \n",
       "1          Super Mario Bros.      NES             1985      Platform   \n",
       "2             Mario Kart Wii      Wii             2008        Racing   \n",
       "3          Wii Sports Resort      Wii             2009        Sports   \n",
       "4   Pokemon Red/Pokemon Blue       GB             1996  Role-Playing   \n",
       "5                     Tetris       GB             1989        Puzzle   \n",
       "6      New Super Mario Bros.       DS             2006      Platform   \n",
       "7                   Wii Play      Wii             2006          Misc   \n",
       "8  New Super Mario Bros. Wii      Wii             2009      Platform   \n",
       "9                  Duck Hunt      NES             1984       Shooter   \n",
       "\n",
       "   na_sales  eu_sales  jp_sales  other_sales  critic_score  user_score  \\\n",
       "0     41.36     28.96      3.77         8.45          76.0         8.0   \n",
       "1     29.08      3.58      6.81         0.77           NaN         NaN   \n",
       "2     15.68     12.76      3.79         3.29          82.0         8.3   \n",
       "3     15.61     10.93      3.28         2.95          80.0         8.0   \n",
       "4     11.27      8.89     10.22         1.00           NaN         NaN   \n",
       "5     23.20      2.26      4.22         0.58           NaN         NaN   \n",
       "6     11.28      9.14      6.50         2.88          89.0         8.5   \n",
       "7     13.96      9.18      2.93         2.84          58.0         6.6   \n",
       "8     14.44      6.94      4.70         2.24          87.0         8.4   \n",
       "9     26.93      0.63      0.28         0.47           NaN         NaN   \n",
       "\n",
       "    rating  total_sales  \n",
       "0        E        82.54  \n",
       "1  Unknown        40.24  \n",
       "2        E        35.52  \n",
       "3        E        32.77  \n",
       "4  Unknown        31.38  \n",
       "5  Unknown        30.26  \n",
       "6        E        29.80  \n",
       "7        E        28.91  \n",
       "8        E        28.32  \n",
       "9  Unknown        28.31  "
      ]
     },
     "execution_count": 5,
     "metadata": {},
     "output_type": "execute_result"
    }
   ],
   "source": [
    "# creating a column for total sales in all regions\n",
    "game_data['total_sales'] = game_data['na_sales']+game_data['eu_sales']+game_data['jp_sales']+game_data['other_sales']\n",
    "game_data.info()\n",
    "game_data.head(10)"
   ]
  },
  {
   "cell_type": "markdown",
   "metadata": {},
   "source": [
    "### Conclusion\n",
    "\n",
    "Column names were all lowercased and the aforementioned columns were converted to the appropriate data type. The rows where *name* and/or *genre* has missing values were removed because they both only account for 0.012% of the dataset. Additionally, rows where *year_of_release* has a missing value are also removed because those values consist of roughly 2% of the dataset which still leaves about 98% of the data for analysis. Missing values for *critic_score* and *user_score* are left alone as *NaN* due to the risk of obscuring results if the missing values were replaced with a zero. *NaN* values in *rating* were filled with *Unknown*. A possibility for missing values to be present in *critic_score* and *user_score* could be that not enough collected interest was feasible for a review to take place. As for missing values in *rating*, the ESRB might not have established an age rating at the time the data was collected. Further data preparation found no duplicates in the dataset. On the condition of values having the abbreviation TBD (which was established in *user_score*), those values were decidedly replaced with *NaN*. Lastly, a column for the total sales in all regions was created."
   ]
  },
  {
   "cell_type": "markdown",
   "metadata": {},
   "source": [
    "## Analyzing the data"
   ]
  },
  {
   "cell_type": "code",
   "execution_count": 6,
   "metadata": {},
   "outputs": [
    {
     "data": {
      "image/png": "[encoded data removed]",
      "text/plain": [
       "<Figure size 1008x576 with 1 Axes>"
      ]
     },
     "metadata": {
      "needs_background": "light"
     },
     "output_type": "display_data"
    }
   ],
   "source": [
    "# observing how many games were released in different years\n",
    "ax = game_data['year_of_release'].value_counts().sort_index(ascending=True).plot(kind='bar', figsize=(14,8), \n",
    "                                                                    title='Yearly Games Released from 1980-2016')\n",
    "ax.set_xlabel('Year')\n",
    "ax.set_ylabel('Number of Games')\n",
    "plt.show()"
   ]
  },
  {
   "cell_type": "code",
   "execution_count": 7,
   "metadata": {},
   "outputs": [
    {
     "data": {
      "image/png": "[encoded data removed]",
      "text/plain": [
       "<Figure size 1008x576 with 1 Axes>"
      ]
     },
     "metadata": {
      "needs_background": "light"
     },
     "output_type": "display_data"
    },
    {
     "data": {
      "image/png": "[encoded data removed]",
      "text/plain": [
       "<Figure size 432x288 with 2 Axes>"
      ]
     },
     "metadata": {
      "needs_background": "light"
     },
     "output_type": "display_data"
    }
   ],
   "source": [
    "# analyzing how sales varied between platforms\n",
    "platform_sales = game_data.sort_values(by='total_sales').pivot_table(index='platform', values='total_sales', aggfunc='sum')\n",
    "\n",
    "ax = platform_sales.sort_values('total_sales', ascending=False).plot.bar(figsize=(14,8), \n",
    "                                                                         title='Total Sales per Platform from 1980-2016')\n",
    "ax.set_xlabel('Platform')\n",
    "ax.set_ylabel('Total Sales')\n",
    "plt.show()\n",
    "sns.heatmap(platform_sales, cmap='BuPu')\n",
    "plt.show()"
   ]
  },
  {
   "cell_type": "code",
   "execution_count": 8,
   "metadata": {},
   "outputs": [
    {
     "data": {
      "image/png": "[encoded data removed]",
      "text/plain": [
       "<Figure size 1008x576 with 1 Axes>"
      ]
     },
     "metadata": {
      "needs_background": "light"
     },
     "output_type": "display_data"
    }
   ],
   "source": [
    "# platforms with the greatest total sales\n",
    "platformyear_sales = game_data.query('platform == [\"DS\", \"PS\", \"PS2\", \"PS3\", \"Wii\", \"X360\"]')\n",
    "platformyear_pivot = platformyear_sales.pivot_table(index='year_of_release', values='total_sales', \n",
    "                                                    columns='platform', aggfunc='sum')\n",
    "ax = platformyear_pivot.plot(figsize=(14,8), title='Yearly Sales for Popular Platforms')\n",
    "ax.set_xlabel('Year of Release')\n",
    "ax.set_ylabel('Total Sales')\n",
    "plt.legend()\n",
    "plt.show()"
   ]
  },
  {
   "cell_type": "code",
   "execution_count": 9,
   "metadata": {},
   "outputs": [
    {
     "data": {
      "image/png": "[encoded data removed]",
      "text/plain": [
       "<Figure size 504x432 with 1 Axes>"
      ]
     },
     "metadata": {
      "needs_background": "light"
     },
     "output_type": "display_data"
    }
   ],
   "source": [
    "# platform relevance duration\n",
    "f, ax = plt.subplots(figsize=(7, 6))\n",
    "my_order = game_data.groupby(by=['platform'])['year_of_release'].min().iloc[::-1].index\n",
    "sns.boxplot(x='year_of_release', y='platform', data=game_data, whis=[0,100], width=.6, order=my_order)\n",
    "ax.xaxis.grid(True)"
   ]
  },
  {
   "cell_type": "code",
   "execution_count": 10,
   "metadata": {},
   "outputs": [
    {
     "data": {
      "image/png": "[encoded data removed]",
      "text/plain": [
       "<Figure size 1296x576 with 1 Axes>"
      ]
     },
     "metadata": {
      "needs_background": "light"
     },
     "output_type": "display_data"
    }
   ],
   "source": [
    "# platform and total sales before filtered years\n",
    "f, ax = plt.subplots(figsize=(18, 8))\n",
    "order2 = game_data.groupby(by=['platform'])['total_sales'].min().iloc[::-1].index\n",
    "sns.boxplot(x='total_sales', y='platform', data=game_data, whis=[0,100], width=.6, order=order2)\n",
    "ax.xaxis.grid(True)"
   ]
  },
  {
   "cell_type": "code",
   "execution_count": 11,
   "metadata": {},
   "outputs": [
    {
     "data": {
      "image/png": "[encoded data removed]",
      "text/plain": [
       "<Figure size 1296x576 with 1 Axes>"
      ]
     },
     "metadata": {
      "needs_background": "light"
     },
     "output_type": "display_data"
    }
   ],
   "source": [
    "# filtering out relevant years and creating a new dataset\n",
    "game_relevant = game_data.query('year_of_release == [2010, 2011, 2012, 2013, 2014]')\n",
    "\n",
    "f, ax = plt.subplots(figsize=(18, 8))\n",
    "order3 = game_relevant.groupby(by=['platform'])['total_sales'].min().iloc[::-1].index\n",
    "sns.boxplot(x='total_sales', y='platform', data=game_relevant, whis=[0,100], width=.6, order=order3)\n",
    "ax.xaxis.grid(True)"
   ]
  },
  {
   "cell_type": "code",
   "execution_count": 12,
   "metadata": {},
   "outputs": [
    {
     "data": {
      "text/html": [
       "<div>\n",
       "<style scoped>\n",
       "    .dataframe tbody tr th:only-of-type {\n",
       "        vertical-align: middle;\n",
       "    }\n",
       "\n",
       "    .dataframe tbody tr th {\n",
       "        vertical-align: top;\n",
       "    }\n",
       "\n",
       "    .dataframe thead th {\n",
       "        text-align: right;\n",
       "    }\n",
       "</style>\n",
       "<table border=\"1\" class=\"dataframe\">\n",
       "  <thead>\n",
       "    <tr style=\"text-align: right;\">\n",
       "      <th>platform</th>\n",
       "      <th>3DS</th>\n",
       "      <th>PS4</th>\n",
       "      <th>XOne</th>\n",
       "    </tr>\n",
       "  </thead>\n",
       "  <tbody>\n",
       "    <tr>\n",
       "      <td>count</td>\n",
       "      <td>6.000000</td>\n",
       "      <td>4.000000</td>\n",
       "      <td>4.000000</td>\n",
       "    </tr>\n",
       "    <tr>\n",
       "      <td>mean</td>\n",
       "      <td>42.968333</td>\n",
       "      <td>78.535000</td>\n",
       "      <td>39.830000</td>\n",
       "    </tr>\n",
       "    <tr>\n",
       "      <td>std</td>\n",
       "      <td>18.278261</td>\n",
       "      <td>40.567917</td>\n",
       "      <td>20.313977</td>\n",
       "    </tr>\n",
       "    <tr>\n",
       "      <td>min</td>\n",
       "      <td>15.140000</td>\n",
       "      <td>25.990000</td>\n",
       "      <td>18.960000</td>\n",
       "    </tr>\n",
       "    <tr>\n",
       "      <td>25%</td>\n",
       "      <td>31.775000</td>\n",
       "      <td>58.435000</td>\n",
       "      <td>24.352500</td>\n",
       "    </tr>\n",
       "    <tr>\n",
       "      <td>50%</td>\n",
       "      <td>47.560000</td>\n",
       "      <td>84.625000</td>\n",
       "      <td>40.110000</td>\n",
       "    </tr>\n",
       "    <tr>\n",
       "      <td>75%</td>\n",
       "      <td>55.267500</td>\n",
       "      <td>104.725000</td>\n",
       "      <td>55.587500</td>\n",
       "    </tr>\n",
       "    <tr>\n",
       "      <td>max</td>\n",
       "      <td>63.200000</td>\n",
       "      <td>118.900000</td>\n",
       "      <td>60.140000</td>\n",
       "    </tr>\n",
       "  </tbody>\n",
       "</table>\n",
       "</div>"
      ],
      "text/plain": [
       "platform        3DS         PS4       XOne\n",
       "count      6.000000    4.000000   4.000000\n",
       "mean      42.968333   78.535000  39.830000\n",
       "std       18.278261   40.567917  20.313977\n",
       "min       15.140000   25.990000  18.960000\n",
       "25%       31.775000   58.435000  24.352500\n",
       "50%       47.560000   84.625000  40.110000\n",
       "75%       55.267500  104.725000  55.587500\n",
       "max       63.200000  118.900000  60.140000"
      ]
     },
     "execution_count": 12,
     "metadata": {},
     "output_type": "execute_result"
    },
    {
     "data": {
      "image/png": "[encoded data removed]",
      "text/plain": [
       "<Figure size 432x288 with 1 Axes>"
      ]
     },
     "metadata": {
      "needs_background": "light"
     },
     "output_type": "display_data"
    }
   ],
   "source": [
    "# dataset for filtered potentially profitable platforms\n",
    "platform_profit = game_data.query('platform == [\"XOne\", \"PS4\", \"3DS\"]')\n",
    "\n",
    "# the global sales of all games broken down by select potentially profitable platforms\n",
    "profit_pivot = platform_profit.pivot_table(index='year_of_release', columns='platform', values='total_sales', aggfunc='sum')\n",
    "sns.boxplot(data=profit_pivot)\n",
    "profit_pivot.describe()"
   ]
  },
  {
   "cell_type": "code",
   "execution_count": 13,
   "metadata": {},
   "outputs": [
    {
     "data": {
      "text/plain": [
       "-0.031957110204556424"
      ]
     },
     "execution_count": 13,
     "metadata": {},
     "output_type": "execute_result"
    },
    {
     "data": {
      "image/png": "[encoded data removed]",
      "text/plain": [
       "<Figure size 432x288 with 1 Axes>"
      ]
     },
     "metadata": {
      "needs_background": "light"
     },
     "output_type": "display_data"
    }
   ],
   "source": [
    "# analyzing how user and professional reviews affect sales for the DS\n",
    "ps4_platform = game_data.query('platform == \"PS4\"')\n",
    "\n",
    "sns.scatterplot(x='user_score', y='total_sales', data=ps4_platform)\n",
    "ps4_platform['user_score'].corr(ps4_platform['total_sales'])"
   ]
  },
  {
   "cell_type": "code",
   "execution_count": 14,
   "metadata": {},
   "outputs": [
    {
     "data": {
      "text/plain": [
       "0.40656790206178095"
      ]
     },
     "execution_count": 14,
     "metadata": {},
     "output_type": "execute_result"
    },
    {
     "data": {
      "image/png": "[encoded data removed]",
      "text/plain": [
       "<Figure size 432x288 with 1 Axes>"
      ]
     },
     "metadata": {
      "needs_background": "light"
     },
     "output_type": "display_data"
    }
   ],
   "source": [
    "sns.scatterplot(x='critic_score', y='total_sales', data=ps4_platform)\n",
    "ps4_platform['critic_score'].corr(ps4_platform['total_sales'])"
   ]
  },
  {
   "cell_type": "code",
   "execution_count": 15,
   "metadata": {},
   "outputs": [
    {
     "data": {
      "text/html": [
       "<div>\n",
       "<style scoped>\n",
       "    .dataframe tbody tr th:only-of-type {\n",
       "        vertical-align: middle;\n",
       "    }\n",
       "\n",
       "    .dataframe tbody tr th {\n",
       "        vertical-align: top;\n",
       "    }\n",
       "\n",
       "    .dataframe thead th {\n",
       "        text-align: right;\n",
       "    }\n",
       "</style>\n",
       "<table border=\"1\" class=\"dataframe\">\n",
       "  <thead>\n",
       "    <tr style=\"text-align: right;\">\n",
       "      <th></th>\n",
       "      <th>name</th>\n",
       "      <th>platform</th>\n",
       "      <th>year_of_release</th>\n",
       "      <th>genre</th>\n",
       "      <th>na_sales</th>\n",
       "      <th>eu_sales</th>\n",
       "      <th>jp_sales</th>\n",
       "      <th>other_sales</th>\n",
       "      <th>critic_score</th>\n",
       "      <th>user_score</th>\n",
       "      <th>rating</th>\n",
       "      <th>total_sales</th>\n",
       "    </tr>\n",
       "  </thead>\n",
       "  <tbody>\n",
       "    <tr>\n",
       "      <td>126</td>\n",
       "      <td>FIFA 14</td>\n",
       "      <td>PS3</td>\n",
       "      <td>2013</td>\n",
       "      <td>Sports</td>\n",
       "      <td>0.78</td>\n",
       "      <td>4.24</td>\n",
       "      <td>0.07</td>\n",
       "      <td>1.37</td>\n",
       "      <td>86.0</td>\n",
       "      <td>4.3</td>\n",
       "      <td>E</td>\n",
       "      <td>6.46</td>\n",
       "    </tr>\n",
       "    <tr>\n",
       "      <td>271</td>\n",
       "      <td>FIFA 14</td>\n",
       "      <td>X360</td>\n",
       "      <td>2013</td>\n",
       "      <td>Sports</td>\n",
       "      <td>0.92</td>\n",
       "      <td>2.89</td>\n",
       "      <td>0.01</td>\n",
       "      <td>0.40</td>\n",
       "      <td>84.0</td>\n",
       "      <td>4.2</td>\n",
       "      <td>E</td>\n",
       "      <td>4.22</td>\n",
       "    </tr>\n",
       "    <tr>\n",
       "      <td>469</td>\n",
       "      <td>FIFA 14</td>\n",
       "      <td>PS4</td>\n",
       "      <td>2013</td>\n",
       "      <td>Sports</td>\n",
       "      <td>0.61</td>\n",
       "      <td>1.85</td>\n",
       "      <td>0.11</td>\n",
       "      <td>0.44</td>\n",
       "      <td>87.0</td>\n",
       "      <td>6.3</td>\n",
       "      <td>E</td>\n",
       "      <td>3.01</td>\n",
       "    </tr>\n",
       "    <tr>\n",
       "      <td>1753</td>\n",
       "      <td>FIFA 14</td>\n",
       "      <td>XOne</td>\n",
       "      <td>2013</td>\n",
       "      <td>Sports</td>\n",
       "      <td>0.41</td>\n",
       "      <td>0.66</td>\n",
       "      <td>0.00</td>\n",
       "      <td>0.09</td>\n",
       "      <td>88.0</td>\n",
       "      <td>5.8</td>\n",
       "      <td>E</td>\n",
       "      <td>1.16</td>\n",
       "    </tr>\n",
       "    <tr>\n",
       "      <td>4699</td>\n",
       "      <td>FIFA 14</td>\n",
       "      <td>PSV</td>\n",
       "      <td>2013</td>\n",
       "      <td>Sports</td>\n",
       "      <td>0.08</td>\n",
       "      <td>0.23</td>\n",
       "      <td>0.01</td>\n",
       "      <td>0.09</td>\n",
       "      <td>NaN</td>\n",
       "      <td>1.8</td>\n",
       "      <td>E</td>\n",
       "      <td>0.41</td>\n",
       "    </tr>\n",
       "    <tr>\n",
       "      <td>4809</td>\n",
       "      <td>FIFA 14</td>\n",
       "      <td>PC</td>\n",
       "      <td>2013</td>\n",
       "      <td>Sports</td>\n",
       "      <td>0.01</td>\n",
       "      <td>0.36</td>\n",
       "      <td>0.00</td>\n",
       "      <td>0.03</td>\n",
       "      <td>87.0</td>\n",
       "      <td>4.6</td>\n",
       "      <td>E</td>\n",
       "      <td>0.40</td>\n",
       "    </tr>\n",
       "    <tr>\n",
       "      <td>4985</td>\n",
       "      <td>FIFA 14</td>\n",
       "      <td>Wii</td>\n",
       "      <td>2013</td>\n",
       "      <td>Sports</td>\n",
       "      <td>0.00</td>\n",
       "      <td>0.36</td>\n",
       "      <td>0.00</td>\n",
       "      <td>0.02</td>\n",
       "      <td>NaN</td>\n",
       "      <td>4.3</td>\n",
       "      <td>E</td>\n",
       "      <td>0.38</td>\n",
       "    </tr>\n",
       "    <tr>\n",
       "      <td>6871</td>\n",
       "      <td>FIFA 14</td>\n",
       "      <td>3DS</td>\n",
       "      <td>2013</td>\n",
       "      <td>Sports</td>\n",
       "      <td>0.00</td>\n",
       "      <td>0.22</td>\n",
       "      <td>0.00</td>\n",
       "      <td>0.01</td>\n",
       "      <td>NaN</td>\n",
       "      <td>NaN</td>\n",
       "      <td>Unknown</td>\n",
       "      <td>0.23</td>\n",
       "    </tr>\n",
       "    <tr>\n",
       "      <td>7875</td>\n",
       "      <td>FIFA 14</td>\n",
       "      <td>PSP</td>\n",
       "      <td>2013</td>\n",
       "      <td>Sports</td>\n",
       "      <td>0.00</td>\n",
       "      <td>0.15</td>\n",
       "      <td>0.00</td>\n",
       "      <td>0.04</td>\n",
       "      <td>NaN</td>\n",
       "      <td>3.4</td>\n",
       "      <td>E</td>\n",
       "      <td>0.19</td>\n",
       "    </tr>\n",
       "  </tbody>\n",
       "</table>\n",
       "</div>"
      ],
      "text/plain": [
       "         name platform  year_of_release   genre  na_sales  eu_sales  jp_sales  \\\n",
       "126   FIFA 14      PS3             2013  Sports      0.78      4.24      0.07   \n",
       "271   FIFA 14     X360             2013  Sports      0.92      2.89      0.01   \n",
       "469   FIFA 14      PS4             2013  Sports      0.61      1.85      0.11   \n",
       "1753  FIFA 14     XOne             2013  Sports      0.41      0.66      0.00   \n",
       "4699  FIFA 14      PSV             2013  Sports      0.08      0.23      0.01   \n",
       "4809  FIFA 14       PC             2013  Sports      0.01      0.36      0.00   \n",
       "4985  FIFA 14      Wii             2013  Sports      0.00      0.36      0.00   \n",
       "6871  FIFA 14      3DS             2013  Sports      0.00      0.22      0.00   \n",
       "7875  FIFA 14      PSP             2013  Sports      0.00      0.15      0.00   \n",
       "\n",
       "      other_sales  critic_score  user_score   rating  total_sales  \n",
       "126          1.37          86.0         4.3        E         6.46  \n",
       "271          0.40          84.0         4.2        E         4.22  \n",
       "469          0.44          87.0         6.3        E         3.01  \n",
       "1753         0.09          88.0         5.8        E         1.16  \n",
       "4699         0.09           NaN         1.8        E         0.41  \n",
       "4809         0.03          87.0         4.6        E         0.40  \n",
       "4985         0.02           NaN         4.3        E         0.38  \n",
       "6871         0.01           NaN         NaN  Unknown         0.23  \n",
       "7875         0.04           NaN         3.4        E         0.19  "
      ]
     },
     "execution_count": 15,
     "metadata": {},
     "output_type": "execute_result"
    }
   ],
   "source": [
    "# looking at games that have many platforms\n",
    "game_relevant['name'].value_counts()\n",
    "\n",
    "# comparing the sales of FIFA 14 on other platforms\n",
    "game_relevant.query('name == \"FIFA 14\"')"
   ]
  },
  {
   "cell_type": "code",
   "execution_count": 16,
   "metadata": {},
   "outputs": [
    {
     "data": {
      "text/html": [
       "<div>\n",
       "<style scoped>\n",
       "    .dataframe tbody tr th:only-of-type {\n",
       "        vertical-align: middle;\n",
       "    }\n",
       "\n",
       "    .dataframe tbody tr th {\n",
       "        vertical-align: top;\n",
       "    }\n",
       "\n",
       "    .dataframe thead th {\n",
       "        text-align: right;\n",
       "    }\n",
       "</style>\n",
       "<table border=\"1\" class=\"dataframe\">\n",
       "  <thead>\n",
       "    <tr style=\"text-align: right;\">\n",
       "      <th></th>\n",
       "      <th>name</th>\n",
       "      <th>platform</th>\n",
       "      <th>year_of_release</th>\n",
       "      <th>genre</th>\n",
       "      <th>na_sales</th>\n",
       "      <th>eu_sales</th>\n",
       "      <th>jp_sales</th>\n",
       "      <th>other_sales</th>\n",
       "      <th>critic_score</th>\n",
       "      <th>user_score</th>\n",
       "      <th>rating</th>\n",
       "      <th>total_sales</th>\n",
       "    </tr>\n",
       "  </thead>\n",
       "  <tbody>\n",
       "  </tbody>\n",
       "</table>\n",
       "</div>"
      ],
      "text/plain": [
       "Empty DataFrame\n",
       "Columns: [name, platform, year_of_release, genre, na_sales, eu_sales, jp_sales, other_sales, critic_score, user_score, rating, total_sales]\n",
       "Index: []"
      ]
     },
     "execution_count": 16,
     "metadata": {},
     "output_type": "execute_result"
    }
   ],
   "source": [
    "# comparing the sales of Ratatouille on other platforms\n",
    "game_relevant.query('name == \"Ratatouille\"')"
   ]
  },
  {
   "cell_type": "code",
   "execution_count": 17,
   "metadata": {},
   "outputs": [
    {
     "data": {
      "text/html": [
       "<div>\n",
       "<style scoped>\n",
       "    .dataframe tbody tr th:only-of-type {\n",
       "        vertical-align: middle;\n",
       "    }\n",
       "\n",
       "    .dataframe tbody tr th {\n",
       "        vertical-align: top;\n",
       "    }\n",
       "\n",
       "    .dataframe thead th {\n",
       "        text-align: right;\n",
       "    }\n",
       "</style>\n",
       "<table border=\"1\" class=\"dataframe\">\n",
       "  <thead>\n",
       "    <tr style=\"text-align: right;\">\n",
       "      <th>genre</th>\n",
       "      <th>Action</th>\n",
       "      <th>Adventure</th>\n",
       "      <th>Fighting</th>\n",
       "      <th>Misc</th>\n",
       "      <th>Platform</th>\n",
       "      <th>Puzzle</th>\n",
       "      <th>Racing</th>\n",
       "      <th>Role-Playing</th>\n",
       "      <th>Shooter</th>\n",
       "      <th>Simulation</th>\n",
       "      <th>Sports</th>\n",
       "      <th>Strategy</th>\n",
       "    </tr>\n",
       "  </thead>\n",
       "  <tbody>\n",
       "    <tr>\n",
       "      <td>count</td>\n",
       "      <td>5.00000</td>\n",
       "      <td>5.000000</td>\n",
       "      <td>5.000000</td>\n",
       "      <td>5.000000</td>\n",
       "      <td>5.00000</td>\n",
       "      <td>5.00000</td>\n",
       "      <td>5.000000</td>\n",
       "      <td>5.000000</td>\n",
       "      <td>5.000000</td>\n",
       "      <td>5.00000</td>\n",
       "      <td>5.00000</td>\n",
       "      <td>5.000000</td>\n",
       "    </tr>\n",
       "    <tr>\n",
       "      <td>mean</td>\n",
       "      <td>114.19200</td>\n",
       "      <td>9.804000</td>\n",
       "      <td>13.844000</td>\n",
       "      <td>44.078000</td>\n",
       "      <td>22.08800</td>\n",
       "      <td>3.97600</td>\n",
       "      <td>22.364000</td>\n",
       "      <td>51.892000</td>\n",
       "      <td>74.802000</td>\n",
       "      <td>12.84000</td>\n",
       "      <td>52.81200</td>\n",
       "      <td>6.572000</td>\n",
       "    </tr>\n",
       "    <tr>\n",
       "      <td>std</td>\n",
       "      <td>9.87266</td>\n",
       "      <td>5.464401</td>\n",
       "      <td>6.030869</td>\n",
       "      <td>31.517373</td>\n",
       "      <td>8.76855</td>\n",
       "      <td>4.09943</td>\n",
       "      <td>11.270483</td>\n",
       "      <td>10.437529</td>\n",
       "      <td>14.272644</td>\n",
       "      <td>6.14033</td>\n",
       "      <td>23.36148</td>\n",
       "      <td>4.950285</td>\n",
       "    </tr>\n",
       "    <tr>\n",
       "      <td>min</td>\n",
       "      <td>97.23000</td>\n",
       "      <td>5.570000</td>\n",
       "      <td>7.090000</td>\n",
       "      <td>22.220000</td>\n",
       "      <td>8.81000</td>\n",
       "      <td>0.96000</td>\n",
       "      <td>12.370000</td>\n",
       "      <td>44.450000</td>\n",
       "      <td>62.040000</td>\n",
       "      <td>5.58000</td>\n",
       "      <td>30.42000</td>\n",
       "      <td>0.980000</td>\n",
       "    </tr>\n",
       "    <tr>\n",
       "      <td>25%</td>\n",
       "      <td>115.29000</td>\n",
       "      <td>5.790000</td>\n",
       "      <td>9.180000</td>\n",
       "      <td>23.380000</td>\n",
       "      <td>18.37000</td>\n",
       "      <td>1.49000</td>\n",
       "      <td>13.610000</td>\n",
       "      <td>45.620000</td>\n",
       "      <td>65.210000</td>\n",
       "      <td>8.63000</td>\n",
       "      <td>41.17000</td>\n",
       "      <td>3.260000</td>\n",
       "    </tr>\n",
       "    <tr>\n",
       "      <td>50%</td>\n",
       "      <td>116.68000</td>\n",
       "      <td>6.090000</td>\n",
       "      <td>14.690000</td>\n",
       "      <td>25.270000</td>\n",
       "      <td>24.54000</td>\n",
       "      <td>1.72000</td>\n",
       "      <td>16.660000</td>\n",
       "      <td>46.910000</td>\n",
       "      <td>71.750000</td>\n",
       "      <td>13.36000</td>\n",
       "      <td>45.15000</td>\n",
       "      <td>6.120000</td>\n",
       "    </tr>\n",
       "    <tr>\n",
       "      <td>75%</td>\n",
       "      <td>119.25000</td>\n",
       "      <td>15.610000</td>\n",
       "      <td>15.850000</td>\n",
       "      <td>54.380000</td>\n",
       "      <td>27.68000</td>\n",
       "      <td>4.96000</td>\n",
       "      <td>34.370000</td>\n",
       "      <td>52.830000</td>\n",
       "      <td>76.830000</td>\n",
       "      <td>15.14000</td>\n",
       "      <td>56.08000</td>\n",
       "      <td>8.820000</td>\n",
       "    </tr>\n",
       "    <tr>\n",
       "      <td>max</td>\n",
       "      <td>122.51000</td>\n",
       "      <td>15.960000</td>\n",
       "      <td>22.410000</td>\n",
       "      <td>95.140000</td>\n",
       "      <td>31.04000</td>\n",
       "      <td>10.75000</td>\n",
       "      <td>34.810000</td>\n",
       "      <td>69.650000</td>\n",
       "      <td>98.180000</td>\n",
       "      <td>21.49000</td>\n",
       "      <td>91.24000</td>\n",
       "      <td>13.680000</td>\n",
       "    </tr>\n",
       "  </tbody>\n",
       "</table>\n",
       "</div>"
      ],
      "text/plain": [
       "genre     Action  Adventure   Fighting       Misc  Platform    Puzzle  \\\n",
       "count    5.00000   5.000000   5.000000   5.000000   5.00000   5.00000   \n",
       "mean   114.19200   9.804000  13.844000  44.078000  22.08800   3.97600   \n",
       "std      9.87266   5.464401   6.030869  31.517373   8.76855   4.09943   \n",
       "min     97.23000   5.570000   7.090000  22.220000   8.81000   0.96000   \n",
       "25%    115.29000   5.790000   9.180000  23.380000  18.37000   1.49000   \n",
       "50%    116.68000   6.090000  14.690000  25.270000  24.54000   1.72000   \n",
       "75%    119.25000  15.610000  15.850000  54.380000  27.68000   4.96000   \n",
       "max    122.51000  15.960000  22.410000  95.140000  31.04000  10.75000   \n",
       "\n",
       "genre     Racing  Role-Playing    Shooter  Simulation    Sports   Strategy  \n",
       "count   5.000000      5.000000   5.000000     5.00000   5.00000   5.000000  \n",
       "mean   22.364000     51.892000  74.802000    12.84000  52.81200   6.572000  \n",
       "std    11.270483     10.437529  14.272644     6.14033  23.36148   4.950285  \n",
       "min    12.370000     44.450000  62.040000     5.58000  30.42000   0.980000  \n",
       "25%    13.610000     45.620000  65.210000     8.63000  41.17000   3.260000  \n",
       "50%    16.660000     46.910000  71.750000    13.36000  45.15000   6.120000  \n",
       "75%    34.370000     52.830000  76.830000    15.14000  56.08000   8.820000  \n",
       "max    34.810000     69.650000  98.180000    21.49000  91.24000  13.680000  "
      ]
     },
     "execution_count": 17,
     "metadata": {},
     "output_type": "execute_result"
    },
    {
     "data": {
      "image/png": "[encoded data removed]",
      "text/plain": [
       "<Figure size 1080x360 with 1 Axes>"
      ]
     },
     "metadata": {
      "needs_background": "light"
     },
     "output_type": "display_data"
    }
   ],
   "source": [
    "# analyzing games by genre\n",
    "genre_pivot = game_relevant.pivot_table(index='year_of_release', columns='genre', values='total_sales', aggfunc='sum')\n",
    "f, ax = plt.subplots(figsize=(15, 5))\n",
    "sns.boxplot(data=genre_pivot)\n",
    "genre_pivot.describe()"
   ]
  },
  {
   "cell_type": "markdown",
   "metadata": {},
   "source": [
    "### Conclusion\n",
    "\n",
    "The histogram illustrates that the largest number of games were released between 2008-2009. The data also suggests that the platforms with the greatest total sales are DS, PS, PS2, PS3, Wii, and X360. The generated heat map implies that the platforms that used to be popular but now have zero sales are the: 2600, GBA, GEN, N64, NG, PCFX, SCD, and TG16. Subsequently, the PS2 platform had the greatest total sales. According to the chart of boxplots, new platforms generally seem to take between 2.5 to 3 years to appear and old platforms seem to last for about nine years. Considering the information the data has exhibited so far, analyses from here on will consider data from 2010 to 2014 to build a prognosis for 2017. Accordingly, the platforms that are leading in sales after filtering out the relevant years are X360, PS3, DS, 3DS, and PS4. Platforms that were released prior to 2010 will start shrinking in relevance since our data only goes to 2016, and it was previously observed that platforms seem to last for about nine years before fading out. For that reason, platforms that are released after 2010 have the possibility for growth. Some potentially profitable platforms could be XOne, PS4, and 3DS.\n",
    "\n",
    "With this interpretation in mind, the differences in sales look fairly distinct from one another upon looking at the box plots generated for the global sales of all games that are broken down by the selected platforms. The average sales is greatest for the PS4 platform compared to the 3DS and XOne platforms. The relationship between the two types of reviews (user and critic) and platform sales for the PS4 was explored in particular, and the data shows that both types of reviews have a weak correlation on the effect of platform sales. However, out of the two weak correlated reviews, critic reviews have a higher correlation with platform sales than user reviews.\n",
    "\n",
    "Game titles were observed to see which names have many cross platforms. FIFA 14 and Ratatouille were randomly picked for further comparison on their respective sales on other platforms. For FIFA 14 in particular, the most sales procured was on the PS3. The game Ratatouille had the most sales when purchased for the DS. In addition to viewing particular game titles, the game genres were also observed. According to the data, the most profitable genres appear to be action and sports games. The disparity in sales between the different genres could be attributed to the number of games released in a particular genre in a duration of time or the individual cost of a game that would affect the quantity of people willing to invest in buying that one game unit. As a result, the high and low sales cannot be generalized about game genres."
   ]
  },
  {
   "cell_type": "markdown",
   "metadata": {},
   "source": [
    "## Creating a user profile for each region"
   ]
  },
  {
   "cell_type": "code",
   "execution_count": 18,
   "metadata": {},
   "outputs": [
    {
     "data": {
      "text/html": [
       "<div>\n",
       "<style scoped>\n",
       "    .dataframe tbody tr th:only-of-type {\n",
       "        vertical-align: middle;\n",
       "    }\n",
       "\n",
       "    .dataframe tbody tr th {\n",
       "        vertical-align: top;\n",
       "    }\n",
       "\n",
       "    .dataframe thead th {\n",
       "        text-align: right;\n",
       "    }\n",
       "</style>\n",
       "<table border=\"1\" class=\"dataframe\">\n",
       "  <thead>\n",
       "    <tr style=\"text-align: right;\">\n",
       "      <th></th>\n",
       "      <th>na_sales</th>\n",
       "    </tr>\n",
       "    <tr>\n",
       "      <th>platform</th>\n",
       "      <th></th>\n",
       "    </tr>\n",
       "  </thead>\n",
       "  <tbody>\n",
       "    <tr>\n",
       "      <td>All</td>\n",
       "      <td>978.62</td>\n",
       "    </tr>\n",
       "    <tr>\n",
       "      <td>X360</td>\n",
       "      <td>326.13</td>\n",
       "    </tr>\n",
       "    <tr>\n",
       "      <td>PS3</td>\n",
       "      <td>223.59</td>\n",
       "    </tr>\n",
       "    <tr>\n",
       "      <td>Wii</td>\n",
       "      <td>120.71</td>\n",
       "    </tr>\n",
       "    <tr>\n",
       "      <td>3DS</td>\n",
       "      <td>72.34</td>\n",
       "    </tr>\n",
       "    <tr>\n",
       "      <td>DS</td>\n",
       "      <td>59.66</td>\n",
       "    </tr>\n",
       "    <tr>\n",
       "      <td>PS4</td>\n",
       "      <td>44.88</td>\n",
       "    </tr>\n",
       "    <tr>\n",
       "      <td>XOne</td>\n",
       "      <td>42.82</td>\n",
       "    </tr>\n",
       "    <tr>\n",
       "      <td>PC</td>\n",
       "      <td>35.35</td>\n",
       "    </tr>\n",
       "    <tr>\n",
       "      <td>WiiU</td>\n",
       "      <td>29.24</td>\n",
       "    </tr>\n",
       "    <tr>\n",
       "      <td>PSV</td>\n",
       "      <td>11.93</td>\n",
       "    </tr>\n",
       "    <tr>\n",
       "      <td>PSP</td>\n",
       "      <td>9.65</td>\n",
       "    </tr>\n",
       "    <tr>\n",
       "      <td>PS2</td>\n",
       "      <td>2.32</td>\n",
       "    </tr>\n",
       "  </tbody>\n",
       "</table>\n",
       "</div>"
      ],
      "text/plain": [
       "          na_sales\n",
       "platform          \n",
       "All         978.62\n",
       "X360        326.13\n",
       "PS3         223.59\n",
       "Wii         120.71\n",
       "3DS          72.34\n",
       "DS           59.66\n",
       "PS4          44.88\n",
       "XOne         42.82\n",
       "PC           35.35\n",
       "WiiU         29.24\n",
       "PSV          11.93\n",
       "PSP           9.65\n",
       "PS2           2.32"
      ]
     },
     "execution_count": 18,
     "metadata": {},
     "output_type": "execute_result"
    }
   ],
   "source": [
    "# North America user profile\n",
    "na_profile = game_relevant[\n",
    "    ['name', 'platform', 'year_of_release', 'genre', 'na_sales', 'critic_score', 'user_score', 'rating']]\n",
    "\n",
    "na_pivot = na_profile.pivot_table(index='platform', values='na_sales', aggfunc='sum', margins=True)\n",
    "na_pivot.sort_values(by='na_sales', ascending=False)"
   ]
  },
  {
   "cell_type": "code",
   "execution_count": 19,
   "metadata": {},
   "outputs": [
    {
     "data": {
      "text/html": [
       "<div>\n",
       "<style scoped>\n",
       "    .dataframe tbody tr th:only-of-type {\n",
       "        vertical-align: middle;\n",
       "    }\n",
       "\n",
       "    .dataframe tbody tr th {\n",
       "        vertical-align: top;\n",
       "    }\n",
       "\n",
       "    .dataframe thead th {\n",
       "        text-align: right;\n",
       "    }\n",
       "</style>\n",
       "<table border=\"1\" class=\"dataframe\">\n",
       "  <thead>\n",
       "    <tr style=\"text-align: right;\">\n",
       "      <th></th>\n",
       "      <th>na_sales</th>\n",
       "    </tr>\n",
       "    <tr>\n",
       "      <th>genre</th>\n",
       "      <th></th>\n",
       "    </tr>\n",
       "  </thead>\n",
       "  <tbody>\n",
       "    <tr>\n",
       "      <td>All</td>\n",
       "      <td>978.62</td>\n",
       "    </tr>\n",
       "    <tr>\n",
       "      <td>Action</td>\n",
       "      <td>256.96</td>\n",
       "    </tr>\n",
       "    <tr>\n",
       "      <td>Shooter</td>\n",
       "      <td>189.29</td>\n",
       "    </tr>\n",
       "    <tr>\n",
       "      <td>Sports</td>\n",
       "      <td>130.50</td>\n",
       "    </tr>\n",
       "    <tr>\n",
       "      <td>Misc</td>\n",
       "      <td>118.22</td>\n",
       "    </tr>\n",
       "    <tr>\n",
       "      <td>Role-Playing</td>\n",
       "      <td>92.23</td>\n",
       "    </tr>\n",
       "    <tr>\n",
       "      <td>Platform</td>\n",
       "      <td>51.12</td>\n",
       "    </tr>\n",
       "    <tr>\n",
       "      <td>Racing</td>\n",
       "      <td>43.29</td>\n",
       "    </tr>\n",
       "    <tr>\n",
       "      <td>Fighting</td>\n",
       "      <td>33.51</td>\n",
       "    </tr>\n",
       "    <tr>\n",
       "      <td>Simulation</td>\n",
       "      <td>25.03</td>\n",
       "    </tr>\n",
       "    <tr>\n",
       "      <td>Adventure</td>\n",
       "      <td>17.00</td>\n",
       "    </tr>\n",
       "    <tr>\n",
       "      <td>Strategy</td>\n",
       "      <td>12.43</td>\n",
       "    </tr>\n",
       "    <tr>\n",
       "      <td>Puzzle</td>\n",
       "      <td>9.04</td>\n",
       "    </tr>\n",
       "  </tbody>\n",
       "</table>\n",
       "</div>"
      ],
      "text/plain": [
       "              na_sales\n",
       "genre                 \n",
       "All             978.62\n",
       "Action          256.96\n",
       "Shooter         189.29\n",
       "Sports          130.50\n",
       "Misc            118.22\n",
       "Role-Playing     92.23\n",
       "Platform         51.12\n",
       "Racing           43.29\n",
       "Fighting         33.51\n",
       "Simulation       25.03\n",
       "Adventure        17.00\n",
       "Strategy         12.43\n",
       "Puzzle            9.04"
      ]
     },
     "execution_count": 19,
     "metadata": {},
     "output_type": "execute_result"
    }
   ],
   "source": [
    "na_genre = na_profile.pivot_table(index='genre', values='na_sales', aggfunc='sum', margins=True)\n",
    "na_genre.sort_values(by='na_sales', ascending=False)"
   ]
  },
  {
   "cell_type": "code",
   "execution_count": 20,
   "metadata": {},
   "outputs": [
    {
     "data": {
      "text/html": [
       "<div>\n",
       "<style scoped>\n",
       "    .dataframe tbody tr th:only-of-type {\n",
       "        vertical-align: middle;\n",
       "    }\n",
       "\n",
       "    .dataframe tbody tr th {\n",
       "        vertical-align: top;\n",
       "    }\n",
       "\n",
       "    .dataframe thead th {\n",
       "        text-align: right;\n",
       "    }\n",
       "</style>\n",
       "<table border=\"1\" class=\"dataframe\">\n",
       "  <thead>\n",
       "    <tr style=\"text-align: right;\">\n",
       "      <th></th>\n",
       "      <th>na_sales</th>\n",
       "    </tr>\n",
       "    <tr>\n",
       "      <th>rating</th>\n",
       "      <th></th>\n",
       "    </tr>\n",
       "  </thead>\n",
       "  <tbody>\n",
       "    <tr>\n",
       "      <td>All</td>\n",
       "      <td>978.62</td>\n",
       "    </tr>\n",
       "    <tr>\n",
       "      <td>M</td>\n",
       "      <td>335.19</td>\n",
       "    </tr>\n",
       "    <tr>\n",
       "      <td>E</td>\n",
       "      <td>244.56</td>\n",
       "    </tr>\n",
       "    <tr>\n",
       "      <td>E10+</td>\n",
       "      <td>141.51</td>\n",
       "    </tr>\n",
       "    <tr>\n",
       "      <td>T</td>\n",
       "      <td>137.95</td>\n",
       "    </tr>\n",
       "    <tr>\n",
       "      <td>Unknown</td>\n",
       "      <td>118.28</td>\n",
       "    </tr>\n",
       "    <tr>\n",
       "      <td>EC</td>\n",
       "      <td>1.13</td>\n",
       "    </tr>\n",
       "    <tr>\n",
       "      <td>RP</td>\n",
       "      <td>0.00</td>\n",
       "    </tr>\n",
       "  </tbody>\n",
       "</table>\n",
       "</div>"
      ],
      "text/plain": [
       "         na_sales\n",
       "rating           \n",
       "All        978.62\n",
       "M          335.19\n",
       "E          244.56\n",
       "E10+       141.51\n",
       "T          137.95\n",
       "Unknown    118.28\n",
       "EC           1.13\n",
       "RP           0.00"
      ]
     },
     "execution_count": 20,
     "metadata": {},
     "output_type": "execute_result"
    }
   ],
   "source": [
    "na_rating = na_profile.pivot_table(index='rating', values='na_sales', aggfunc='sum', margins=True)\n",
    "na_rating.sort_values(by='na_sales', ascending=False)"
   ]
  },
  {
   "cell_type": "code",
   "execution_count": 21,
   "metadata": {},
   "outputs": [
    {
     "data": {
      "text/html": [
       "<div>\n",
       "<style scoped>\n",
       "    .dataframe tbody tr th:only-of-type {\n",
       "        vertical-align: middle;\n",
       "    }\n",
       "\n",
       "    .dataframe tbody tr th {\n",
       "        vertical-align: top;\n",
       "    }\n",
       "\n",
       "    .dataframe thead th {\n",
       "        text-align: right;\n",
       "    }\n",
       "</style>\n",
       "<table border=\"1\" class=\"dataframe\">\n",
       "  <thead>\n",
       "    <tr style=\"text-align: right;\">\n",
       "      <th></th>\n",
       "      <th>eu_sales</th>\n",
       "    </tr>\n",
       "    <tr>\n",
       "      <th>platform</th>\n",
       "      <th></th>\n",
       "    </tr>\n",
       "  </thead>\n",
       "  <tbody>\n",
       "    <tr>\n",
       "      <td>All</td>\n",
       "      <td>693.27</td>\n",
       "    </tr>\n",
       "    <tr>\n",
       "      <td>PS3</td>\n",
       "      <td>206.30</td>\n",
       "    </tr>\n",
       "    <tr>\n",
       "      <td>X360</td>\n",
       "      <td>159.20</td>\n",
       "    </tr>\n",
       "    <tr>\n",
       "      <td>Wii</td>\n",
       "      <td>65.18</td>\n",
       "    </tr>\n",
       "    <tr>\n",
       "      <td>PC</td>\n",
       "      <td>59.72</td>\n",
       "    </tr>\n",
       "    <tr>\n",
       "      <td>PS4</td>\n",
       "      <td>57.55</td>\n",
       "    </tr>\n",
       "    <tr>\n",
       "      <td>3DS</td>\n",
       "      <td>53.88</td>\n",
       "    </tr>\n",
       "    <tr>\n",
       "      <td>DS</td>\n",
       "      <td>28.06</td>\n",
       "    </tr>\n",
       "    <tr>\n",
       "      <td>XOne</td>\n",
       "      <td>23.49</td>\n",
       "    </tr>\n",
       "    <tr>\n",
       "      <td>WiiU</td>\n",
       "      <td>18.64</td>\n",
       "    </tr>\n",
       "    <tr>\n",
       "      <td>PSV</td>\n",
       "      <td>11.99</td>\n",
       "    </tr>\n",
       "    <tr>\n",
       "      <td>PSP</td>\n",
       "      <td>7.59</td>\n",
       "    </tr>\n",
       "    <tr>\n",
       "      <td>PS2</td>\n",
       "      <td>1.67</td>\n",
       "    </tr>\n",
       "  </tbody>\n",
       "</table>\n",
       "</div>"
      ],
      "text/plain": [
       "          eu_sales\n",
       "platform          \n",
       "All         693.27\n",
       "PS3         206.30\n",
       "X360        159.20\n",
       "Wii          65.18\n",
       "PC           59.72\n",
       "PS4          57.55\n",
       "3DS          53.88\n",
       "DS           28.06\n",
       "XOne         23.49\n",
       "WiiU         18.64\n",
       "PSV          11.99\n",
       "PSP           7.59\n",
       "PS2           1.67"
      ]
     },
     "execution_count": 21,
     "metadata": {},
     "output_type": "execute_result"
    }
   ],
   "source": [
    "# Europe user profile\n",
    "eu_profile = game_relevant[\n",
    "    ['name', 'platform', 'year_of_release', 'genre', 'eu_sales', 'critic_score', 'user_score', 'rating']]\n",
    "\n",
    "eu_pivot = eu_profile.pivot_table(index='platform', values='eu_sales', aggfunc='sum', margins=True)\n",
    "eu_pivot.sort_values(by='eu_sales', ascending=False)"
   ]
  },
  {
   "cell_type": "code",
   "execution_count": 22,
   "metadata": {},
   "outputs": [
    {
     "data": {
      "text/html": [
       "<div>\n",
       "<style scoped>\n",
       "    .dataframe tbody tr th:only-of-type {\n",
       "        vertical-align: middle;\n",
       "    }\n",
       "\n",
       "    .dataframe tbody tr th {\n",
       "        vertical-align: top;\n",
       "    }\n",
       "\n",
       "    .dataframe thead th {\n",
       "        text-align: right;\n",
       "    }\n",
       "</style>\n",
       "<table border=\"1\" class=\"dataframe\">\n",
       "  <thead>\n",
       "    <tr style=\"text-align: right;\">\n",
       "      <th></th>\n",
       "      <th>eu_sales</th>\n",
       "    </tr>\n",
       "    <tr>\n",
       "      <th>genre</th>\n",
       "      <th></th>\n",
       "    </tr>\n",
       "  </thead>\n",
       "  <tbody>\n",
       "    <tr>\n",
       "      <td>All</td>\n",
       "      <td>693.27</td>\n",
       "    </tr>\n",
       "    <tr>\n",
       "      <td>Action</td>\n",
       "      <td>198.81</td>\n",
       "    </tr>\n",
       "    <tr>\n",
       "      <td>Shooter</td>\n",
       "      <td>131.17</td>\n",
       "    </tr>\n",
       "    <tr>\n",
       "      <td>Sports</td>\n",
       "      <td>89.02</td>\n",
       "    </tr>\n",
       "    <tr>\n",
       "      <td>Misc</td>\n",
       "      <td>61.83</td>\n",
       "    </tr>\n",
       "    <tr>\n",
       "      <td>Role-Playing</td>\n",
       "      <td>58.27</td>\n",
       "    </tr>\n",
       "    <tr>\n",
       "      <td>Racing</td>\n",
       "      <td>48.23</td>\n",
       "    </tr>\n",
       "    <tr>\n",
       "      <td>Platform</td>\n",
       "      <td>35.10</td>\n",
       "    </tr>\n",
       "    <tr>\n",
       "      <td>Simulation</td>\n",
       "      <td>22.65</td>\n",
       "    </tr>\n",
       "    <tr>\n",
       "      <td>Fighting</td>\n",
       "      <td>16.61</td>\n",
       "    </tr>\n",
       "    <tr>\n",
       "      <td>Adventure</td>\n",
       "      <td>14.21</td>\n",
       "    </tr>\n",
       "    <tr>\n",
       "      <td>Strategy</td>\n",
       "      <td>10.92</td>\n",
       "    </tr>\n",
       "    <tr>\n",
       "      <td>Puzzle</td>\n",
       "      <td>6.45</td>\n",
       "    </tr>\n",
       "  </tbody>\n",
       "</table>\n",
       "</div>"
      ],
      "text/plain": [
       "              eu_sales\n",
       "genre                 \n",
       "All             693.27\n",
       "Action          198.81\n",
       "Shooter         131.17\n",
       "Sports           89.02\n",
       "Misc             61.83\n",
       "Role-Playing     58.27\n",
       "Racing           48.23\n",
       "Platform         35.10\n",
       "Simulation       22.65\n",
       "Fighting         16.61\n",
       "Adventure        14.21\n",
       "Strategy         10.92\n",
       "Puzzle            6.45"
      ]
     },
     "execution_count": 22,
     "metadata": {},
     "output_type": "execute_result"
    }
   ],
   "source": [
    "eu_genre = eu_profile.pivot_table(index='genre', values='eu_sales', aggfunc='sum', margins=True)\n",
    "eu_genre.sort_values(by='eu_sales', ascending=False)"
   ]
  },
  {
   "cell_type": "code",
   "execution_count": 23,
   "metadata": {},
   "outputs": [
    {
     "data": {
      "text/html": [
       "<div>\n",
       "<style scoped>\n",
       "    .dataframe tbody tr th:only-of-type {\n",
       "        vertical-align: middle;\n",
       "    }\n",
       "\n",
       "    .dataframe tbody tr th {\n",
       "        vertical-align: top;\n",
       "    }\n",
       "\n",
       "    .dataframe thead th {\n",
       "        text-align: right;\n",
       "    }\n",
       "</style>\n",
       "<table border=\"1\" class=\"dataframe\">\n",
       "  <thead>\n",
       "    <tr style=\"text-align: right;\">\n",
       "      <th></th>\n",
       "      <th>eu_sales</th>\n",
       "    </tr>\n",
       "    <tr>\n",
       "      <th>rating</th>\n",
       "      <th></th>\n",
       "    </tr>\n",
       "  </thead>\n",
       "  <tbody>\n",
       "    <tr>\n",
       "      <td>All</td>\n",
       "      <td>693.27</td>\n",
       "    </tr>\n",
       "    <tr>\n",
       "      <td>M</td>\n",
       "      <td>246.50</td>\n",
       "    </tr>\n",
       "    <tr>\n",
       "      <td>E</td>\n",
       "      <td>162.51</td>\n",
       "    </tr>\n",
       "    <tr>\n",
       "      <td>Unknown</td>\n",
       "      <td>103.73</td>\n",
       "    </tr>\n",
       "    <tr>\n",
       "      <td>T</td>\n",
       "      <td>92.76</td>\n",
       "    </tr>\n",
       "    <tr>\n",
       "      <td>E10+</td>\n",
       "      <td>87.74</td>\n",
       "    </tr>\n",
       "    <tr>\n",
       "      <td>RP</td>\n",
       "      <td>0.03</td>\n",
       "    </tr>\n",
       "    <tr>\n",
       "      <td>EC</td>\n",
       "      <td>0.00</td>\n",
       "    </tr>\n",
       "  </tbody>\n",
       "</table>\n",
       "</div>"
      ],
      "text/plain": [
       "         eu_sales\n",
       "rating           \n",
       "All        693.27\n",
       "M          246.50\n",
       "E          162.51\n",
       "Unknown    103.73\n",
       "T           92.76\n",
       "E10+        87.74\n",
       "RP           0.03\n",
       "EC           0.00"
      ]
     },
     "execution_count": 23,
     "metadata": {},
     "output_type": "execute_result"
    }
   ],
   "source": [
    "eu_rating = eu_profile.pivot_table(index='rating', values='eu_sales', aggfunc='sum', margins=True)\n",
    "eu_rating.sort_values(by='eu_sales', ascending=False)"
   ]
  },
  {
   "cell_type": "code",
   "execution_count": 24,
   "metadata": {},
   "outputs": [
    {
     "data": {
      "text/html": [
       "<div>\n",
       "<style scoped>\n",
       "    .dataframe tbody tr th:only-of-type {\n",
       "        vertical-align: middle;\n",
       "    }\n",
       "\n",
       "    .dataframe tbody tr th {\n",
       "        vertical-align: top;\n",
       "    }\n",
       "\n",
       "    .dataframe thead th {\n",
       "        text-align: right;\n",
       "    }\n",
       "</style>\n",
       "<table border=\"1\" class=\"dataframe\">\n",
       "  <thead>\n",
       "    <tr style=\"text-align: right;\">\n",
       "      <th></th>\n",
       "      <th>jp_sales</th>\n",
       "    </tr>\n",
       "    <tr>\n",
       "      <th>platform</th>\n",
       "      <th></th>\n",
       "    </tr>\n",
       "  </thead>\n",
       "  <tbody>\n",
       "    <tr>\n",
       "      <td>All</td>\n",
       "      <td>251.74</td>\n",
       "    </tr>\n",
       "    <tr>\n",
       "      <td>3DS</td>\n",
       "      <td>77.07</td>\n",
       "    </tr>\n",
       "    <tr>\n",
       "      <td>PS3</td>\n",
       "      <td>54.29</td>\n",
       "    </tr>\n",
       "    <tr>\n",
       "      <td>PSP</td>\n",
       "      <td>42.08</td>\n",
       "    </tr>\n",
       "    <tr>\n",
       "      <td>DS</td>\n",
       "      <td>27.90</td>\n",
       "    </tr>\n",
       "    <tr>\n",
       "      <td>Wii</td>\n",
       "      <td>17.75</td>\n",
       "    </tr>\n",
       "    <tr>\n",
       "      <td>PSV</td>\n",
       "      <td>13.43</td>\n",
       "    </tr>\n",
       "    <tr>\n",
       "      <td>WiiU</td>\n",
       "      <td>8.89</td>\n",
       "    </tr>\n",
       "    <tr>\n",
       "      <td>X360</td>\n",
       "      <td>5.46</td>\n",
       "    </tr>\n",
       "    <tr>\n",
       "      <td>PS4</td>\n",
       "      <td>3.91</td>\n",
       "    </tr>\n",
       "    <tr>\n",
       "      <td>PS2</td>\n",
       "      <td>0.80</td>\n",
       "    </tr>\n",
       "    <tr>\n",
       "      <td>XOne</td>\n",
       "      <td>0.16</td>\n",
       "    </tr>\n",
       "    <tr>\n",
       "      <td>PC</td>\n",
       "      <td>0.00</td>\n",
       "    </tr>\n",
       "  </tbody>\n",
       "</table>\n",
       "</div>"
      ],
      "text/plain": [
       "          jp_sales\n",
       "platform          \n",
       "All         251.74\n",
       "3DS          77.07\n",
       "PS3          54.29\n",
       "PSP          42.08\n",
       "DS           27.90\n",
       "Wii          17.75\n",
       "PSV          13.43\n",
       "WiiU          8.89\n",
       "X360          5.46\n",
       "PS4           3.91\n",
       "PS2           0.80\n",
       "XOne          0.16\n",
       "PC            0.00"
      ]
     },
     "execution_count": 24,
     "metadata": {},
     "output_type": "execute_result"
    }
   ],
   "source": [
    "# Japan user profile\n",
    "jp_profile = game_relevant[\n",
    "    ['name', 'platform', 'year_of_release', 'genre', 'jp_sales', 'critic_score', 'user_score', 'rating']]\n",
    "\n",
    "jp_pivot = jp_profile.pivot_table(index='platform', values='jp_sales', aggfunc='sum', margins=True)\n",
    "jp_pivot.sort_values(by='jp_sales', ascending=False)"
   ]
  },
  {
   "cell_type": "code",
   "execution_count": 25,
   "metadata": {},
   "outputs": [
    {
     "data": {
      "text/html": [
       "<div>\n",
       "<style scoped>\n",
       "    .dataframe tbody tr th:only-of-type {\n",
       "        vertical-align: middle;\n",
       "    }\n",
       "\n",
       "    .dataframe tbody tr th {\n",
       "        vertical-align: top;\n",
       "    }\n",
       "\n",
       "    .dataframe thead th {\n",
       "        text-align: right;\n",
       "    }\n",
       "</style>\n",
       "<table border=\"1\" class=\"dataframe\">\n",
       "  <thead>\n",
       "    <tr style=\"text-align: right;\">\n",
       "      <th></th>\n",
       "      <th>jp_sales</th>\n",
       "    </tr>\n",
       "    <tr>\n",
       "      <th>genre</th>\n",
       "      <th></th>\n",
       "    </tr>\n",
       "  </thead>\n",
       "  <tbody>\n",
       "    <tr>\n",
       "      <td>All</td>\n",
       "      <td>251.74</td>\n",
       "    </tr>\n",
       "    <tr>\n",
       "      <td>Role-Playing</td>\n",
       "      <td>90.13</td>\n",
       "    </tr>\n",
       "    <tr>\n",
       "      <td>Action</td>\n",
       "      <td>49.15</td>\n",
       "    </tr>\n",
       "    <tr>\n",
       "      <td>Misc</td>\n",
       "      <td>21.10</td>\n",
       "    </tr>\n",
       "    <tr>\n",
       "      <td>Platform</td>\n",
       "      <td>14.39</td>\n",
       "    </tr>\n",
       "    <tr>\n",
       "      <td>Sports</td>\n",
       "      <td>13.86</td>\n",
       "    </tr>\n",
       "    <tr>\n",
       "      <td>Adventure</td>\n",
       "      <td>13.45</td>\n",
       "    </tr>\n",
       "    <tr>\n",
       "      <td>Fighting</td>\n",
       "      <td>12.36</td>\n",
       "    </tr>\n",
       "    <tr>\n",
       "      <td>Simulation</td>\n",
       "      <td>11.37</td>\n",
       "    </tr>\n",
       "    <tr>\n",
       "      <td>Shooter</td>\n",
       "      <td>10.25</td>\n",
       "    </tr>\n",
       "    <tr>\n",
       "      <td>Strategy</td>\n",
       "      <td>6.41</td>\n",
       "    </tr>\n",
       "    <tr>\n",
       "      <td>Racing</td>\n",
       "      <td>6.39</td>\n",
       "    </tr>\n",
       "    <tr>\n",
       "      <td>Puzzle</td>\n",
       "      <td>2.88</td>\n",
       "    </tr>\n",
       "  </tbody>\n",
       "</table>\n",
       "</div>"
      ],
      "text/plain": [
       "              jp_sales\n",
       "genre                 \n",
       "All             251.74\n",
       "Role-Playing     90.13\n",
       "Action           49.15\n",
       "Misc             21.10\n",
       "Platform         14.39\n",
       "Sports           13.86\n",
       "Adventure        13.45\n",
       "Fighting         12.36\n",
       "Simulation       11.37\n",
       "Shooter          10.25\n",
       "Strategy          6.41\n",
       "Racing            6.39\n",
       "Puzzle            2.88"
      ]
     },
     "execution_count": 25,
     "metadata": {},
     "output_type": "execute_result"
    }
   ],
   "source": [
    "jp_genre = jp_profile.pivot_table(index='genre', values='jp_sales', aggfunc='sum', margins=True)\n",
    "jp_genre.sort_values(by='jp_sales', ascending=False)"
   ]
  },
  {
   "cell_type": "code",
   "execution_count": 26,
   "metadata": {},
   "outputs": [
    {
     "data": {
      "text/html": [
       "<div>\n",
       "<style scoped>\n",
       "    .dataframe tbody tr th:only-of-type {\n",
       "        vertical-align: middle;\n",
       "    }\n",
       "\n",
       "    .dataframe tbody tr th {\n",
       "        vertical-align: top;\n",
       "    }\n",
       "\n",
       "    .dataframe thead th {\n",
       "        text-align: right;\n",
       "    }\n",
       "</style>\n",
       "<table border=\"1\" class=\"dataframe\">\n",
       "  <thead>\n",
       "    <tr style=\"text-align: right;\">\n",
       "      <th></th>\n",
       "      <th>jp_sales</th>\n",
       "    </tr>\n",
       "    <tr>\n",
       "      <th>rating</th>\n",
       "      <th></th>\n",
       "    </tr>\n",
       "  </thead>\n",
       "  <tbody>\n",
       "    <tr>\n",
       "      <td>All</td>\n",
       "      <td>251.74</td>\n",
       "    </tr>\n",
       "    <tr>\n",
       "      <td>Unknown</td>\n",
       "      <td>138.60</td>\n",
       "    </tr>\n",
       "    <tr>\n",
       "      <td>E</td>\n",
       "      <td>42.62</td>\n",
       "    </tr>\n",
       "    <tr>\n",
       "      <td>T</td>\n",
       "      <td>34.41</td>\n",
       "    </tr>\n",
       "    <tr>\n",
       "      <td>M</td>\n",
       "      <td>26.16</td>\n",
       "    </tr>\n",
       "    <tr>\n",
       "      <td>E10+</td>\n",
       "      <td>9.95</td>\n",
       "    </tr>\n",
       "    <tr>\n",
       "      <td>EC</td>\n",
       "      <td>0.00</td>\n",
       "    </tr>\n",
       "    <tr>\n",
       "      <td>RP</td>\n",
       "      <td>0.00</td>\n",
       "    </tr>\n",
       "  </tbody>\n",
       "</table>\n",
       "</div>"
      ],
      "text/plain": [
       "         jp_sales\n",
       "rating           \n",
       "All        251.74\n",
       "Unknown    138.60\n",
       "E           42.62\n",
       "T           34.41\n",
       "M           26.16\n",
       "E10+         9.95\n",
       "EC           0.00\n",
       "RP           0.00"
      ]
     },
     "execution_count": 26,
     "metadata": {},
     "output_type": "execute_result"
    }
   ],
   "source": [
    "jp_rating = jp_profile.pivot_table(index='rating', values='jp_sales', aggfunc='sum', margins=True)\n",
    "jp_rating.sort_values(by='jp_sales', ascending=False)"
   ]
  },
  {
   "cell_type": "markdown",
   "metadata": {},
   "source": [
    "### Conclusion\n",
    "\n",
    "A user profile was created for North America, Europe, and Japan and the following were observed:\n",
    " \n",
    "***North America (NA):*** The top five platforms that produced the most sales are: X360, PS3, Wii, 3DS, and DS. The NA region is making the most video game sales compared to EU and JP. The top five game genres that produced the most sales are: action, shooter, sports, miscellaneous, and role-playing. These most popular genres are identical to EU's, possibly because&mdash;in addition to both regions' most popular platforms also being similar&mdash;the platforms these game genres are played on requires a television to plug in; JP's popular platforms are mostly hand-held consoles. The ESRB rating that generates the most sales is M.\n",
    " \n",
    "***Europe (EU):*** The top five platforms that produced the most sales are: PS3, X360, Wii, PC, and PS4. The EU region makes more video game sales than JP, however EU makes less sales compared to NA. The top five game genres that produced the most sales are: action, shooter, sports, miscellaneous, and role-playing. These most popular genres are identical to NA's, possibly because&mdash;in addition to both regions' most popular platforms also being similar&mdash;the platforms these game genres are played on requires a television to plug in; JP's popular platforms are mostly hand-held consoles. The ESRB rating that generates the most sales is M.\n",
    " \n",
    "***Japan (JP):*** The top five platforms that produced the most sales are: 3DS, PS3, PSP, DS, and Wii. The JP region makes the least video game sales than NA and EU. The top five game genres that produced the most sales are: role-playing, action, miscellaneous, platform, and sports. These most popular genres have games that are released for hand-held platforms which coincidentally are the most popular platforms in JP. The EU and NA have similar genres and platforms in their regions and those platforms are mostly television plug-in consoles. The ESRB rating that generates the most sales is indeterminate since *Unknown* is what was put in place of the missing values. However, disregarding the unknown genre group, the next ESRB rating that generates the most sales is E."
   ]
  },
  {
   "cell_type": "markdown",
   "metadata": {},
   "source": [
    "## Testing hypotheses\n",
    "\n",
    "1. Is there a difference between the average user ratings of the Xbox One and PC platforms?\n",
    "2. Is there a difference between the average user ratings for the action and sports video game genres?"
   ]
  },
  {
   "cell_type": "code",
   "execution_count": 27,
   "metadata": {},
   "outputs": [
    {
     "name": "stdout",
     "output_type": "stream",
     "text": [
      "count    182.000000\n",
      "mean       6.521429\n",
      "std        1.380941\n",
      "min        1.600000\n",
      "25%        5.800000\n",
      "50%        6.800000\n",
      "75%        7.500000\n",
      "max        9.200000\n",
      "Name: user_score, dtype: float64\n",
      "Variance (xbox): 1.9069968429360695\n",
      "\n",
      "count    755.000000\n",
      "mean       7.065960\n",
      "std        1.532718\n",
      "min        1.400000\n",
      "25%        6.200000\n",
      "50%        7.500000\n",
      "75%        8.200000\n",
      "max        9.300000\n",
      "Name: user_score, dtype: float64\n",
      "Variance (pc_plat): 2.3492243750768527\n"
     ]
    }
   ],
   "source": [
    "# calculating variance and standard deviation for average user ratings of the Xbox One and PC platforms\n",
    "xbox = game_data.query('platform == \"XOne\"')\n",
    "pc_plat = game_data.query('platform == \"PC\"')\n",
    "\n",
    "print(xbox['user_score'].describe())\n",
    "print('Variance (xbox):', xbox['user_score'].var())\n",
    "print()\n",
    "print(pc_plat['user_score'].describe())\n",
    "print('Variance (pc_plat):', pc_plat['user_score'].var())"
   ]
  },
  {
   "cell_type": "code",
   "execution_count": 28,
   "metadata": {},
   "outputs": [
    {
     "name": "stdout",
     "output_type": "stream",
     "text": [
      "p-value: 4.538580296377245e-06\n",
      "We reject the null hypothesis\n"
     ]
    }
   ],
   "source": [
    "# Is there a difference between the average user ratings of the Xbox One and PC platforms?\n",
    "\n",
    "# hypothesis testing\n",
    "alpha = 0.05\n",
    "results = st.ttest_ind(xbox['user_score'], pc_plat['user_score'], equal_var=False, nan_policy='omit')\n",
    "\n",
    "print('p-value:', results.pvalue)\n",
    "\n",
    "if results.pvalue < alpha:\n",
    "    print(\"We reject the null hypothesis\")\n",
    "else:\n",
    "    print(\"We can't reject the null hypothesis\")"
   ]
  },
  {
   "cell_type": "code",
   "execution_count": 29,
   "metadata": {},
   "outputs": [
    {
     "name": "stdout",
     "output_type": "stream",
     "text": [
      "count    1796.000000\n",
      "mean        7.058129\n",
      "std         1.423901\n",
      "min         0.300000\n",
      "25%         6.300000\n",
      "50%         7.400000\n",
      "75%         8.100000\n",
      "max         9.500000\n",
      "Name: user_score, dtype: float64\n",
      "Variance (action): 2.027493768262496\n",
      "\n",
      "count    1081.000000\n",
      "mean        6.951434\n",
      "std         1.619585\n",
      "min         0.200000\n",
      "25%         6.100000\n",
      "50%         7.400000\n",
      "75%         8.100000\n",
      "max         9.500000\n",
      "Name: user_score, dtype: float64\n",
      "Variance (sports): 2.6230558125192722\n"
     ]
    }
   ],
   "source": [
    "# calculating variance and standard deviation for average user ratings of the Xbox One and PC platforms\n",
    "action = game_data.query('genre == \"Action\"')\n",
    "sports = game_data.query('genre == \"Sports\"')\n",
    "\n",
    "print(action['user_score'].describe())\n",
    "print('Variance (action):', action['user_score'].var())\n",
    "print()\n",
    "print(sports['user_score'].describe())\n",
    "print('Variance (sports):', sports['user_score'].var())"
   ]
  },
  {
   "cell_type": "code",
   "execution_count": 30,
   "metadata": {},
   "outputs": [
    {
     "name": "stdout",
     "output_type": "stream",
     "text": [
      "p-value: 0.07370217419286358\n",
      "We can't reject the null hypothesis\n"
     ]
    }
   ],
   "source": [
    "# Is there a difference between the average user ratings for the action and sports video game genres?\n",
    "\n",
    "# hypothesis testing\n",
    "alpha = 0.05\n",
    "results = st.ttest_ind(action['user_score'], sports['user_score'], equal_var=False, nan_policy='omit')\n",
    "\n",
    "print('p-value:', results.pvalue)\n",
    "\n",
    "if results.pvalue < alpha:\n",
    "    print(\"We reject the null hypothesis\")\n",
    "else:\n",
    "    print(\"We can't reject the null hypothesis\")"
   ]
  },
  {
   "cell_type": "markdown",
   "metadata": {},
   "source": [
    "### Conclusion\n",
    "\n",
    "For the first hypothesis test we have the following:\n",
    "\n",
    "$H_{0}$: The average user ratings is equal for the Xbox One and PC.\n",
    "<br>$H_{a}$: The average user ratings is not equal for the Xbox One and PC.\n",
    "\n",
    "The null hypothesis usually indicates no change or that the items being compared are equal to each other. The alternative hypothesis would be sensical to be the opposite, which is to indicate a change or that the items being compared are not equal to each other. Thus, the aforementioned hypotheses were formulated to analyze average user ratings of the Xbox One and PC platforms. An alpha value of 0.05 was used since it is the most commonly used statistical significance level.\n",
    "\n",
    "With a p-value of approximately 4.54e-06 (a small number), which is less than 0.05, we reject $H_{0}$ and determine that the average user ratings is not equal for the Xbox One and PC.\n",
    "\n",
    "For the second hypothesis test we have the following:\n",
    "\n",
    "$H_{0}$: The average user ratings is equal for the action and sports video game genres.\n",
    "<br>$H_{a}$: The average user ratings is not equal for the action and sports video game genres.\n",
    "\n",
    "To reiterate, the null hypothesis usually indicates no change or that the items being compared are equal to each other. The alternative hypothesis would be sensical to be the opposite, which is to indicate a change or that the items being compared are not equal to each other. Thus, the aforementioned hypotheses were formulated to analyze the average user ratings for the action and sports video game genres. An alpha value of 0.05 was used since it is the most commonly used statistical significance level.\n",
    "\n",
    "With a p-value of approximately 0.0737, we do not reject $H_{0}$ and determine that the average user ratings is equal for the action and sports video game genres."
   ]
  }
 ],
 "metadata": {
  "ExecuteTimeLog": [
   {
    "duration": 804,
    "start_time": "2021-06-10T17:51:48.159Z"
   },
   {
    "duration": 27,
    "start_time": "2021-06-10T17:51:48.966Z"
   },
   {
    "duration": 6424,
    "start_time": "2021-06-10T17:58:45.228Z"
   },
   {
    "duration": 31,
    "start_time": "2021-06-10T17:59:29.219Z"
   },
   {
    "duration": 44,
    "start_time": "2021-06-10T18:13:55.776Z"
   },
   {
    "duration": 31,
    "start_time": "2021-06-10T18:14:00.377Z"
   },
   {
    "duration": 45,
    "start_time": "2021-06-10T18:14:12.783Z"
   },
   {
    "duration": 46,
    "start_time": "2021-06-10T18:14:30.372Z"
   },
   {
    "duration": 278,
    "start_time": "2021-06-10T18:15:38.869Z"
   },
   {
    "duration": 36,
    "start_time": "2021-06-10T18:15:49.192Z"
   },
   {
    "duration": 44,
    "start_time": "2021-06-10T18:15:56.381Z"
   },
   {
    "duration": 47,
    "start_time": "2021-06-10T18:19:38.363Z"
   },
   {
    "duration": 49,
    "start_time": "2021-06-10T18:23:09.736Z"
   },
   {
    "duration": 41,
    "start_time": "2021-06-10T18:23:37.127Z"
   },
   {
    "duration": 43,
    "start_time": "2021-06-10T18:23:42.129Z"
   },
   {
    "duration": 30,
    "start_time": "2021-06-10T18:26:45.923Z"
   },
   {
    "duration": 30,
    "start_time": "2021-06-10T18:26:54.978Z"
   },
   {
    "duration": 28,
    "start_time": "2021-06-10T18:27:18.155Z"
   },
   {
    "duration": 27,
    "start_time": "2021-06-10T18:27:27.686Z"
   },
   {
    "duration": 51,
    "start_time": "2021-06-10T20:35:30.453Z"
   },
   {
    "duration": 52,
    "start_time": "2021-06-10T20:36:04.380Z"
   },
   {
    "duration": 22,
    "start_time": "2021-06-10T20:38:42.703Z"
   },
   {
    "duration": 30,
    "start_time": "2021-06-10T20:45:57.706Z"
   },
   {
    "duration": 33,
    "start_time": "2021-06-10T20:46:26.637Z"
   },
   {
    "duration": 763,
    "start_time": "2021-06-10T20:46:56.426Z"
   },
   {
    "duration": 27,
    "start_time": "2021-06-10T20:46:57.192Z"
   },
   {
    "duration": 21,
    "start_time": "2021-06-10T20:46:57.222Z"
   },
   {
    "duration": 32,
    "start_time": "2021-06-10T20:47:22.555Z"
   },
   {
    "duration": 735,
    "start_time": "2021-06-10T20:47:48.218Z"
   },
   {
    "duration": 33,
    "start_time": "2021-06-10T20:47:48.956Z"
   },
   {
    "duration": 23,
    "start_time": "2021-06-10T20:47:48.992Z"
   },
   {
    "duration": 733,
    "start_time": "2021-06-10T21:16:07.214Z"
   },
   {
    "duration": 37,
    "start_time": "2021-06-10T21:16:07.950Z"
   },
   {
    "duration": 23,
    "start_time": "2021-06-10T21:16:07.990Z"
   },
   {
    "duration": 31,
    "start_time": "2021-06-10T21:16:17.395Z"
   },
   {
    "duration": 18,
    "start_time": "2021-06-10T21:21:44.451Z"
   },
   {
    "duration": 9,
    "start_time": "2021-06-10T21:23:49.622Z"
   },
   {
    "duration": 18,
    "start_time": "2021-06-10T21:24:31.216Z"
   },
   {
    "duration": 16,
    "start_time": "2021-06-10T21:24:47.281Z"
   },
   {
    "duration": 31,
    "start_time": "2021-06-10T21:28:52.738Z"
   },
   {
    "duration": 22,
    "start_time": "2021-06-10T21:31:24.549Z"
   },
   {
    "duration": 22,
    "start_time": "2021-06-10T21:31:53.683Z"
   },
   {
    "duration": 13,
    "start_time": "2021-06-10T21:32:45.338Z"
   },
   {
    "duration": 12,
    "start_time": "2021-06-10T21:33:05.412Z"
   },
   {
    "duration": 11,
    "start_time": "2021-06-10T21:33:38.585Z"
   },
   {
    "duration": 10,
    "start_time": "2021-06-10T21:33:54.996Z"
   },
   {
    "duration": 21,
    "start_time": "2021-06-10T21:41:11.926Z"
   },
   {
    "duration": 19,
    "start_time": "2021-06-10T21:41:45.124Z"
   },
   {
    "duration": 21,
    "start_time": "2021-06-10T21:43:20.175Z"
   },
   {
    "duration": 15,
    "start_time": "2021-06-10T21:44:31.967Z"
   },
   {
    "duration": 800,
    "start_time": "2021-06-10T21:46:47.870Z"
   },
   {
    "duration": 391,
    "start_time": "2021-06-10T21:46:48.674Z"
   },
   {
    "duration": 818,
    "start_time": "2021-06-10T21:46:48.250Z"
   },
   {
    "duration": 636,
    "start_time": "2021-06-10T21:46:48.434Z"
   },
   {
    "duration": 636,
    "start_time": "2021-06-10T21:46:48.436Z"
   },
   {
    "duration": 993,
    "start_time": "2021-06-10T21:47:56.621Z"
   },
   {
    "duration": 34,
    "start_time": "2021-06-10T21:47:57.617Z"
   },
   {
    "duration": 45,
    "start_time": "2021-06-10T21:47:57.654Z"
   },
   {
    "duration": 22,
    "start_time": "2021-06-10T21:47:57.702Z"
   },
   {
    "duration": 22,
    "start_time": "2021-06-10T21:47:57.727Z"
   },
   {
    "duration": 23,
    "start_time": "2021-06-10T21:48:34.250Z"
   },
   {
    "duration": 777,
    "start_time": "2021-06-10T21:48:47.540Z"
   },
   {
    "duration": 28,
    "start_time": "2021-06-10T21:48:48.320Z"
   },
   {
    "duration": 39,
    "start_time": "2021-06-10T21:48:48.351Z"
   },
   {
    "duration": 22,
    "start_time": "2021-06-10T21:48:48.393Z"
   },
   {
    "duration": 16,
    "start_time": "2021-06-10T21:48:48.417Z"
   },
   {
    "duration": 23,
    "start_time": "2021-06-10T21:49:18.654Z"
   },
   {
    "duration": 996,
    "start_time": "2021-06-10T21:50:40.598Z"
   },
   {
    "duration": 35,
    "start_time": "2021-06-10T21:50:41.597Z"
   },
   {
    "duration": 29,
    "start_time": "2021-06-10T21:50:41.635Z"
   },
   {
    "duration": 32,
    "start_time": "2021-06-10T21:50:41.684Z"
   },
   {
    "duration": 31,
    "start_time": "2021-06-10T21:50:41.719Z"
   },
   {
    "duration": 23,
    "start_time": "2021-06-10T21:51:22.614Z"
   },
   {
    "duration": 15,
    "start_time": "2021-06-10T21:52:29.551Z"
   },
   {
    "duration": 13,
    "start_time": "2021-06-10T21:52:34.099Z"
   },
   {
    "duration": 25,
    "start_time": "2021-06-10T21:52:43.761Z"
   },
   {
    "duration": 28,
    "start_time": "2021-06-10T21:53:34.291Z"
   },
   {
    "duration": 23,
    "start_time": "2021-06-10T21:54:03.023Z"
   },
   {
    "duration": 794,
    "start_time": "2021-06-10T22:03:14.066Z"
   },
   {
    "duration": 26,
    "start_time": "2021-06-10T22:03:14.862Z"
   },
   {
    "duration": 19,
    "start_time": "2021-06-10T22:03:14.891Z"
   },
   {
    "duration": 19,
    "start_time": "2021-06-10T22:03:14.913Z"
   },
   {
    "duration": 54,
    "start_time": "2021-06-10T22:03:14.935Z"
   },
   {
    "duration": 19,
    "start_time": "2021-06-10T22:03:43.262Z"
   },
   {
    "duration": 19,
    "start_time": "2021-06-10T22:04:03.350Z"
   },
   {
    "duration": 20,
    "start_time": "2021-06-10T22:04:42.890Z"
   },
   {
    "duration": 781,
    "start_time": "2021-06-10T22:07:09.477Z"
   },
   {
    "duration": 27,
    "start_time": "2021-06-10T22:07:10.260Z"
   },
   {
    "duration": 20,
    "start_time": "2021-06-10T22:07:10.290Z"
   },
   {
    "duration": 21,
    "start_time": "2021-06-10T22:07:10.312Z"
   },
   {
    "duration": 50,
    "start_time": "2021-06-10T22:07:10.335Z"
   },
   {
    "duration": 19,
    "start_time": "2021-06-10T22:10:12.621Z"
   },
   {
    "duration": 15,
    "start_time": "2021-06-10T22:10:16.532Z"
   },
   {
    "duration": 329,
    "start_time": "2021-06-10T22:11:18.168Z"
   },
   {
    "duration": 36,
    "start_time": "2021-06-10T22:11:44.127Z"
   },
   {
    "duration": 24,
    "start_time": "2021-06-10T22:15:29.970Z"
   },
   {
    "duration": 18,
    "start_time": "2021-06-10T22:19:35.978Z"
   },
   {
    "duration": 872,
    "start_time": "2021-06-10T22:30:04.503Z"
   },
   {
    "duration": 27,
    "start_time": "2021-06-10T22:30:05.378Z"
   },
   {
    "duration": 24,
    "start_time": "2021-06-10T22:30:05.408Z"
   },
   {
    "duration": 50,
    "start_time": "2021-06-10T22:30:05.435Z"
   },
   {
    "duration": 19,
    "start_time": "2021-06-10T22:30:05.488Z"
   },
   {
    "duration": 3,
    "start_time": "2021-06-10T22:30:05.510Z"
   },
   {
    "duration": 261,
    "start_time": "2021-06-10T22:32:38.023Z"
   },
   {
    "duration": 288,
    "start_time": "2021-06-10T22:32:56.179Z"
   },
   {
    "duration": 384,
    "start_time": "2021-06-10T22:34:33.369Z"
   },
   {
    "duration": 275,
    "start_time": "2021-06-10T22:34:49.157Z"
   },
   {
    "duration": 298,
    "start_time": "2021-06-10T22:34:53.305Z"
   },
   {
    "duration": 278,
    "start_time": "2021-06-10T22:35:02.965Z"
   },
   {
    "duration": 289,
    "start_time": "2021-06-10T22:36:03.359Z"
   },
   {
    "duration": 277,
    "start_time": "2021-06-10T22:37:10.173Z"
   },
   {
    "duration": 272,
    "start_time": "2021-06-10T22:37:23.461Z"
   },
   {
    "duration": 277,
    "start_time": "2021-06-10T22:37:31.094Z"
   },
   {
    "duration": 368,
    "start_time": "2021-06-10T22:38:02.229Z"
   },
   {
    "duration": 364,
    "start_time": "2021-06-10T22:42:09.082Z"
   },
   {
    "duration": 377,
    "start_time": "2021-06-10T22:42:16.161Z"
   },
   {
    "duration": 277,
    "start_time": "2021-06-10T22:43:36.558Z"
   },
   {
    "duration": 274,
    "start_time": "2021-06-10T22:43:43.370Z"
   },
   {
    "duration": 544,
    "start_time": "2021-06-10T22:43:55.666Z"
   },
   {
    "duration": 392,
    "start_time": "2021-06-10T22:44:00.371Z"
   },
   {
    "duration": 409,
    "start_time": "2021-06-10T22:47:32.939Z"
   },
   {
    "duration": 674,
    "start_time": "2021-06-10T22:50:11.192Z"
   },
   {
    "duration": 781,
    "start_time": "2021-06-10T22:50:47.077Z"
   },
   {
    "duration": 545,
    "start_time": "2021-06-10T22:50:55.768Z"
   },
   {
    "duration": 295,
    "start_time": "2021-06-10T22:51:23.478Z"
   },
   {
    "duration": 487,
    "start_time": "2021-06-10T22:53:37.178Z"
   },
   {
    "duration": 478,
    "start_time": "2021-06-10T22:55:29.509Z"
   },
   {
    "duration": 49,
    "start_time": "2021-06-10T22:55:44.342Z"
   },
   {
    "duration": 553,
    "start_time": "2021-06-10T22:55:47.972Z"
   },
   {
    "duration": 282,
    "start_time": "2021-06-10T22:56:50.721Z"
   },
   {
    "duration": 470,
    "start_time": "2021-06-10T22:56:57.715Z"
   },
   {
    "duration": 260,
    "start_time": "2021-06-10T22:59:18.906Z"
   },
   {
    "duration": 298,
    "start_time": "2021-06-10T22:59:54.270Z"
   },
   {
    "duration": 641,
    "start_time": "2021-06-10T23:00:03.431Z"
   },
   {
    "duration": 516,
    "start_time": "2021-06-10T23:00:20.624Z"
   },
   {
    "duration": 555,
    "start_time": "2021-06-10T23:00:28.190Z"
   },
   {
    "duration": 402,
    "start_time": "2021-06-10T23:00:36.275Z"
   },
   {
    "duration": 308,
    "start_time": "2021-06-10T23:00:47.133Z"
   },
   {
    "duration": 372,
    "start_time": "2021-06-10T23:00:54.304Z"
   },
   {
    "duration": 879,
    "start_time": "2021-06-10T23:05:21.685Z"
   },
   {
    "duration": 26,
    "start_time": "2021-06-10T23:05:22.567Z"
   },
   {
    "duration": 21,
    "start_time": "2021-06-10T23:05:22.596Z"
   },
   {
    "duration": 21,
    "start_time": "2021-06-10T23:05:22.619Z"
   },
   {
    "duration": 63,
    "start_time": "2021-06-10T23:05:22.642Z"
   },
   {
    "duration": 433,
    "start_time": "2021-06-10T23:05:22.707Z"
   },
   {
    "duration": 3,
    "start_time": "2021-06-10T23:05:23.143Z"
   },
   {
    "duration": 59,
    "start_time": "2021-06-10T23:08:57.217Z"
   },
   {
    "duration": 21,
    "start_time": "2021-06-10T23:09:34.574Z"
   },
   {
    "duration": 60,
    "start_time": "2021-06-10T23:14:46.632Z"
   },
   {
    "duration": 21,
    "start_time": "2021-06-10T23:14:57.569Z"
   },
   {
    "duration": 27,
    "start_time": "2021-06-10T23:15:54.974Z"
   },
   {
    "duration": 25,
    "start_time": "2021-06-10T23:16:30.024Z"
   },
   {
    "duration": 31,
    "start_time": "2021-06-10T23:16:40.873Z"
   },
   {
    "duration": 30,
    "start_time": "2021-06-10T23:16:54.591Z"
   },
   {
    "duration": 27,
    "start_time": "2021-06-10T23:22:20.381Z"
   },
   {
    "duration": 34,
    "start_time": "2021-06-10T23:22:33.338Z"
   },
   {
    "duration": 31,
    "start_time": "2021-06-10T23:22:44.196Z"
   },
   {
    "duration": 32,
    "start_time": "2021-06-10T23:22:48.454Z"
   },
   {
    "duration": 21,
    "start_time": "2021-06-10T23:29:50.885Z"
   },
   {
    "duration": 63,
    "start_time": "2021-06-10T23:30:03.276Z"
   },
   {
    "duration": 1524,
    "start_time": "2021-06-10T23:30:51.785Z"
   },
   {
    "duration": 26,
    "start_time": "2021-06-10T23:30:53.311Z"
   },
   {
    "duration": 20,
    "start_time": "2021-06-10T23:30:53.340Z"
   },
   {
    "duration": 38,
    "start_time": "2021-06-10T23:30:53.363Z"
   },
   {
    "duration": 34,
    "start_time": "2021-06-10T23:30:53.403Z"
   },
   {
    "duration": 424,
    "start_time": "2021-06-10T23:30:53.440Z"
   },
   {
    "duration": 67,
    "start_time": "2021-06-10T23:30:53.867Z"
   },
   {
    "duration": 4,
    "start_time": "2021-06-10T23:30:53.936Z"
   },
   {
    "duration": 548,
    "start_time": "2021-06-10T23:32:09.867Z"
   },
   {
    "duration": 524,
    "start_time": "2021-06-10T23:33:28.379Z"
   },
   {
    "duration": 542,
    "start_time": "2021-06-10T23:33:54.100Z"
   },
   {
    "duration": 566,
    "start_time": "2021-06-10T23:36:01.339Z"
   },
   {
    "duration": 389,
    "start_time": "2021-06-10T23:43:08.141Z"
   },
   {
    "duration": 272,
    "start_time": "2021-06-10T23:43:20.041Z"
   },
   {
    "duration": 553,
    "start_time": "2021-06-10T23:43:27.306Z"
   },
   {
    "duration": 594,
    "start_time": "2021-06-10T23:43:56.219Z"
   },
   {
    "duration": 648,
    "start_time": "2021-06-10T23:45:01.465Z"
   },
   {
    "duration": 6809,
    "start_time": "2021-06-10T23:45:41.134Z"
   },
   {
    "duration": 788,
    "start_time": "2021-06-10T23:46:04.912Z"
   },
   {
    "duration": 555,
    "start_time": "2021-06-10T23:46:16.999Z"
   },
   {
    "duration": 593,
    "start_time": "2021-06-11T00:03:59.049Z"
   },
   {
    "duration": 738,
    "start_time": "2021-06-11T00:13:04.364Z"
   },
   {
    "duration": 562,
    "start_time": "2021-06-11T00:13:24.434Z"
   },
   {
    "duration": 438,
    "start_time": "2021-06-11T00:13:29.241Z"
   },
   {
    "duration": 500,
    "start_time": "2021-06-11T00:14:07.896Z"
   },
   {
    "duration": 393,
    "start_time": "2021-06-11T00:14:23.832Z"
   },
   {
    "duration": 399,
    "start_time": "2021-06-11T00:14:33.587Z"
   },
   {
    "duration": 503,
    "start_time": "2021-06-11T00:14:45.080Z"
   },
   {
    "duration": 277,
    "start_time": "2021-06-11T01:02:43.768Z"
   },
   {
    "duration": 1048,
    "start_time": "2021-06-11T01:03:59.172Z"
   },
   {
    "duration": 5815,
    "start_time": "2021-06-11T01:08:20.646Z"
   },
   {
    "duration": 86,
    "start_time": "2021-06-11T01:09:01.221Z"
   },
   {
    "duration": 5924,
    "start_time": "2021-06-11T01:09:05.325Z"
   },
   {
    "duration": 6581,
    "start_time": "2021-06-11T01:11:31.303Z"
   },
   {
    "duration": 11100,
    "start_time": "2021-06-11T01:12:07.866Z"
   },
   {
    "duration": 594,
    "start_time": "2021-06-11T01:13:14.840Z"
   },
   {
    "duration": 699,
    "start_time": "2021-06-11T01:14:22.338Z"
   },
   {
    "duration": 126,
    "start_time": "2021-06-11T01:15:04.204Z"
   },
   {
    "duration": 4846,
    "start_time": "2021-06-11T01:15:39.389Z"
   },
   {
    "duration": 4822,
    "start_time": "2021-06-11T01:16:23.385Z"
   },
   {
    "duration": 4909,
    "start_time": "2021-06-11T01:16:38.163Z"
   },
   {
    "duration": 5308,
    "start_time": "2021-06-11T01:16:53.629Z"
   },
   {
    "duration": 678,
    "start_time": "2021-06-11T01:18:55.342Z"
   },
   {
    "duration": 672,
    "start_time": "2021-06-11T01:19:03.809Z"
   },
   {
    "duration": 246,
    "start_time": "2021-06-11T01:19:17.128Z"
   },
   {
    "duration": 1479,
    "start_time": "2021-06-11T01:20:51.205Z"
   },
   {
    "duration": 6054,
    "start_time": "2021-06-11T01:21:22.773Z"
   },
   {
    "duration": 552,
    "start_time": "2021-06-11T01:22:19.857Z"
   },
   {
    "duration": 1434,
    "start_time": "2021-06-11T01:25:55.075Z"
   },
   {
    "duration": 26,
    "start_time": "2021-06-11T01:25:56.512Z"
   },
   {
    "duration": 20,
    "start_time": "2021-06-11T01:25:56.541Z"
   },
   {
    "duration": 23,
    "start_time": "2021-06-11T01:25:56.583Z"
   },
   {
    "duration": 34,
    "start_time": "2021-06-11T01:25:56.608Z"
   },
   {
    "duration": 420,
    "start_time": "2021-06-11T01:25:56.644Z"
   },
   {
    "duration": 550,
    "start_time": "2021-06-11T01:25:57.066Z"
   },
   {
    "duration": 408,
    "start_time": "2021-06-11T01:25:57.618Z"
   },
   {
    "duration": 1696,
    "start_time": "2021-06-11T01:25:58.029Z"
   },
   {
    "duration": 438,
    "start_time": "2021-06-11T01:31:50.741Z"
   },
   {
    "duration": 552,
    "start_time": "2021-06-11T01:32:06.341Z"
   },
   {
    "duration": 530,
    "start_time": "2021-06-11T01:32:20.253Z"
   },
   {
    "duration": 571,
    "start_time": "2021-06-11T01:32:43.160Z"
   },
   {
    "duration": 542,
    "start_time": "2021-06-11T01:33:31.487Z"
   },
   {
    "duration": 1743,
    "start_time": "2021-06-11T01:38:11.526Z"
   },
   {
    "duration": 1622,
    "start_time": "2021-06-11T01:38:25.399Z"
   },
   {
    "duration": 1090,
    "start_time": "2021-06-11T01:40:12.118Z"
   },
   {
    "duration": 969,
    "start_time": "2021-06-11T01:40:50.284Z"
   },
   {
    "duration": 1119,
    "start_time": "2021-06-11T01:41:06.769Z"
   },
   {
    "duration": 1012,
    "start_time": "2021-06-11T01:41:51.762Z"
   },
   {
    "duration": 1490,
    "start_time": "2021-06-11T02:08:37.334Z"
   },
   {
    "duration": 28,
    "start_time": "2021-06-11T02:08:38.827Z"
   },
   {
    "duration": 36,
    "start_time": "2021-06-11T02:08:38.858Z"
   },
   {
    "duration": 22,
    "start_time": "2021-06-11T02:08:38.897Z"
   },
   {
    "duration": 33,
    "start_time": "2021-06-11T02:08:38.921Z"
   },
   {
    "duration": 403,
    "start_time": "2021-06-11T02:08:38.984Z"
   },
   {
    "duration": 527,
    "start_time": "2021-06-11T02:08:39.389Z"
   },
   {
    "duration": 406,
    "start_time": "2021-06-11T02:08:39.918Z"
   },
   {
    "duration": 292,
    "start_time": "2021-06-11T02:08:40.327Z"
   },
   {
    "duration": 1103,
    "start_time": "2021-06-11T02:12:12.472Z"
   },
   {
    "duration": 1513,
    "start_time": "2021-06-11T03:57:01.192Z"
   },
   {
    "duration": 26,
    "start_time": "2021-06-11T03:57:02.707Z"
   },
   {
    "duration": 21,
    "start_time": "2021-06-11T03:57:02.736Z"
   },
   {
    "duration": 36,
    "start_time": "2021-06-11T03:57:02.760Z"
   },
   {
    "duration": 32,
    "start_time": "2021-06-11T03:57:02.798Z"
   },
   {
    "duration": 423,
    "start_time": "2021-06-11T03:57:02.833Z"
   },
   {
    "duration": 554,
    "start_time": "2021-06-11T03:57:03.259Z"
   },
   {
    "duration": 420,
    "start_time": "2021-06-11T03:57:03.818Z"
   },
   {
    "duration": 1013,
    "start_time": "2021-06-11T03:57:04.241Z"
   },
   {
    "duration": 715,
    "start_time": "2021-06-11T04:07:50.858Z"
   },
   {
    "duration": 595,
    "start_time": "2021-06-11T04:08:28.295Z"
   },
   {
    "duration": 839,
    "start_time": "2021-06-11T04:08:46.546Z"
   },
   {
    "duration": 393,
    "start_time": "2021-06-11T04:09:44.188Z"
   },
   {
    "duration": 280,
    "start_time": "2021-06-11T04:10:01.583Z"
   },
   {
    "duration": 294,
    "start_time": "2021-06-11T04:10:42.913Z"
   },
   {
    "duration": 288,
    "start_time": "2021-06-11T04:10:54.719Z"
   },
   {
    "duration": 286,
    "start_time": "2021-06-11T04:11:22.282Z"
   },
   {
    "duration": 284,
    "start_time": "2021-06-11T04:12:14.212Z"
   },
   {
    "duration": 260,
    "start_time": "2021-06-11T04:12:33.036Z"
   },
   {
    "duration": 307,
    "start_time": "2021-06-11T04:12:57.490Z"
   },
   {
    "duration": 348,
    "start_time": "2021-06-11T04:14:59.358Z"
   },
   {
    "duration": 269,
    "start_time": "2021-06-11T04:16:19.094Z"
   },
   {
    "duration": 47,
    "start_time": "2021-06-11T04:17:10.394Z"
   },
   {
    "duration": 375,
    "start_time": "2021-06-11T04:20:24.404Z"
   },
   {
    "duration": 413,
    "start_time": "2021-06-11T04:21:12.235Z"
   },
   {
    "duration": 401,
    "start_time": "2021-06-11T04:23:12.004Z"
   },
   {
    "duration": 407,
    "start_time": "2021-06-11T04:24:32.935Z"
   },
   {
    "duration": 420,
    "start_time": "2021-06-11T04:25:03.491Z"
   },
   {
    "duration": 411,
    "start_time": "2021-06-11T04:25:26.005Z"
   },
   {
    "duration": 1409,
    "start_time": "2021-06-11T04:29:06.800Z"
   },
   {
    "duration": 27,
    "start_time": "2021-06-11T04:29:08.211Z"
   },
   {
    "duration": 20,
    "start_time": "2021-06-11T04:29:08.241Z"
   },
   {
    "duration": 22,
    "start_time": "2021-06-11T04:29:08.283Z"
   },
   {
    "duration": 34,
    "start_time": "2021-06-11T04:29:08.309Z"
   },
   {
    "duration": 453,
    "start_time": "2021-06-11T04:29:08.346Z"
   },
   {
    "duration": 673,
    "start_time": "2021-06-11T04:29:08.802Z"
   },
   {
    "duration": 422,
    "start_time": "2021-06-11T04:29:09.483Z"
   },
   {
    "duration": 1093,
    "start_time": "2021-06-11T04:29:09.908Z"
   },
   {
    "duration": 1079,
    "start_time": "2021-06-11T04:37:27.988Z"
   },
   {
    "duration": 1011,
    "start_time": "2021-06-11T04:38:15.024Z"
   },
   {
    "duration": 1034,
    "start_time": "2021-06-11T04:39:03.500Z"
   },
   {
    "duration": 1115,
    "start_time": "2021-06-11T04:39:35.471Z"
   },
   {
    "duration": 36,
    "start_time": "2021-06-11T05:25:05.020Z"
   },
   {
    "duration": 720,
    "start_time": "2021-06-11T05:34:04.149Z"
   },
   {
    "duration": 1426,
    "start_time": "2021-06-11T05:42:38.167Z"
   },
   {
    "duration": 26,
    "start_time": "2021-06-11T05:42:39.595Z"
   },
   {
    "duration": 20,
    "start_time": "2021-06-11T05:42:39.624Z"
   },
   {
    "duration": 45,
    "start_time": "2021-06-11T05:42:39.646Z"
   },
   {
    "duration": 39,
    "start_time": "2021-06-11T05:42:39.693Z"
   },
   {
    "duration": 409,
    "start_time": "2021-06-11T05:42:39.734Z"
   },
   {
    "duration": 679,
    "start_time": "2021-06-11T05:42:40.146Z"
   },
   {
    "duration": 427,
    "start_time": "2021-06-11T05:42:40.827Z"
   },
   {
    "duration": 1035,
    "start_time": "2021-06-11T05:42:41.259Z"
   },
   {
    "duration": 1069,
    "start_time": "2021-06-11T05:42:42.298Z"
   },
   {
    "duration": 716,
    "start_time": "2021-06-11T05:42:43.370Z"
   },
   {
    "duration": 1641,
    "start_time": "2021-06-11T15:03:21.809Z"
   },
   {
    "duration": 32,
    "start_time": "2021-06-11T15:03:23.453Z"
   },
   {
    "duration": 23,
    "start_time": "2021-06-11T15:03:23.488Z"
   },
   {
    "duration": 23,
    "start_time": "2021-06-11T15:03:23.514Z"
   },
   {
    "duration": 67,
    "start_time": "2021-06-11T15:03:23.539Z"
   },
   {
    "duration": 443,
    "start_time": "2021-06-11T15:03:23.609Z"
   },
   {
    "duration": 599,
    "start_time": "2021-06-11T15:03:24.054Z"
   },
   {
    "duration": 465,
    "start_time": "2021-06-11T15:03:24.655Z"
   },
   {
    "duration": 1136,
    "start_time": "2021-06-11T15:03:25.123Z"
   },
   {
    "duration": 1192,
    "start_time": "2021-06-11T15:03:26.262Z"
   },
   {
    "duration": 779,
    "start_time": "2021-06-11T15:03:27.457Z"
   },
   {
    "duration": 735,
    "start_time": "2021-06-11T16:13:46.758Z"
   },
   {
    "duration": 37,
    "start_time": "2021-06-11T16:20:50.459Z"
   },
   {
    "duration": 304,
    "start_time": "2021-06-11T16:22:29.594Z"
   },
   {
    "duration": 356,
    "start_time": "2021-06-11T16:23:42.169Z"
   },
   {
    "duration": 327,
    "start_time": "2021-06-11T16:25:58.347Z"
   },
   {
    "duration": 553,
    "start_time": "2021-06-11T16:26:12.036Z"
   },
   {
    "duration": 330,
    "start_time": "2021-06-11T16:26:22.494Z"
   },
   {
    "duration": 467,
    "start_time": "2021-06-11T16:26:32.434Z"
   },
   {
    "duration": 447,
    "start_time": "2021-06-11T16:27:17.855Z"
   },
   {
    "duration": 37,
    "start_time": "2021-06-11T16:39:56.480Z"
   },
   {
    "duration": 7325,
    "start_time": "2021-06-11T16:41:09.433Z"
   },
   {
    "duration": 534,
    "start_time": "2021-06-11T16:47:55.534Z"
   },
   {
    "duration": 410,
    "start_time": "2021-06-11T16:49:14.478Z"
   },
   {
    "duration": 911,
    "start_time": "2021-06-11T16:55:35.083Z"
   },
   {
    "duration": 620,
    "start_time": "2021-06-11T16:55:44.981Z"
   },
   {
    "duration": 498,
    "start_time": "2021-06-11T16:55:55.088Z"
   },
   {
    "duration": 398,
    "start_time": "2021-06-11T16:56:17.322Z"
   },
   {
    "duration": 405,
    "start_time": "2021-06-11T16:56:33.032Z"
   },
   {
    "duration": 565,
    "start_time": "2021-06-11T16:58:41.272Z"
   },
   {
    "duration": 575,
    "start_time": "2021-06-11T16:58:52.796Z"
   },
   {
    "duration": 552,
    "start_time": "2021-06-11T16:58:57.076Z"
   },
   {
    "duration": 454,
    "start_time": "2021-06-11T16:59:12.043Z"
   },
   {
    "duration": 405,
    "start_time": "2021-06-11T16:59:23.481Z"
   },
   {
    "duration": 602,
    "start_time": "2021-06-11T17:00:12.789Z"
   },
   {
    "duration": 1280,
    "start_time": "2021-06-11T17:01:15.370Z"
   },
   {
    "duration": 1519,
    "start_time": "2021-06-11T17:08:11.493Z"
   },
   {
    "duration": 27,
    "start_time": "2021-06-11T17:08:13.015Z"
   },
   {
    "duration": 42,
    "start_time": "2021-06-11T17:08:13.045Z"
   },
   {
    "duration": 21,
    "start_time": "2021-06-11T17:08:13.090Z"
   },
   {
    "duration": 32,
    "start_time": "2021-06-11T17:08:13.114Z"
   },
   {
    "duration": 451,
    "start_time": "2021-06-11T17:08:13.149Z"
   },
   {
    "duration": 633,
    "start_time": "2021-06-11T17:08:13.603Z"
   },
   {
    "duration": 462,
    "start_time": "2021-06-11T17:08:14.238Z"
   },
   {
    "duration": 1123,
    "start_time": "2021-06-11T17:08:14.704Z"
   },
   {
    "duration": 1192,
    "start_time": "2021-06-11T17:08:15.830Z"
   },
   {
    "duration": 771,
    "start_time": "2021-06-11T17:08:17.024Z"
   },
   {
    "duration": 342,
    "start_time": "2021-06-11T17:08:17.798Z"
   },
   {
    "duration": 409,
    "start_time": "2021-06-11T17:08:18.142Z"
   },
   {
    "duration": 422,
    "start_time": "2021-06-11T17:08:18.554Z"
   },
   {
    "duration": 413,
    "start_time": "2021-06-11T17:08:51.154Z"
   },
   {
    "duration": 1519,
    "start_time": "2021-06-11T17:09:25.407Z"
   },
   {
    "duration": 26,
    "start_time": "2021-06-11T17:09:26.929Z"
   },
   {
    "duration": 42,
    "start_time": "2021-06-11T17:09:26.958Z"
   },
   {
    "duration": 20,
    "start_time": "2021-06-11T17:09:27.003Z"
   },
   {
    "duration": 31,
    "start_time": "2021-06-11T17:09:27.026Z"
   },
   {
    "duration": 402,
    "start_time": "2021-06-11T17:09:27.085Z"
   },
   {
    "duration": 544,
    "start_time": "2021-06-11T17:09:27.490Z"
   },
   {
    "duration": 444,
    "start_time": "2021-06-11T17:09:28.037Z"
   },
   {
    "duration": 1060,
    "start_time": "2021-06-11T17:09:28.486Z"
   },
   {
    "duration": 1123,
    "start_time": "2021-06-11T17:09:29.548Z"
   },
   {
    "duration": 770,
    "start_time": "2021-06-11T17:09:30.673Z"
   },
   {
    "duration": 343,
    "start_time": "2021-06-11T17:09:31.445Z"
   },
   {
    "duration": 408,
    "start_time": "2021-06-11T17:09:31.790Z"
   },
   {
    "duration": 375,
    "start_time": "2021-06-11T17:09:32.201Z"
   },
   {
    "duration": 1562,
    "start_time": "2021-06-11T17:13:15.387Z"
   },
   {
    "duration": 506,
    "start_time": "2021-06-11T17:13:16.952Z"
   },
   {
    "duration": 1986,
    "start_time": "2021-06-11T17:13:15.477Z"
   },
   {
    "duration": 1986,
    "start_time": "2021-06-11T17:13:15.479Z"
   },
   {
    "duration": 1987,
    "start_time": "2021-06-11T17:13:15.480Z"
   },
   {
    "duration": 1988,
    "start_time": "2021-06-11T17:13:15.481Z"
   },
   {
    "duration": 1987,
    "start_time": "2021-06-11T17:13:15.484Z"
   },
   {
    "duration": 1800,
    "start_time": "2021-06-11T17:13:15.674Z"
   },
   {
    "duration": 1802,
    "start_time": "2021-06-11T17:13:15.675Z"
   },
   {
    "duration": 1803,
    "start_time": "2021-06-11T17:13:15.676Z"
   },
   {
    "duration": 1804,
    "start_time": "2021-06-11T17:13:15.677Z"
   },
   {
    "duration": 1806,
    "start_time": "2021-06-11T17:13:15.677Z"
   },
   {
    "duration": 1807,
    "start_time": "2021-06-11T17:13:15.678Z"
   },
   {
    "duration": 1808,
    "start_time": "2021-06-11T17:13:15.679Z"
   },
   {
    "duration": 1544,
    "start_time": "2021-06-11T17:15:19.141Z"
   },
   {
    "duration": 22,
    "start_time": "2021-06-11T17:15:20.688Z"
   },
   {
    "duration": 20,
    "start_time": "2021-06-11T17:15:20.714Z"
   },
   {
    "duration": 18,
    "start_time": "2021-06-11T17:15:20.737Z"
   },
   {
    "duration": 64,
    "start_time": "2021-06-11T17:15:20.758Z"
   },
   {
    "duration": 438,
    "start_time": "2021-06-11T17:15:20.825Z"
   },
   {
    "duration": 589,
    "start_time": "2021-06-11T17:15:21.266Z"
   },
   {
    "duration": 452,
    "start_time": "2021-06-11T17:15:21.858Z"
   },
   {
    "duration": 1088,
    "start_time": "2021-06-11T17:15:22.313Z"
   },
   {
    "duration": 1116,
    "start_time": "2021-06-11T17:15:23.404Z"
   },
   {
    "duration": 775,
    "start_time": "2021-06-11T17:15:24.523Z"
   },
   {
    "duration": 355,
    "start_time": "2021-06-11T17:15:25.300Z"
   },
   {
    "duration": 427,
    "start_time": "2021-06-11T17:15:25.659Z"
   },
   {
    "duration": 399,
    "start_time": "2021-06-11T17:15:26.089Z"
   },
   {
    "duration": 27,
    "start_time": "2021-06-11T17:16:21.156Z"
   },
   {
    "duration": 1628,
    "start_time": "2021-06-11T17:20:59.823Z"
   },
   {
    "duration": 38,
    "start_time": "2021-06-11T17:21:01.453Z"
   },
   {
    "duration": 42,
    "start_time": "2021-06-11T17:21:01.494Z"
   },
   {
    "duration": 19,
    "start_time": "2021-06-11T17:21:01.539Z"
   },
   {
    "duration": 61,
    "start_time": "2021-06-11T17:21:01.561Z"
   },
   {
    "duration": 455,
    "start_time": "2021-06-11T17:21:01.624Z"
   },
   {
    "duration": 587,
    "start_time": "2021-06-11T17:21:02.086Z"
   },
   {
    "duration": 573,
    "start_time": "2021-06-11T17:21:02.676Z"
   },
   {
    "duration": 1277,
    "start_time": "2021-06-11T17:21:03.252Z"
   },
   {
    "duration": 1210,
    "start_time": "2021-06-11T17:21:04.532Z"
   },
   {
    "duration": 837,
    "start_time": "2021-06-11T17:21:05.745Z"
   },
   {
    "duration": 352,
    "start_time": "2021-06-11T17:21:06.584Z"
   },
   {
    "duration": 447,
    "start_time": "2021-06-11T17:21:06.938Z"
   },
   {
    "duration": 425,
    "start_time": "2021-06-11T17:21:07.388Z"
   },
   {
    "duration": 1521,
    "start_time": "2021-06-11T17:23:42.713Z"
   },
   {
    "duration": 22,
    "start_time": "2021-06-11T17:23:44.237Z"
   },
   {
    "duration": 38,
    "start_time": "2021-06-11T17:23:44.262Z"
   },
   {
    "duration": 17,
    "start_time": "2021-06-11T17:23:44.303Z"
   },
   {
    "duration": 38,
    "start_time": "2021-06-11T17:23:44.323Z"
   },
   {
    "duration": 411,
    "start_time": "2021-06-11T17:23:44.385Z"
   },
   {
    "duration": 577,
    "start_time": "2021-06-11T17:23:44.799Z"
   },
   {
    "duration": 432,
    "start_time": "2021-06-11T17:23:45.385Z"
   },
   {
    "duration": 1104,
    "start_time": "2021-06-11T17:23:45.821Z"
   },
   {
    "duration": 1158,
    "start_time": "2021-06-11T17:23:46.927Z"
   },
   {
    "duration": 759,
    "start_time": "2021-06-11T17:23:48.088Z"
   },
   {
    "duration": 358,
    "start_time": "2021-06-11T17:23:48.850Z"
   },
   {
    "duration": 391,
    "start_time": "2021-06-11T17:23:49.210Z"
   },
   {
    "duration": 387,
    "start_time": "2021-06-11T17:23:49.603Z"
   },
   {
    "duration": 370,
    "start_time": "2021-06-11T17:24:19.194Z"
   },
   {
    "duration": 689,
    "start_time": "2021-06-11T17:25:45.787Z"
   },
   {
    "duration": 717,
    "start_time": "2021-06-11T17:25:52.811Z"
   },
   {
    "duration": 460,
    "start_time": "2021-06-11T17:27:04.775Z"
   },
   {
    "duration": 1093,
    "start_time": "2021-06-11T17:27:23.025Z"
   },
   {
    "duration": 697,
    "start_time": "2021-06-11T17:28:16.083Z"
   },
   {
    "duration": 772,
    "start_time": "2021-06-11T17:28:23.946Z"
   },
   {
    "duration": 422,
    "start_time": "2021-06-11T17:28:40.193Z"
   },
   {
    "duration": 400,
    "start_time": "2021-06-11T17:28:48.027Z"
   },
   {
    "duration": 1968,
    "start_time": "2021-06-11T17:31:35.804Z"
   },
   {
    "duration": 27,
    "start_time": "2021-06-11T17:31:37.775Z"
   },
   {
    "duration": 24,
    "start_time": "2021-06-11T17:31:37.806Z"
   },
   {
    "duration": 52,
    "start_time": "2021-06-11T17:31:37.834Z"
   },
   {
    "duration": 38,
    "start_time": "2021-06-11T17:31:37.889Z"
   },
   {
    "duration": 467,
    "start_time": "2021-06-11T17:31:37.930Z"
   },
   {
    "duration": 648,
    "start_time": "2021-06-11T17:31:38.400Z"
   },
   {
    "duration": 450,
    "start_time": "2021-06-11T17:31:39.051Z"
   },
   {
    "duration": 1120,
    "start_time": "2021-06-11T17:31:39.504Z"
   },
   {
    "duration": 1190,
    "start_time": "2021-06-11T17:31:40.627Z"
   },
   {
    "duration": 787,
    "start_time": "2021-06-11T17:31:41.819Z"
   },
   {
    "duration": 363,
    "start_time": "2021-06-11T17:31:42.610Z"
   },
   {
    "duration": 407,
    "start_time": "2021-06-11T17:31:42.976Z"
   },
   {
    "duration": 452,
    "start_time": "2021-06-11T17:31:43.385Z"
   },
   {
    "duration": 12,
    "start_time": "2021-06-11T17:56:13.401Z"
   },
   {
    "duration": 26,
    "start_time": "2021-06-11T18:06:32.801Z"
   },
   {
    "duration": 43,
    "start_time": "2021-06-11T18:07:29.019Z"
   },
   {
    "duration": 49,
    "start_time": "2021-06-11T18:09:17.151Z"
   },
   {
    "duration": 28,
    "start_time": "2021-06-11T18:09:40.634Z"
   },
   {
    "duration": 38,
    "start_time": "2021-06-11T18:09:59.012Z"
   },
   {
    "duration": 445,
    "start_time": "2021-06-11T18:10:44.491Z"
   },
   {
    "duration": 24,
    "start_time": "2021-06-11T18:12:06.030Z"
   },
   {
    "duration": 44,
    "start_time": "2021-06-11T18:12:45.059Z"
   },
   {
    "duration": 44,
    "start_time": "2021-06-11T18:15:33.937Z"
   },
   {
    "duration": 49,
    "start_time": "2021-06-11T18:17:14.250Z"
   },
   {
    "duration": 396,
    "start_time": "2021-06-11T18:19:18.595Z"
   },
   {
    "duration": 42,
    "start_time": "2021-06-11T18:19:43.435Z"
   },
   {
    "duration": 45,
    "start_time": "2021-06-11T18:20:08.552Z"
   },
   {
    "duration": 40,
    "start_time": "2021-06-11T18:20:44.555Z"
   },
   {
    "duration": 51,
    "start_time": "2021-06-11T18:22:37.589Z"
   },
   {
    "duration": 36,
    "start_time": "2021-06-11T18:25:27.671Z"
   },
   {
    "duration": 115,
    "start_time": "2021-06-11T18:27:31.938Z"
   },
   {
    "duration": 110,
    "start_time": "2021-06-11T18:27:54.855Z"
   },
   {
    "duration": 34,
    "start_time": "2021-06-11T18:28:01.473Z"
   },
   {
    "duration": 53,
    "start_time": "2021-06-11T18:29:28.644Z"
   },
   {
    "duration": 47,
    "start_time": "2021-06-11T18:29:52.407Z"
   },
   {
    "duration": 60,
    "start_time": "2021-06-11T18:30:08.913Z"
   },
   {
    "duration": 37,
    "start_time": "2021-06-11T18:30:36.311Z"
   },
   {
    "duration": 42,
    "start_time": "2021-06-11T18:32:09.232Z"
   },
   {
    "duration": 233,
    "start_time": "2021-06-11T18:32:53.739Z"
   },
   {
    "duration": 44,
    "start_time": "2021-06-11T18:33:40.877Z"
   },
   {
    "duration": 34,
    "start_time": "2021-06-11T18:34:01.721Z"
   },
   {
    "duration": 28,
    "start_time": "2021-06-11T18:35:09.000Z"
   },
   {
    "duration": 36,
    "start_time": "2021-06-11T18:40:39.778Z"
   },
   {
    "duration": 44,
    "start_time": "2021-06-11T18:44:48.955Z"
   },
   {
    "duration": 42,
    "start_time": "2021-06-11T18:45:15.355Z"
   },
   {
    "duration": 64,
    "start_time": "2021-06-11T18:48:52.517Z"
   },
   {
    "duration": 633,
    "start_time": "2021-06-11T18:49:12.521Z"
   },
   {
    "duration": 31,
    "start_time": "2021-06-11T18:52:09.892Z"
   },
   {
    "duration": 25,
    "start_time": "2021-06-11T18:52:43.547Z"
   },
   {
    "duration": 36,
    "start_time": "2021-06-11T18:53:17.642Z"
   },
   {
    "duration": 36,
    "start_time": "2021-06-11T18:53:31.907Z"
   },
   {
    "duration": 41,
    "start_time": "2021-06-11T18:53:40.115Z"
   },
   {
    "duration": 35,
    "start_time": "2021-06-11T18:53:57.910Z"
   },
   {
    "duration": 1635,
    "start_time": "2021-06-11T19:03:24.863Z"
   },
   {
    "duration": 23,
    "start_time": "2021-06-11T19:03:26.501Z"
   },
   {
    "duration": 22,
    "start_time": "2021-06-11T19:03:26.527Z"
   },
   {
    "duration": 45,
    "start_time": "2021-06-11T19:03:26.551Z"
   },
   {
    "duration": 40,
    "start_time": "2021-06-11T19:03:26.599Z"
   },
   {
    "duration": 546,
    "start_time": "2021-06-11T19:03:26.641Z"
   },
   {
    "duration": 596,
    "start_time": "2021-06-11T19:03:27.189Z"
   },
   {
    "duration": 463,
    "start_time": "2021-06-11T19:03:27.790Z"
   },
   {
    "duration": 1319,
    "start_time": "2021-06-11T19:03:28.256Z"
   },
   {
    "duration": 1141,
    "start_time": "2021-06-11T19:03:29.586Z"
   },
   {
    "duration": 777,
    "start_time": "2021-06-11T19:03:30.729Z"
   },
   {
    "duration": 352,
    "start_time": "2021-06-11T19:03:31.509Z"
   },
   {
    "duration": 411,
    "start_time": "2021-06-11T19:03:31.863Z"
   },
   {
    "duration": 412,
    "start_time": "2021-06-11T19:03:32.277Z"
   },
   {
    "duration": 32,
    "start_time": "2021-06-11T19:03:32.691Z"
   },
   {
    "duration": 24,
    "start_time": "2021-06-11T19:03:32.725Z"
   },
   {
    "duration": 9,
    "start_time": "2021-06-11T19:05:32.601Z"
   },
   {
    "duration": 670,
    "start_time": "2021-06-11T19:10:15.041Z"
   },
   {
    "duration": 794,
    "start_time": "2021-06-11T19:10:45.579Z"
   },
   {
    "duration": 628,
    "start_time": "2021-06-11T19:10:55.825Z"
   },
   {
    "duration": 626,
    "start_time": "2021-06-11T19:11:06.741Z"
   },
   {
    "duration": 650,
    "start_time": "2021-06-11T19:11:16.488Z"
   },
   {
    "duration": 775,
    "start_time": "2021-06-11T19:11:27.436Z"
   },
   {
    "duration": 431,
    "start_time": "2021-06-11T19:27:45.091Z"
   },
   {
    "duration": 27,
    "start_time": "2021-06-11T19:32:20.236Z"
   },
   {
    "duration": 28,
    "start_time": "2021-06-11T19:33:00.422Z"
   },
   {
    "duration": 28,
    "start_time": "2021-06-11T19:33:42.050Z"
   },
   {
    "duration": 32,
    "start_time": "2021-06-11T19:35:30.730Z"
   },
   {
    "duration": 28,
    "start_time": "2021-06-11T19:35:54.699Z"
   },
   {
    "duration": 1531,
    "start_time": "2021-06-11T19:40:04.383Z"
   },
   {
    "duration": 23,
    "start_time": "2021-06-11T19:40:05.917Z"
   },
   {
    "duration": 42,
    "start_time": "2021-06-11T19:40:05.943Z"
   },
   {
    "duration": 19,
    "start_time": "2021-06-11T19:40:05.988Z"
   },
   {
    "duration": 33,
    "start_time": "2021-06-11T19:40:06.009Z"
   },
   {
    "duration": 441,
    "start_time": "2021-06-11T19:40:06.045Z"
   },
   {
    "duration": 571,
    "start_time": "2021-06-11T19:40:06.489Z"
   },
   {
    "duration": 440,
    "start_time": "2021-06-11T19:40:07.063Z"
   },
   {
    "duration": 1066,
    "start_time": "2021-06-11T19:40:07.507Z"
   },
   {
    "duration": 1172,
    "start_time": "2021-06-11T19:40:08.576Z"
   },
   {
    "duration": 756,
    "start_time": "2021-06-11T19:40:09.751Z"
   },
   {
    "duration": 370,
    "start_time": "2021-06-11T19:40:10.509Z"
   },
   {
    "duration": 384,
    "start_time": "2021-06-11T19:40:10.886Z"
   },
   {
    "duration": 406,
    "start_time": "2021-06-11T19:40:11.273Z"
   },
   {
    "duration": 33,
    "start_time": "2021-06-11T19:40:11.681Z"
   },
   {
    "duration": 23,
    "start_time": "2021-06-11T19:40:11.717Z"
   },
   {
    "duration": 704,
    "start_time": "2021-06-11T19:40:11.743Z"
   },
   {
    "duration": 40,
    "start_time": "2021-06-11T19:40:12.450Z"
   },
   {
    "duration": 30,
    "start_time": "2021-06-11T19:40:12.492Z"
   },
   {
    "duration": 25,
    "start_time": "2021-06-11T19:40:12.525Z"
   },
   {
    "duration": 1944,
    "start_time": "2021-06-11T19:42:59.687Z"
   },
   {
    "duration": 25,
    "start_time": "2021-06-11T19:43:01.633Z"
   },
   {
    "duration": 46,
    "start_time": "2021-06-11T19:43:01.661Z"
   },
   {
    "duration": 20,
    "start_time": "2021-06-11T19:43:01.710Z"
   },
   {
    "duration": 58,
    "start_time": "2021-06-11T19:43:01.732Z"
   },
   {
    "duration": 435,
    "start_time": "2021-06-11T19:43:01.792Z"
   },
   {
    "duration": 623,
    "start_time": "2021-06-11T19:43:02.229Z"
   },
   {
    "duration": 443,
    "start_time": "2021-06-11T19:43:02.855Z"
   },
   {
    "duration": 1188,
    "start_time": "2021-06-11T19:43:03.301Z"
   },
   {
    "duration": 1130,
    "start_time": "2021-06-11T19:43:04.492Z"
   },
   {
    "duration": 763,
    "start_time": "2021-06-11T19:43:05.625Z"
   },
   {
    "duration": 395,
    "start_time": "2021-06-11T19:43:06.391Z"
   },
   {
    "duration": 390,
    "start_time": "2021-06-11T19:43:06.789Z"
   },
   {
    "duration": 443,
    "start_time": "2021-06-11T19:43:07.182Z"
   },
   {
    "duration": 34,
    "start_time": "2021-06-11T19:43:07.629Z"
   },
   {
    "duration": 43,
    "start_time": "2021-06-11T19:43:07.665Z"
   },
   {
    "duration": 684,
    "start_time": "2021-06-11T19:43:07.710Z"
   },
   {
    "duration": 29,
    "start_time": "2021-06-11T19:43:08.397Z"
   },
   {
    "duration": 27,
    "start_time": "2021-06-11T19:43:08.428Z"
   },
   {
    "duration": 27,
    "start_time": "2021-06-11T19:43:08.486Z"
   },
   {
    "duration": 1644,
    "start_time": "2021-06-11T19:45:57.626Z"
   },
   {
    "duration": 25,
    "start_time": "2021-06-11T19:45:59.273Z"
   },
   {
    "duration": 22,
    "start_time": "2021-06-11T19:45:59.301Z"
   },
   {
    "duration": 17,
    "start_time": "2021-06-11T19:45:59.326Z"
   },
   {
    "duration": 70,
    "start_time": "2021-06-11T19:45:59.346Z"
   },
   {
    "duration": 441,
    "start_time": "2021-06-11T19:45:59.419Z"
   },
   {
    "duration": 600,
    "start_time": "2021-06-11T19:45:59.862Z"
   },
   {
    "duration": 450,
    "start_time": "2021-06-11T19:46:00.466Z"
   },
   {
    "duration": 1219,
    "start_time": "2021-06-11T19:46:00.919Z"
   },
   {
    "duration": 1270,
    "start_time": "2021-06-11T19:46:02.140Z"
   },
   {
    "duration": 783,
    "start_time": "2021-06-11T19:46:03.413Z"
   },
   {
    "duration": 354,
    "start_time": "2021-06-11T19:46:04.199Z"
   },
   {
    "duration": 430,
    "start_time": "2021-06-11T19:46:04.555Z"
   },
   {
    "duration": 439,
    "start_time": "2021-06-11T19:46:04.987Z"
   },
   {
    "duration": 33,
    "start_time": "2021-06-11T19:46:05.428Z"
   },
   {
    "duration": 45,
    "start_time": "2021-06-11T19:46:05.463Z"
   },
   {
    "duration": 728,
    "start_time": "2021-06-11T19:46:05.510Z"
   },
   {
    "duration": 46,
    "start_time": "2021-06-11T19:46:06.241Z"
   },
   {
    "duration": 29,
    "start_time": "2021-06-11T19:46:06.289Z"
   },
   {
    "duration": 27,
    "start_time": "2021-06-11T19:46:06.320Z"
   },
   {
    "duration": 1813,
    "start_time": "2021-06-11T19:47:24.903Z"
   },
   {
    "duration": 26,
    "start_time": "2021-06-11T19:47:26.719Z"
   },
   {
    "duration": 44,
    "start_time": "2021-06-11T19:47:26.748Z"
   },
   {
    "duration": 18,
    "start_time": "2021-06-11T19:47:26.795Z"
   },
   {
    "duration": 36,
    "start_time": "2021-06-11T19:47:26.816Z"
   },
   {
    "duration": 442,
    "start_time": "2021-06-11T19:47:26.887Z"
   },
   {
    "duration": 624,
    "start_time": "2021-06-11T19:47:27.332Z"
   },
   {
    "duration": 464,
    "start_time": "2021-06-11T19:47:27.962Z"
   },
   {
    "duration": 1146,
    "start_time": "2021-06-11T19:47:28.430Z"
   },
   {
    "duration": 1201,
    "start_time": "2021-06-11T19:47:29.586Z"
   },
   {
    "duration": 797,
    "start_time": "2021-06-11T19:47:30.791Z"
   },
   {
    "duration": 456,
    "start_time": "2021-06-11T19:47:31.591Z"
   },
   {
    "duration": 424,
    "start_time": "2021-06-11T19:47:32.050Z"
   },
   {
    "duration": 409,
    "start_time": "2021-06-11T19:47:32.485Z"
   },
   {
    "duration": 35,
    "start_time": "2021-06-11T19:47:32.897Z"
   },
   {
    "duration": 55,
    "start_time": "2021-06-11T19:47:32.935Z"
   },
   {
    "duration": 714,
    "start_time": "2021-06-11T19:47:32.993Z"
   },
   {
    "duration": 28,
    "start_time": "2021-06-11T19:47:33.710Z"
   },
   {
    "duration": 55,
    "start_time": "2021-06-11T19:47:33.741Z"
   },
   {
    "duration": 25,
    "start_time": "2021-06-11T19:47:33.798Z"
   },
   {
    "duration": 494,
    "start_time": "2021-06-11T19:51:18.823Z"
   },
   {
    "duration": 35,
    "start_time": "2021-06-11T19:51:31.955Z"
   },
   {
    "duration": 1517,
    "start_time": "2021-06-11T19:51:42.918Z"
   },
   {
    "duration": 56,
    "start_time": "2021-06-11T19:51:44.439Z"
   },
   {
    "duration": 25,
    "start_time": "2021-06-11T19:51:44.498Z"
   },
   {
    "duration": 21,
    "start_time": "2021-06-11T19:51:44.527Z"
   },
   {
    "duration": 71,
    "start_time": "2021-06-11T19:51:44.551Z"
   },
   {
    "duration": 447,
    "start_time": "2021-06-11T19:51:44.625Z"
   },
   {
    "duration": 572,
    "start_time": "2021-06-11T19:51:45.075Z"
   },
   {
    "duration": 452,
    "start_time": "2021-06-11T19:51:45.649Z"
   },
   {
    "duration": 1141,
    "start_time": "2021-06-11T19:51:46.105Z"
   },
   {
    "duration": 1268,
    "start_time": "2021-06-11T19:51:47.248Z"
   },
   {
    "duration": 792,
    "start_time": "2021-06-11T19:51:48.519Z"
   },
   {
    "duration": 360,
    "start_time": "2021-06-11T19:51:49.314Z"
   },
   {
    "duration": 398,
    "start_time": "2021-06-11T19:51:49.677Z"
   },
   {
    "duration": 587,
    "start_time": "2021-06-11T19:51:50.078Z"
   },
   {
    "duration": 58,
    "start_time": "2021-06-11T19:51:50.669Z"
   },
   {
    "duration": 59,
    "start_time": "2021-06-11T19:51:50.731Z"
   },
   {
    "duration": 1146,
    "start_time": "2021-06-11T19:51:50.794Z"
   },
   {
    "duration": 60,
    "start_time": "2021-06-11T19:51:51.944Z"
   },
   {
    "duration": 47,
    "start_time": "2021-06-11T19:51:52.008Z"
   },
   {
    "duration": 48,
    "start_time": "2021-06-11T19:51:52.059Z"
   },
   {
    "duration": 1710,
    "start_time": "2021-06-11T19:52:12.799Z"
   },
   {
    "duration": 479,
    "start_time": "2021-06-11T19:52:14.513Z"
   },
   {
    "duration": 1954,
    "start_time": "2021-06-11T19:52:13.044Z"
   },
   {
    "duration": 1954,
    "start_time": "2021-06-11T19:52:13.046Z"
   },
   {
    "duration": 1956,
    "start_time": "2021-06-11T19:52:13.046Z"
   },
   {
    "duration": 1958,
    "start_time": "2021-06-11T19:52:13.047Z"
   },
   {
    "duration": 1774,
    "start_time": "2021-06-11T19:52:13.233Z"
   },
   {
    "duration": 1772,
    "start_time": "2021-06-11T19:52:13.238Z"
   },
   {
    "duration": 1771,
    "start_time": "2021-06-11T19:52:13.241Z"
   },
   {
    "duration": 1771,
    "start_time": "2021-06-11T19:52:13.243Z"
   },
   {
    "duration": 1772,
    "start_time": "2021-06-11T19:52:13.244Z"
   },
   {
    "duration": 1772,
    "start_time": "2021-06-11T19:52:13.246Z"
   },
   {
    "duration": 1773,
    "start_time": "2021-06-11T19:52:13.247Z"
   },
   {
    "duration": 1774,
    "start_time": "2021-06-11T19:52:13.248Z"
   },
   {
    "duration": 1775,
    "start_time": "2021-06-11T19:52:13.249Z"
   },
   {
    "duration": 1775,
    "start_time": "2021-06-11T19:52:13.251Z"
   },
   {
    "duration": 1776,
    "start_time": "2021-06-11T19:52:13.252Z"
   },
   {
    "duration": 1777,
    "start_time": "2021-06-11T19:52:13.253Z"
   },
   {
    "duration": 1778,
    "start_time": "2021-06-11T19:52:13.254Z"
   },
   {
    "duration": 1830,
    "start_time": "2021-06-11T19:52:13.256Z"
   },
   {
    "duration": 1600,
    "start_time": "2021-06-11T19:53:59.956Z"
   },
   {
    "duration": 33,
    "start_time": "2021-06-11T19:54:01.559Z"
   },
   {
    "duration": 22,
    "start_time": "2021-06-11T19:54:01.595Z"
   },
   {
    "duration": 18,
    "start_time": "2021-06-11T19:54:01.620Z"
   },
   {
    "duration": 67,
    "start_time": "2021-06-11T19:54:01.640Z"
   },
   {
    "duration": 422,
    "start_time": "2021-06-11T19:54:01.709Z"
   },
   {
    "duration": 629,
    "start_time": "2021-06-11T19:54:02.134Z"
   },
   {
    "duration": 469,
    "start_time": "2021-06-11T19:54:02.766Z"
   },
   {
    "duration": 1137,
    "start_time": "2021-06-11T19:54:03.239Z"
   },
   {
    "duration": 1164,
    "start_time": "2021-06-11T19:54:04.385Z"
   },
   {
    "duration": 777,
    "start_time": "2021-06-11T19:54:05.552Z"
   },
   {
    "duration": 348,
    "start_time": "2021-06-11T19:54:06.332Z"
   },
   {
    "duration": 391,
    "start_time": "2021-06-11T19:54:06.683Z"
   },
   {
    "duration": 414,
    "start_time": "2021-06-11T19:54:07.076Z"
   },
   {
    "duration": 32,
    "start_time": "2021-06-11T19:54:07.493Z"
   },
   {
    "duration": 25,
    "start_time": "2021-06-11T19:54:07.528Z"
   },
   {
    "duration": 714,
    "start_time": "2021-06-11T19:54:07.555Z"
   },
   {
    "duration": 34,
    "start_time": "2021-06-11T19:54:08.271Z"
   },
   {
    "duration": 30,
    "start_time": "2021-06-11T19:54:08.307Z"
   },
   {
    "duration": 50,
    "start_time": "2021-06-11T19:54:08.340Z"
   },
   {
    "duration": 1509,
    "start_time": "2021-06-11T19:58:37.245Z"
   },
   {
    "duration": 531,
    "start_time": "2021-06-11T19:58:38.757Z"
   },
   {
    "duration": 2150,
    "start_time": "2021-06-11T19:58:37.142Z"
   },
   {
    "duration": 2147,
    "start_time": "2021-06-11T19:58:37.147Z"
   },
   {
    "duration": 2146,
    "start_time": "2021-06-11T19:58:37.149Z"
   },
   {
    "duration": 2147,
    "start_time": "2021-06-11T19:58:37.150Z"
   },
   {
    "duration": 2146,
    "start_time": "2021-06-11T19:58:37.152Z"
   },
   {
    "duration": 2148,
    "start_time": "2021-06-11T19:58:37.152Z"
   },
   {
    "duration": 2148,
    "start_time": "2021-06-11T19:58:37.153Z"
   },
   {
    "duration": 1991,
    "start_time": "2021-06-11T19:58:37.312Z"
   },
   {
    "duration": 1987,
    "start_time": "2021-06-11T19:58:37.317Z"
   },
   {
    "duration": 1988,
    "start_time": "2021-06-11T19:58:37.318Z"
   },
   {
    "duration": 1989,
    "start_time": "2021-06-11T19:58:37.319Z"
   },
   {
    "duration": 1989,
    "start_time": "2021-06-11T19:58:37.321Z"
   },
   {
    "duration": 1989,
    "start_time": "2021-06-11T19:58:37.322Z"
   },
   {
    "duration": 1990,
    "start_time": "2021-06-11T19:58:37.323Z"
   },
   {
    "duration": 1990,
    "start_time": "2021-06-11T19:58:37.325Z"
   },
   {
    "duration": 1991,
    "start_time": "2021-06-11T19:58:37.326Z"
   },
   {
    "duration": 1991,
    "start_time": "2021-06-11T19:58:37.327Z"
   },
   {
    "duration": 1992,
    "start_time": "2021-06-11T19:58:37.328Z"
   },
   {
    "duration": 1497,
    "start_time": "2021-06-11T20:02:04.341Z"
   },
   {
    "duration": 30,
    "start_time": "2021-06-11T20:02:05.840Z"
   },
   {
    "duration": 23,
    "start_time": "2021-06-11T20:02:05.885Z"
   },
   {
    "duration": 17,
    "start_time": "2021-06-11T20:02:05.911Z"
   },
   {
    "duration": 65,
    "start_time": "2021-06-11T20:02:05.930Z"
   },
   {
    "duration": 441,
    "start_time": "2021-06-11T20:02:05.997Z"
   },
   {
    "duration": 602,
    "start_time": "2021-06-11T20:02:06.441Z"
   },
   {
    "duration": 460,
    "start_time": "2021-06-11T20:02:07.046Z"
   },
   {
    "duration": 1142,
    "start_time": "2021-06-11T20:02:07.509Z"
   },
   {
    "duration": 1205,
    "start_time": "2021-06-11T20:02:08.654Z"
   },
   {
    "duration": 809,
    "start_time": "2021-06-11T20:02:09.861Z"
   },
   {
    "duration": 395,
    "start_time": "2021-06-11T20:02:10.672Z"
   },
   {
    "duration": 425,
    "start_time": "2021-06-11T20:02:11.070Z"
   },
   {
    "duration": 418,
    "start_time": "2021-06-11T20:02:11.497Z"
   },
   {
    "duration": 31,
    "start_time": "2021-06-11T20:02:11.918Z"
   },
   {
    "duration": 44,
    "start_time": "2021-06-11T20:02:11.951Z"
   },
   {
    "duration": 700,
    "start_time": "2021-06-11T20:02:11.998Z"
   },
   {
    "duration": 27,
    "start_time": "2021-06-11T20:02:12.700Z"
   },
   {
    "duration": 29,
    "start_time": "2021-06-11T20:02:12.730Z"
   },
   {
    "duration": 48,
    "start_time": "2021-06-11T20:02:12.761Z"
   },
   {
    "duration": 29,
    "start_time": "2021-06-11T20:04:48.427Z"
   },
   {
    "duration": 465,
    "start_time": "2021-06-11T20:06:15.398Z"
   },
   {
    "duration": 1639,
    "start_time": "2021-06-11T20:07:22.415Z"
   },
   {
    "duration": 480,
    "start_time": "2021-06-11T20:07:24.058Z"
   },
   {
    "duration": 1972,
    "start_time": "2021-06-11T20:07:22.570Z"
   },
   {
    "duration": 1972,
    "start_time": "2021-06-11T20:07:22.572Z"
   },
   {
    "duration": 1972,
    "start_time": "2021-06-11T20:07:22.573Z"
   },
   {
    "duration": 1973,
    "start_time": "2021-06-11T20:07:22.574Z"
   },
   {
    "duration": 1973,
    "start_time": "2021-06-11T20:07:22.575Z"
   },
   {
    "duration": 1796,
    "start_time": "2021-06-11T20:07:22.753Z"
   },
   {
    "duration": 1797,
    "start_time": "2021-06-11T20:07:22.754Z"
   },
   {
    "duration": 1797,
    "start_time": "2021-06-11T20:07:22.755Z"
   },
   {
    "duration": 1798,
    "start_time": "2021-06-11T20:07:22.756Z"
   },
   {
    "duration": 1798,
    "start_time": "2021-06-11T20:07:22.757Z"
   },
   {
    "duration": 1799,
    "start_time": "2021-06-11T20:07:22.758Z"
   },
   {
    "duration": 1799,
    "start_time": "2021-06-11T20:07:22.759Z"
   },
   {
    "duration": 1799,
    "start_time": "2021-06-11T20:07:22.760Z"
   },
   {
    "duration": 1799,
    "start_time": "2021-06-11T20:07:22.761Z"
   },
   {
    "duration": 1800,
    "start_time": "2021-06-11T20:07:22.762Z"
   },
   {
    "duration": 1771,
    "start_time": "2021-06-11T20:07:22.792Z"
   },
   {
    "duration": 1617,
    "start_time": "2021-06-11T20:07:22.947Z"
   },
   {
    "duration": 1617,
    "start_time": "2021-06-11T20:07:22.948Z"
   },
   {
    "duration": 346,
    "start_time": "2021-06-11T20:08:54.429Z"
   },
   {
    "duration": 25,
    "start_time": "2021-06-11T20:13:53.789Z"
   },
   {
    "duration": 1489,
    "start_time": "2021-06-11T20:14:03.835Z"
   },
   {
    "duration": 24,
    "start_time": "2021-06-11T20:14:05.327Z"
   },
   {
    "duration": 45,
    "start_time": "2021-06-11T20:14:05.354Z"
   },
   {
    "duration": 19,
    "start_time": "2021-06-11T20:14:05.402Z"
   },
   {
    "duration": 36,
    "start_time": "2021-06-11T20:14:05.423Z"
   },
   {
    "duration": 440,
    "start_time": "2021-06-11T20:14:05.485Z"
   },
   {
    "duration": 642,
    "start_time": "2021-06-11T20:14:05.927Z"
   },
   {
    "duration": 459,
    "start_time": "2021-06-11T20:14:06.573Z"
   },
   {
    "duration": 1124,
    "start_time": "2021-06-11T20:14:07.036Z"
   },
   {
    "duration": 1161,
    "start_time": "2021-06-11T20:14:08.163Z"
   },
   {
    "duration": 797,
    "start_time": "2021-06-11T20:14:09.327Z"
   },
   {
    "duration": 350,
    "start_time": "2021-06-11T20:14:10.126Z"
   },
   {
    "duration": 406,
    "start_time": "2021-06-11T20:14:10.485Z"
   },
   {
    "duration": 1557,
    "start_time": "2021-06-11T20:14:10.894Z"
   },
   {
    "duration": 1958,
    "start_time": "2021-06-11T20:14:10.496Z"
   },
   {
    "duration": 1959,
    "start_time": "2021-06-11T20:14:10.496Z"
   },
   {
    "duration": 1960,
    "start_time": "2021-06-11T20:14:10.497Z"
   },
   {
    "duration": 1960,
    "start_time": "2021-06-11T20:14:10.498Z"
   },
   {
    "duration": 1961,
    "start_time": "2021-06-11T20:14:10.499Z"
   },
   {
    "duration": 1962,
    "start_time": "2021-06-11T20:14:10.500Z"
   },
   {
    "duration": 1526,
    "start_time": "2021-06-11T20:22:35.671Z"
   },
   {
    "duration": 24,
    "start_time": "2021-06-11T20:22:37.199Z"
   },
   {
    "duration": 22,
    "start_time": "2021-06-11T20:22:37.226Z"
   },
   {
    "duration": 43,
    "start_time": "2021-06-11T20:22:37.251Z"
   },
   {
    "duration": 39,
    "start_time": "2021-06-11T20:22:37.297Z"
   },
   {
    "duration": 427,
    "start_time": "2021-06-11T20:22:37.339Z"
   },
   {
    "duration": 563,
    "start_time": "2021-06-11T20:22:37.769Z"
   },
   {
    "duration": 426,
    "start_time": "2021-06-11T20:22:38.334Z"
   },
   {
    "duration": 1057,
    "start_time": "2021-06-11T20:22:38.763Z"
   },
   {
    "duration": 1235,
    "start_time": "2021-06-11T20:22:39.822Z"
   },
   {
    "duration": 834,
    "start_time": "2021-06-11T20:22:41.060Z"
   },
   {
    "duration": 337,
    "start_time": "2021-06-11T20:22:41.897Z"
   },
   {
    "duration": 434,
    "start_time": "2021-06-11T20:22:42.237Z"
   },
   {
    "duration": 1398,
    "start_time": "2021-06-11T20:22:42.674Z"
   },
   {
    "duration": -291,
    "start_time": "2021-06-11T20:22:44.365Z"
   },
   {
    "duration": -291,
    "start_time": "2021-06-11T20:22:44.367Z"
   },
   {
    "duration": -283,
    "start_time": "2021-06-11T20:22:44.368Z"
   },
   {
    "duration": -282,
    "start_time": "2021-06-11T20:22:44.369Z"
   },
   {
    "duration": -283,
    "start_time": "2021-06-11T20:22:44.371Z"
   },
   {
    "duration": -283,
    "start_time": "2021-06-11T20:22:44.373Z"
   },
   {
    "duration": 1573,
    "start_time": "2021-06-11T20:31:28.645Z"
   },
   {
    "duration": 23,
    "start_time": "2021-06-11T20:31:30.221Z"
   },
   {
    "duration": 47,
    "start_time": "2021-06-11T20:31:30.248Z"
   },
   {
    "duration": 18,
    "start_time": "2021-06-11T20:31:30.298Z"
   },
   {
    "duration": 41,
    "start_time": "2021-06-11T20:31:30.318Z"
   },
   {
    "duration": 438,
    "start_time": "2021-06-11T20:31:30.362Z"
   },
   {
    "duration": 578,
    "start_time": "2021-06-11T20:31:30.802Z"
   },
   {
    "duration": 457,
    "start_time": "2021-06-11T20:31:31.387Z"
   },
   {
    "duration": 1214,
    "start_time": "2021-06-11T20:31:31.846Z"
   },
   {
    "duration": 1158,
    "start_time": "2021-06-11T20:31:33.062Z"
   },
   {
    "duration": 771,
    "start_time": "2021-06-11T20:31:34.222Z"
   },
   {
    "duration": 345,
    "start_time": "2021-06-11T20:31:34.996Z"
   },
   {
    "duration": 420,
    "start_time": "2021-06-11T20:31:35.344Z"
   },
   {
    "duration": 445,
    "start_time": "2021-06-11T20:31:35.766Z"
   },
   {
    "duration": 32,
    "start_time": "2021-06-11T20:31:36.213Z"
   },
   {
    "duration": 47,
    "start_time": "2021-06-11T20:31:36.247Z"
   },
   {
    "duration": 691,
    "start_time": "2021-06-11T20:31:36.296Z"
   },
   {
    "duration": 29,
    "start_time": "2021-06-11T20:31:36.989Z"
   },
   {
    "duration": 29,
    "start_time": "2021-06-11T20:31:37.021Z"
   },
   {
    "duration": 54,
    "start_time": "2021-06-11T20:31:37.052Z"
   },
   {
    "duration": 1588,
    "start_time": "2021-06-11T20:33:17.651Z"
   },
   {
    "duration": 24,
    "start_time": "2021-06-11T20:33:19.242Z"
   },
   {
    "duration": 35,
    "start_time": "2021-06-11T20:33:19.269Z"
   },
   {
    "duration": 18,
    "start_time": "2021-06-11T20:33:19.307Z"
   },
   {
    "duration": 66,
    "start_time": "2021-06-11T20:33:19.328Z"
   },
   {
    "duration": 436,
    "start_time": "2021-06-11T20:33:19.396Z"
   },
   {
    "duration": 584,
    "start_time": "2021-06-11T20:33:19.835Z"
   },
   {
    "duration": 565,
    "start_time": "2021-06-11T20:33:20.422Z"
   },
   {
    "duration": 1088,
    "start_time": "2021-06-11T20:33:20.993Z"
   },
   {
    "duration": 1256,
    "start_time": "2021-06-11T20:33:22.084Z"
   },
   {
    "duration": 774,
    "start_time": "2021-06-11T20:33:23.343Z"
   },
   {
    "duration": 346,
    "start_time": "2021-06-11T20:33:24.120Z"
   },
   {
    "duration": 406,
    "start_time": "2021-06-11T20:33:24.468Z"
   },
   {
    "duration": 411,
    "start_time": "2021-06-11T20:33:24.877Z"
   },
   {
    "duration": 32,
    "start_time": "2021-06-11T20:33:25.290Z"
   },
   {
    "duration": 26,
    "start_time": "2021-06-11T20:33:25.325Z"
   },
   {
    "duration": 722,
    "start_time": "2021-06-11T20:33:25.354Z"
   },
   {
    "duration": 32,
    "start_time": "2021-06-11T20:33:26.079Z"
   },
   {
    "duration": 30,
    "start_time": "2021-06-11T20:33:26.113Z"
   },
   {
    "duration": 55,
    "start_time": "2021-06-11T20:33:26.145Z"
   },
   {
    "duration": 42,
    "start_time": "2021-06-11T20:40:53.489Z"
   },
   {
    "duration": 38,
    "start_time": "2021-06-11T20:41:19.550Z"
   },
   {
    "duration": 39,
    "start_time": "2021-06-11T20:41:47.166Z"
   },
   {
    "duration": 42,
    "start_time": "2021-06-11T20:41:55.354Z"
   },
   {
    "duration": 1580,
    "start_time": "2021-06-11T20:45:32.250Z"
   },
   {
    "duration": 26,
    "start_time": "2021-06-11T20:45:33.834Z"
   },
   {
    "duration": 40,
    "start_time": "2021-06-11T20:45:33.864Z"
   },
   {
    "duration": 19,
    "start_time": "2021-06-11T20:45:33.906Z"
   },
   {
    "duration": 65,
    "start_time": "2021-06-11T20:45:33.927Z"
   },
   {
    "duration": 444,
    "start_time": "2021-06-11T20:45:33.994Z"
   },
   {
    "duration": 625,
    "start_time": "2021-06-11T20:45:34.440Z"
   },
   {
    "duration": 462,
    "start_time": "2021-06-11T20:45:35.067Z"
   },
   {
    "duration": 1127,
    "start_time": "2021-06-11T20:45:35.533Z"
   },
   {
    "duration": 1259,
    "start_time": "2021-06-11T20:45:36.663Z"
   },
   {
    "duration": 767,
    "start_time": "2021-06-11T20:45:37.925Z"
   },
   {
    "duration": 348,
    "start_time": "2021-06-11T20:45:38.694Z"
   },
   {
    "duration": 425,
    "start_time": "2021-06-11T20:45:39.044Z"
   },
   {
    "duration": 448,
    "start_time": "2021-06-11T20:45:39.472Z"
   },
   {
    "duration": 33,
    "start_time": "2021-06-11T20:45:39.922Z"
   },
   {
    "duration": 46,
    "start_time": "2021-06-11T20:45:39.959Z"
   },
   {
    "duration": 736,
    "start_time": "2021-06-11T20:45:40.008Z"
   },
   {
    "duration": 52,
    "start_time": "2021-06-11T20:45:40.746Z"
   },
   {
    "duration": 36,
    "start_time": "2021-06-11T20:45:40.801Z"
   },
   {
    "duration": 448,
    "start_time": "2021-06-11T20:45:40.839Z"
   },
   {
    "duration": 359,
    "start_time": "2021-06-11T20:46:26.488Z"
   },
   {
    "duration": 37,
    "start_time": "2021-06-11T20:46:40.950Z"
   },
   {
    "duration": 1573,
    "start_time": "2021-06-11T20:46:47.270Z"
   },
   {
    "duration": 24,
    "start_time": "2021-06-11T20:46:48.846Z"
   },
   {
    "duration": 33,
    "start_time": "2021-06-11T20:46:48.873Z"
   },
   {
    "duration": 25,
    "start_time": "2021-06-11T20:46:48.909Z"
   },
   {
    "duration": 63,
    "start_time": "2021-06-11T20:46:48.936Z"
   },
   {
    "duration": 435,
    "start_time": "2021-06-11T20:46:49.002Z"
   },
   {
    "duration": 635,
    "start_time": "2021-06-11T20:46:49.439Z"
   },
   {
    "duration": 449,
    "start_time": "2021-06-11T20:46:50.077Z"
   },
   {
    "duration": 1107,
    "start_time": "2021-06-11T20:46:50.530Z"
   },
   {
    "duration": 1162,
    "start_time": "2021-06-11T20:46:51.640Z"
   },
   {
    "duration": 780,
    "start_time": "2021-06-11T20:46:52.804Z"
   },
   {
    "duration": 364,
    "start_time": "2021-06-11T20:46:53.587Z"
   },
   {
    "duration": 431,
    "start_time": "2021-06-11T20:46:53.954Z"
   },
   {
    "duration": 409,
    "start_time": "2021-06-11T20:46:54.387Z"
   },
   {
    "duration": 30,
    "start_time": "2021-06-11T20:46:54.798Z"
   },
   {
    "duration": 24,
    "start_time": "2021-06-11T20:46:54.830Z"
   },
   {
    "duration": 715,
    "start_time": "2021-06-11T20:46:54.856Z"
   },
   {
    "duration": 47,
    "start_time": "2021-06-11T20:46:55.574Z"
   },
   {
    "duration": 66,
    "start_time": "2021-06-11T20:46:55.623Z"
   },
   {
    "duration": 36,
    "start_time": "2021-06-11T20:46:55.692Z"
   },
   {
    "duration": 53,
    "start_time": "2021-06-11T20:55:27.938Z"
   },
   {
    "duration": 55,
    "start_time": "2021-06-11T20:57:16.274Z"
   },
   {
    "duration": 51,
    "start_time": "2021-06-11T20:57:18.429Z"
   },
   {
    "duration": 67,
    "start_time": "2021-06-11T21:01:42.852Z"
   },
   {
    "duration": 54,
    "start_time": "2021-06-11T21:02:13.280Z"
   },
   {
    "duration": 77,
    "start_time": "2021-06-11T21:27:34.184Z"
   },
   {
    "duration": 73,
    "start_time": "2021-06-11T21:28:04.923Z"
   },
   {
    "duration": 73,
    "start_time": "2021-06-11T21:28:27.739Z"
   },
   {
    "duration": 1560,
    "start_time": "2021-06-11T21:35:27.186Z"
   },
   {
    "duration": 24,
    "start_time": "2021-06-11T21:35:28.749Z"
   },
   {
    "duration": 27,
    "start_time": "2021-06-11T21:35:28.777Z"
   },
   {
    "duration": 19,
    "start_time": "2021-06-11T21:35:28.807Z"
   },
   {
    "duration": 67,
    "start_time": "2021-06-11T21:35:28.829Z"
   },
   {
    "duration": 427,
    "start_time": "2021-06-11T21:35:28.898Z"
   },
   {
    "duration": 600,
    "start_time": "2021-06-11T21:35:29.327Z"
   },
   {
    "duration": 488,
    "start_time": "2021-06-11T21:35:29.930Z"
   },
   {
    "duration": 1117,
    "start_time": "2021-06-11T21:35:30.422Z"
   },
   {
    "duration": 1196,
    "start_time": "2021-06-11T21:35:31.542Z"
   },
   {
    "duration": 777,
    "start_time": "2021-06-11T21:35:32.741Z"
   },
   {
    "duration": 352,
    "start_time": "2021-06-11T21:35:33.521Z"
   },
   {
    "duration": 402,
    "start_time": "2021-06-11T21:35:33.876Z"
   },
   {
    "duration": 415,
    "start_time": "2021-06-11T21:35:34.281Z"
   },
   {
    "duration": 31,
    "start_time": "2021-06-11T21:35:34.698Z"
   },
   {
    "duration": 23,
    "start_time": "2021-06-11T21:35:34.732Z"
   },
   {
    "duration": 711,
    "start_time": "2021-06-11T21:35:34.757Z"
   },
   {
    "duration": 45,
    "start_time": "2021-06-11T21:35:35.470Z"
   },
   {
    "duration": 28,
    "start_time": "2021-06-11T21:35:35.517Z"
   },
   {
    "duration": 59,
    "start_time": "2021-06-11T21:35:35.547Z"
   },
   {
    "duration": 35,
    "start_time": "2021-06-11T21:35:35.608Z"
   },
   {
    "duration": 54,
    "start_time": "2021-06-11T21:35:35.645Z"
   },
   {
    "duration": 30,
    "start_time": "2021-06-11T21:35:35.701Z"
   },
   {
    "duration": 58,
    "start_time": "2021-06-11T21:35:35.734Z"
   },
   {
    "duration": 30,
    "start_time": "2021-06-11T21:35:35.795Z"
   },
   {
    "duration": 29,
    "start_time": "2021-06-11T21:35:35.827Z"
   },
   {
    "duration": 11,
    "start_time": "2021-06-11T21:46:30.376Z"
   },
   {
    "duration": 41,
    "start_time": "2021-06-11T21:46:37.810Z"
   },
   {
    "duration": 43,
    "start_time": "2021-06-11T21:46:43.700Z"
   },
   {
    "duration": 466,
    "start_time": "2021-06-11T21:50:23.985Z"
   },
   {
    "duration": 1518,
    "start_time": "2021-06-11T21:50:56.420Z"
   },
   {
    "duration": 27,
    "start_time": "2021-06-11T21:50:57.941Z"
   },
   {
    "duration": 38,
    "start_time": "2021-06-11T21:50:57.972Z"
   },
   {
    "duration": 21,
    "start_time": "2021-06-11T21:50:58.013Z"
   },
   {
    "duration": 77,
    "start_time": "2021-06-11T21:50:58.037Z"
   },
   {
    "duration": 530,
    "start_time": "2021-06-11T21:50:58.117Z"
   },
   {
    "duration": 593,
    "start_time": "2021-06-11T21:50:58.650Z"
   },
   {
    "duration": 446,
    "start_time": "2021-06-11T21:50:59.246Z"
   },
   {
    "duration": 1108,
    "start_time": "2021-06-11T21:50:59.696Z"
   },
   {
    "duration": 1169,
    "start_time": "2021-06-11T21:51:00.808Z"
   },
   {
    "duration": 807,
    "start_time": "2021-06-11T21:51:01.980Z"
   },
   {
    "duration": 366,
    "start_time": "2021-06-11T21:51:02.790Z"
   },
   {
    "duration": 415,
    "start_time": "2021-06-11T21:51:03.159Z"
   },
   {
    "duration": 430,
    "start_time": "2021-06-11T21:51:03.577Z"
   },
   {
    "duration": 33,
    "start_time": "2021-06-11T21:51:04.009Z"
   },
   {
    "duration": 51,
    "start_time": "2021-06-11T21:51:04.044Z"
   },
   {
    "duration": 700,
    "start_time": "2021-06-11T21:51:04.098Z"
   },
   {
    "duration": 38,
    "start_time": "2021-06-11T21:51:04.801Z"
   },
   {
    "duration": 61,
    "start_time": "2021-06-11T21:51:04.841Z"
   },
   {
    "duration": 32,
    "start_time": "2021-06-11T21:51:04.904Z"
   },
   {
    "duration": 57,
    "start_time": "2021-06-11T21:51:04.938Z"
   },
   {
    "duration": 32,
    "start_time": "2021-06-11T21:51:04.998Z"
   },
   {
    "duration": 57,
    "start_time": "2021-06-11T21:51:05.032Z"
   },
   {
    "duration": 37,
    "start_time": "2021-06-11T21:51:05.091Z"
   },
   {
    "duration": 56,
    "start_time": "2021-06-11T21:51:05.131Z"
   },
   {
    "duration": 30,
    "start_time": "2021-06-11T21:51:05.189Z"
   },
   {
    "duration": 16,
    "start_time": "2021-06-11T21:51:05.224Z"
   },
   {
    "duration": 18,
    "start_time": "2021-06-11T21:53:48.330Z"
   },
   {
    "duration": 1569,
    "start_time": "2021-06-11T22:52:03.668Z"
   },
   {
    "duration": 23,
    "start_time": "2021-06-11T22:52:05.240Z"
   },
   {
    "duration": 42,
    "start_time": "2021-06-11T22:52:05.266Z"
   },
   {
    "duration": 17,
    "start_time": "2021-06-11T22:52:05.312Z"
   },
   {
    "duration": 72,
    "start_time": "2021-06-11T22:52:05.332Z"
   },
   {
    "duration": 437,
    "start_time": "2021-06-11T22:52:05.406Z"
   },
   {
    "duration": 602,
    "start_time": "2021-06-11T22:52:05.846Z"
   },
   {
    "duration": 463,
    "start_time": "2021-06-11T22:52:06.452Z"
   },
   {
    "duration": 1156,
    "start_time": "2021-06-11T22:52:06.919Z"
   },
   {
    "duration": 1194,
    "start_time": "2021-06-11T22:52:08.085Z"
   },
   {
    "duration": 796,
    "start_time": "2021-06-11T22:52:09.281Z"
   },
   {
    "duration": 353,
    "start_time": "2021-06-11T22:52:10.084Z"
   },
   {
    "duration": 433,
    "start_time": "2021-06-11T22:52:10.440Z"
   },
   {
    "duration": 426,
    "start_time": "2021-06-11T22:52:10.875Z"
   },
   {
    "duration": 32,
    "start_time": "2021-06-11T22:52:11.304Z"
   },
   {
    "duration": 48,
    "start_time": "2021-06-11T22:52:11.339Z"
   },
   {
    "duration": 733,
    "start_time": "2021-06-11T22:52:11.389Z"
   },
   {
    "duration": 36,
    "start_time": "2021-06-11T22:52:12.124Z"
   },
   {
    "duration": 58,
    "start_time": "2021-06-11T22:52:12.162Z"
   },
   {
    "duration": 30,
    "start_time": "2021-06-11T22:52:12.223Z"
   },
   {
    "duration": 64,
    "start_time": "2021-06-11T22:52:12.256Z"
   },
   {
    "duration": 33,
    "start_time": "2021-06-11T22:52:12.323Z"
   },
   {
    "duration": 35,
    "start_time": "2021-06-11T22:52:12.390Z"
   },
   {
    "duration": 62,
    "start_time": "2021-06-11T22:52:12.429Z"
   },
   {
    "duration": 34,
    "start_time": "2021-06-11T22:52:12.496Z"
   },
   {
    "duration": 63,
    "start_time": "2021-06-11T22:52:12.533Z"
   },
   {
    "duration": 25,
    "start_time": "2021-06-11T22:52:12.600Z"
   },
   {
    "duration": 10,
    "start_time": "2021-06-11T22:52:12.627Z"
   },
   {
    "duration": 60,
    "start_time": "2021-06-11T22:52:12.639Z"
   },
   {
    "duration": 11,
    "start_time": "2021-06-11T22:52:12.701Z"
   },
   {
    "duration": 1554,
    "start_time": "2021-06-12T12:17:58.286Z"
   },
   {
    "duration": 23,
    "start_time": "2021-06-12T12:17:59.843Z"
   },
   {
    "duration": 35,
    "start_time": "2021-06-12T12:17:59.869Z"
   },
   {
    "duration": 20,
    "start_time": "2021-06-12T12:17:59.907Z"
   },
   {
    "duration": 71,
    "start_time": "2021-06-12T12:17:59.930Z"
   },
   {
    "duration": 438,
    "start_time": "2021-06-12T12:18:00.004Z"
   },
   {
    "duration": 616,
    "start_time": "2021-06-12T12:18:00.445Z"
   },
   {
    "duration": 464,
    "start_time": "2021-06-12T12:18:01.067Z"
   },
   {
    "duration": 1131,
    "start_time": "2021-06-12T12:18:01.535Z"
   },
   {
    "duration": 1177,
    "start_time": "2021-06-12T12:18:02.669Z"
   },
   {
    "duration": 852,
    "start_time": "2021-06-12T12:18:03.848Z"
   },
   {
    "duration": 350,
    "start_time": "2021-06-12T12:18:04.703Z"
   },
   {
    "duration": 431,
    "start_time": "2021-06-12T12:18:05.056Z"
   },
   {
    "duration": 417,
    "start_time": "2021-06-12T12:18:05.490Z"
   },
   {
    "duration": 34,
    "start_time": "2021-06-12T12:18:05.910Z"
   },
   {
    "duration": 46,
    "start_time": "2021-06-12T12:18:05.946Z"
   },
   {
    "duration": 714,
    "start_time": "2021-06-12T12:18:05.995Z"
   },
   {
    "duration": 36,
    "start_time": "2021-06-12T12:18:06.712Z"
   },
   {
    "duration": 48,
    "start_time": "2021-06-12T12:18:06.750Z"
   },
   {
    "duration": 31,
    "start_time": "2021-06-12T12:18:06.800Z"
   },
   {
    "duration": 65,
    "start_time": "2021-06-12T12:18:06.833Z"
   },
   {
    "duration": 33,
    "start_time": "2021-06-12T12:18:06.901Z"
   },
   {
    "duration": 60,
    "start_time": "2021-06-12T12:18:06.940Z"
   },
   {
    "duration": 36,
    "start_time": "2021-06-12T12:18:07.003Z"
   },
   {
    "duration": 57,
    "start_time": "2021-06-12T12:18:07.041Z"
   },
   {
    "duration": 31,
    "start_time": "2021-06-12T12:18:07.100Z"
   },
   {
    "duration": 23,
    "start_time": "2021-06-12T12:18:07.134Z"
   },
   {
    "duration": 9,
    "start_time": "2021-06-12T12:18:07.187Z"
   },
   {
    "duration": 28,
    "start_time": "2021-06-12T12:18:07.199Z"
   },
   {
    "duration": 10,
    "start_time": "2021-06-12T12:18:07.229Z"
   },
   {
    "duration": 32,
    "start_time": "2021-06-12T12:39:58.234Z"
   },
   {
    "duration": 1567,
    "start_time": "2021-06-15T22:57:01.250Z"
   },
   {
    "duration": 27,
    "start_time": "2021-06-15T22:57:02.820Z"
   },
   {
    "duration": 23,
    "start_time": "2021-06-15T22:57:02.851Z"
   },
   {
    "duration": 48,
    "start_time": "2021-06-15T22:57:02.878Z"
   },
   {
    "duration": 37,
    "start_time": "2021-06-15T22:57:02.929Z"
   },
   {
    "duration": 460,
    "start_time": "2021-06-15T22:57:02.969Z"
   },
   {
    "duration": 585,
    "start_time": "2021-06-15T22:57:03.432Z"
   },
   {
    "duration": 442,
    "start_time": "2021-06-15T22:57:04.020Z"
   },
   {
    "duration": 1108,
    "start_time": "2021-06-15T22:57:04.468Z"
   },
   {
    "duration": 1160,
    "start_time": "2021-06-15T22:57:05.579Z"
   },
   {
    "duration": 862,
    "start_time": "2021-06-15T22:57:06.741Z"
   },
   {
    "duration": 357,
    "start_time": "2021-06-15T22:57:07.606Z"
   },
   {
    "duration": 394,
    "start_time": "2021-06-15T22:57:07.965Z"
   },
   {
    "duration": 414,
    "start_time": "2021-06-15T22:57:08.361Z"
   },
   {
    "duration": 47,
    "start_time": "2021-06-15T22:57:08.777Z"
   },
   {
    "duration": 24,
    "start_time": "2021-06-15T22:57:08.827Z"
   },
   {
    "duration": 690,
    "start_time": "2021-06-15T22:57:08.854Z"
   },
   {
    "duration": 37,
    "start_time": "2021-06-15T22:57:09.546Z"
   },
   {
    "duration": 60,
    "start_time": "2021-06-15T22:57:09.585Z"
   },
   {
    "duration": 30,
    "start_time": "2021-06-15T22:57:09.647Z"
   },
   {
    "duration": 56,
    "start_time": "2021-06-15T22:57:09.679Z"
   },
   {
    "duration": 31,
    "start_time": "2021-06-15T22:57:09.737Z"
   },
   {
    "duration": 54,
    "start_time": "2021-06-15T22:57:09.770Z"
   },
   {
    "duration": 35,
    "start_time": "2021-06-15T22:57:09.827Z"
   },
   {
    "duration": 32,
    "start_time": "2021-06-15T22:57:09.864Z"
   },
   {
    "duration": 57,
    "start_time": "2021-06-15T22:57:09.898Z"
   },
   {
    "duration": 25,
    "start_time": "2021-06-15T22:57:09.959Z"
   },
   {
    "duration": 41,
    "start_time": "2021-06-15T22:57:09.987Z"
   },
   {
    "duration": 35,
    "start_time": "2021-06-15T22:57:10.030Z"
   },
   {
    "duration": 9,
    "start_time": "2021-06-15T22:57:10.068Z"
   },
   {
    "duration": 401,
    "start_time": "2021-06-15T23:00:47.394Z"
   },
   {
    "duration": 1496,
    "start_time": "2021-06-15T23:08:45.767Z"
   },
   {
    "duration": 25,
    "start_time": "2021-06-15T23:08:47.267Z"
   },
   {
    "duration": 44,
    "start_time": "2021-06-15T23:08:47.296Z"
   },
   {
    "duration": 18,
    "start_time": "2021-06-15T23:08:47.344Z"
   },
   {
    "duration": 68,
    "start_time": "2021-06-15T23:08:47.365Z"
   },
   {
    "duration": 49942,
    "start_time": "2021-06-15T23:08:47.436Z"
   },
   {
    "duration": 575,
    "start_time": "2021-06-15T23:09:37.380Z"
   },
   {
    "duration": 511,
    "start_time": "2021-06-15T23:09:37.957Z"
   },
   {
    "duration": 3264,
    "start_time": "2021-06-15T23:09:38.473Z"
   },
   {
    "duration": 1054,
    "start_time": "2021-06-15T23:09:41.740Z"
   },
   {
    "duration": 771,
    "start_time": "2021-06-15T23:09:42.797Z"
   },
   {
    "duration": 446,
    "start_time": "2021-06-15T23:09:43.571Z"
   },
   {
    "duration": 391,
    "start_time": "2021-06-15T23:09:44.020Z"
   },
   {
    "duration": 429,
    "start_time": "2021-06-15T23:09:44.413Z"
   },
   {
    "duration": 32,
    "start_time": "2021-06-15T23:09:44.845Z"
   },
   {
    "duration": 47,
    "start_time": "2021-06-15T23:09:44.880Z"
   },
   {
    "duration": 685,
    "start_time": "2021-06-15T23:09:44.929Z"
   },
   {
    "duration": 41,
    "start_time": "2021-06-15T23:09:45.616Z"
   },
   {
    "duration": 169,
    "start_time": "2021-06-15T23:09:45.659Z"
   },
   {
    "duration": 31,
    "start_time": "2021-06-15T23:09:45.830Z"
   },
   {
    "duration": 62,
    "start_time": "2021-06-15T23:09:45.864Z"
   },
   {
    "duration": 32,
    "start_time": "2021-06-15T23:09:45.928Z"
   },
   {
    "duration": 63,
    "start_time": "2021-06-15T23:09:45.963Z"
   },
   {
    "duration": 38,
    "start_time": "2021-06-15T23:09:46.029Z"
   },
   {
    "duration": 61,
    "start_time": "2021-06-15T23:09:46.070Z"
   },
   {
    "duration": 33,
    "start_time": "2021-06-15T23:09:46.134Z"
   },
   {
    "duration": 58,
    "start_time": "2021-06-15T23:09:46.174Z"
   },
   {
    "duration": 10,
    "start_time": "2021-06-15T23:09:46.235Z"
   },
   {
    "duration": 27,
    "start_time": "2021-06-15T23:09:46.248Z"
   },
   {
    "duration": 11,
    "start_time": "2021-06-15T23:09:46.278Z"
   },
   {
    "duration": 1508,
    "start_time": "2021-06-15T23:12:53.146Z"
   },
   {
    "duration": 23,
    "start_time": "2021-06-15T23:12:54.657Z"
   },
   {
    "duration": 22,
    "start_time": "2021-06-15T23:12:54.683Z"
   },
   {
    "duration": 21,
    "start_time": "2021-06-15T23:12:54.725Z"
   },
   {
    "duration": 36,
    "start_time": "2021-06-15T23:12:54.750Z"
   },
   {
    "duration": -793,
    "start_time": "2021-06-15T23:13:46.907Z"
   },
   {
    "duration": -789,
    "start_time": "2021-06-15T23:13:46.912Z"
   },
   {
    "duration": -789,
    "start_time": "2021-06-15T23:13:46.914Z"
   },
   {
    "duration": -788,
    "start_time": "2021-06-15T23:13:46.915Z"
   },
   {
    "duration": -787,
    "start_time": "2021-06-15T23:13:46.916Z"
   },
   {
    "duration": -786,
    "start_time": "2021-06-15T23:13:46.917Z"
   },
   {
    "duration": -786,
    "start_time": "2021-06-15T23:13:46.919Z"
   },
   {
    "duration": -785,
    "start_time": "2021-06-15T23:13:46.920Z"
   },
   {
    "duration": -784,
    "start_time": "2021-06-15T23:13:46.921Z"
   },
   {
    "duration": -961,
    "start_time": "2021-06-15T23:13:47.100Z"
   },
   {
    "duration": -960,
    "start_time": "2021-06-15T23:13:47.101Z"
   },
   {
    "duration": -959,
    "start_time": "2021-06-15T23:13:47.102Z"
   },
   {
    "duration": -960,
    "start_time": "2021-06-15T23:13:47.104Z"
   },
   {
    "duration": -960,
    "start_time": "2021-06-15T23:13:47.105Z"
   },
   {
    "duration": -960,
    "start_time": "2021-06-15T23:13:47.106Z"
   },
   {
    "duration": -959,
    "start_time": "2021-06-15T23:13:47.107Z"
   },
   {
    "duration": -960,
    "start_time": "2021-06-15T23:13:47.109Z"
   },
   {
    "duration": -960,
    "start_time": "2021-06-15T23:13:47.110Z"
   },
   {
    "duration": -960,
    "start_time": "2021-06-15T23:13:47.111Z"
   },
   {
    "duration": -960,
    "start_time": "2021-06-15T23:13:47.112Z"
   },
   {
    "duration": -1137,
    "start_time": "2021-06-15T23:13:47.291Z"
   },
   {
    "duration": -1140,
    "start_time": "2021-06-15T23:13:47.295Z"
   },
   {
    "duration": -1141,
    "start_time": "2021-06-15T23:13:47.297Z"
   },
   {
    "duration": -1141,
    "start_time": "2021-06-15T23:13:47.298Z"
   },
   {
    "duration": -1140,
    "start_time": "2021-06-15T23:13:47.299Z"
   },
   {
    "duration": 54045,
    "start_time": "2021-06-15T23:14:51.168Z"
   },
   {
    "duration": 54204,
    "start_time": "2021-06-15T23:16:26.375Z"
   },
   {
    "duration": 297,
    "start_time": "2021-06-15T23:19:53.258Z"
   },
   {
    "duration": 20,
    "start_time": "2021-06-15T23:20:24.107Z"
   },
   {
    "duration": 6598,
    "start_time": "2021-06-15T23:20:50.856Z"
   },
   {
    "duration": 7002,
    "start_time": "2021-06-15T23:20:59.483Z"
   },
   {
    "duration": 5616,
    "start_time": "2021-06-15T23:21:44.345Z"
   },
   {
    "duration": 682,
    "start_time": "2021-06-15T23:25:38.196Z"
   },
   {
    "duration": 711,
    "start_time": "2021-06-15T23:26:42.455Z"
   },
   {
    "duration": 2865,
    "start_time": "2021-06-15T23:26:57.613Z"
   },
   {
    "duration": 677,
    "start_time": "2021-06-15T23:28:26.733Z"
   },
   {
    "duration": 676,
    "start_time": "2021-06-15T23:28:40.641Z"
   },
   {
    "duration": 692,
    "start_time": "2021-06-15T23:29:45.522Z"
   },
   {
    "duration": 673,
    "start_time": "2021-06-15T23:29:56.315Z"
   },
   {
    "duration": 772,
    "start_time": "2021-06-15T23:30:03.403Z"
   },
   {
    "duration": 778,
    "start_time": "2021-06-15T23:30:32.681Z"
   },
   {
    "duration": 661,
    "start_time": "2021-06-15T23:30:57.513Z"
   },
   {
    "duration": 285,
    "start_time": "2021-06-15T23:32:30.383Z"
   },
   {
    "duration": 666,
    "start_time": "2021-06-15T23:34:43.908Z"
   },
   {
    "duration": 1563,
    "start_time": "2021-06-15T23:36:37.102Z"
   },
   {
    "duration": 24,
    "start_time": "2021-06-15T23:36:38.668Z"
   },
   {
    "duration": 40,
    "start_time": "2021-06-15T23:36:38.695Z"
   },
   {
    "duration": 19,
    "start_time": "2021-06-15T23:36:38.737Z"
   },
   {
    "duration": 34,
    "start_time": "2021-06-15T23:36:38.758Z"
   },
   {
    "duration": 670,
    "start_time": "2021-06-15T23:36:38.823Z"
   },
   {
    "duration": 574,
    "start_time": "2021-06-15T23:36:39.496Z"
   },
   {
    "duration": 453,
    "start_time": "2021-06-15T23:36:40.074Z"
   },
   {
    "duration": 1100,
    "start_time": "2021-06-15T23:36:40.530Z"
   },
   {
    "duration": 1215,
    "start_time": "2021-06-15T23:36:41.633Z"
   },
   {
    "duration": 1085,
    "start_time": "2021-06-15T23:36:42.850Z"
   },
   {
    "duration": 432,
    "start_time": "2021-06-15T23:36:43.939Z"
   },
   {
    "duration": 413,
    "start_time": "2021-06-15T23:36:44.373Z"
   },
   {
    "duration": 449,
    "start_time": "2021-06-15T23:36:44.788Z"
   },
   {
    "duration": 36,
    "start_time": "2021-06-15T23:36:45.240Z"
   },
   {
    "duration": 49,
    "start_time": "2021-06-15T23:36:45.279Z"
   },
   {
    "duration": 693,
    "start_time": "2021-06-15T23:36:45.331Z"
   },
   {
    "duration": 36,
    "start_time": "2021-06-15T23:36:46.026Z"
   },
   {
    "duration": 29,
    "start_time": "2021-06-15T23:36:46.065Z"
   },
   {
    "duration": 55,
    "start_time": "2021-06-15T23:36:46.096Z"
   },
   {
    "duration": 35,
    "start_time": "2021-06-15T23:36:46.153Z"
   },
   {
    "duration": 55,
    "start_time": "2021-06-15T23:36:46.190Z"
   },
   {
    "duration": 30,
    "start_time": "2021-06-15T23:36:46.250Z"
   },
   {
    "duration": 59,
    "start_time": "2021-06-15T23:36:46.283Z"
   },
   {
    "duration": 29,
    "start_time": "2021-06-15T23:36:46.345Z"
   },
   {
    "duration": 55,
    "start_time": "2021-06-15T23:36:46.376Z"
   },
   {
    "duration": 24,
    "start_time": "2021-06-15T23:36:46.433Z"
   },
   {
    "duration": 9,
    "start_time": "2021-06-15T23:36:46.459Z"
   },
   {
    "duration": 55,
    "start_time": "2021-06-15T23:36:46.470Z"
   },
   {
    "duration": 8,
    "start_time": "2021-06-15T23:36:46.528Z"
   },
   {
    "duration": 1439,
    "start_time": "2021-06-15T23:40:37.151Z"
   },
   {
    "duration": 32,
    "start_time": "2021-06-15T23:40:38.592Z"
   },
   {
    "duration": 22,
    "start_time": "2021-06-15T23:40:38.627Z"
   },
   {
    "duration": 18,
    "start_time": "2021-06-15T23:40:38.651Z"
   },
   {
    "duration": 65,
    "start_time": "2021-06-15T23:40:38.672Z"
   },
   {
    "duration": 665,
    "start_time": "2021-06-15T23:40:38.739Z"
   },
   {
    "duration": 1497,
    "start_time": "2021-06-15T23:42:03.352Z"
   },
   {
    "duration": 23,
    "start_time": "2021-06-15T23:42:04.852Z"
   },
   {
    "duration": 22,
    "start_time": "2021-06-15T23:42:04.878Z"
   },
   {
    "duration": 18,
    "start_time": "2021-06-15T23:42:04.925Z"
   },
   {
    "duration": 42,
    "start_time": "2021-06-15T23:42:04.945Z"
   },
   {
    "duration": 691,
    "start_time": "2021-06-15T23:42:04.989Z"
   },
   {
    "duration": 1456,
    "start_time": "2021-06-15T23:44:21.106Z"
   },
   {
    "duration": 23,
    "start_time": "2021-06-15T23:44:22.565Z"
   },
   {
    "duration": 46,
    "start_time": "2021-06-15T23:44:22.591Z"
   },
   {
    "duration": 18,
    "start_time": "2021-06-15T23:44:22.640Z"
   },
   {
    "duration": 35,
    "start_time": "2021-06-15T23:44:22.660Z"
   },
   {
    "duration": 696,
    "start_time": "2021-06-15T23:44:22.697Z"
   },
   {
    "duration": 433,
    "start_time": "2021-06-15T23:44:23.396Z"
   },
   {
    "duration": -610,
    "start_time": "2021-06-15T23:44:24.442Z"
   },
   {
    "duration": -612,
    "start_time": "2021-06-15T23:44:24.445Z"
   },
   {
    "duration": -622,
    "start_time": "2021-06-15T23:44:24.457Z"
   },
   {
    "duration": -623,
    "start_time": "2021-06-15T23:44:24.459Z"
   },
   {
    "duration": -623,
    "start_time": "2021-06-15T23:44:24.461Z"
   },
   {
    "duration": -623,
    "start_time": "2021-06-15T23:44:24.462Z"
   },
   {
    "duration": -623,
    "start_time": "2021-06-15T23:44:24.463Z"
   },
   {
    "duration": -623,
    "start_time": "2021-06-15T23:44:24.464Z"
   },
   {
    "duration": -622,
    "start_time": "2021-06-15T23:44:24.465Z"
   },
   {
    "duration": -622,
    "start_time": "2021-06-15T23:44:24.466Z"
   },
   {
    "duration": -623,
    "start_time": "2021-06-15T23:44:24.468Z"
   },
   {
    "duration": -624,
    "start_time": "2021-06-15T23:44:24.471Z"
   },
   {
    "duration": -625,
    "start_time": "2021-06-15T23:44:24.473Z"
   },
   {
    "duration": -773,
    "start_time": "2021-06-15T23:44:24.622Z"
   },
   {
    "duration": -774,
    "start_time": "2021-06-15T23:44:24.624Z"
   },
   {
    "duration": -773,
    "start_time": "2021-06-15T23:44:24.624Z"
   },
   {
    "duration": -773,
    "start_time": "2021-06-15T23:44:24.626Z"
   },
   {
    "duration": -773,
    "start_time": "2021-06-15T23:44:24.627Z"
   },
   {
    "duration": -773,
    "start_time": "2021-06-15T23:44:24.628Z"
   },
   {
    "duration": -772,
    "start_time": "2021-06-15T23:44:24.629Z"
   },
   {
    "duration": -772,
    "start_time": "2021-06-15T23:44:24.630Z"
   },
   {
    "duration": -771,
    "start_time": "2021-06-15T23:44:24.631Z"
   },
   {
    "duration": -771,
    "start_time": "2021-06-15T23:44:24.632Z"
   },
   {
    "duration": 606,
    "start_time": "2021-06-15T23:45:02.831Z"
   },
   {
    "duration": 606,
    "start_time": "2021-06-15T23:45:27.891Z"
   },
   {
    "duration": 1553,
    "start_time": "2021-06-15T23:48:32.492Z"
   },
   {
    "duration": 24,
    "start_time": "2021-06-15T23:48:34.048Z"
   },
   {
    "duration": 23,
    "start_time": "2021-06-15T23:48:34.074Z"
   },
   {
    "duration": 18,
    "start_time": "2021-06-15T23:48:34.124Z"
   },
   {
    "duration": 34,
    "start_time": "2021-06-15T23:48:34.145Z"
   },
   {
    "duration": 688,
    "start_time": "2021-06-15T23:48:34.182Z"
   },
   {
    "duration": 1482,
    "start_time": "2021-06-15T23:50:23.557Z"
   },
   {
    "duration": 23,
    "start_time": "2021-06-15T23:50:25.042Z"
   },
   {
    "duration": 22,
    "start_time": "2021-06-15T23:50:25.068Z"
   },
   {
    "duration": 47,
    "start_time": "2021-06-15T23:50:25.093Z"
   },
   {
    "duration": 39,
    "start_time": "2021-06-15T23:50:25.142Z"
   },
   {
    "duration": 681,
    "start_time": "2021-06-15T23:50:25.183Z"
   },
   {
    "duration": 4942,
    "start_time": "2021-06-15T23:50:25.866Z"
   },
   {
    "duration": 474,
    "start_time": "2021-06-15T23:50:30.812Z"
   },
   {
    "duration": 1286,
    "start_time": "2021-06-15T23:50:31.289Z"
   },
   {
    "duration": 1064,
    "start_time": "2021-06-15T23:50:32.577Z"
   },
   {
    "duration": 774,
    "start_time": "2021-06-15T23:50:33.644Z"
   },
   {
    "duration": 359,
    "start_time": "2021-06-15T23:50:34.420Z"
   },
   {
    "duration": 414,
    "start_time": "2021-06-15T23:50:34.781Z"
   },
   {
    "duration": 419,
    "start_time": "2021-06-15T23:50:35.198Z"
   },
   {
    "duration": 34,
    "start_time": "2021-06-15T23:50:35.624Z"
   },
   {
    "duration": 26,
    "start_time": "2021-06-15T23:50:35.662Z"
   },
   {
    "duration": 808,
    "start_time": "2021-06-15T23:50:35.690Z"
   },
   {
    "duration": 49,
    "start_time": "2021-06-15T23:50:36.501Z"
   },
   {
    "duration": 32,
    "start_time": "2021-06-15T23:50:36.553Z"
   },
   {
    "duration": 61,
    "start_time": "2021-06-15T23:50:36.588Z"
   },
   {
    "duration": 35,
    "start_time": "2021-06-15T23:50:36.651Z"
   },
   {
    "duration": 54,
    "start_time": "2021-06-15T23:50:36.688Z"
   },
   {
    "duration": 30,
    "start_time": "2021-06-15T23:50:36.746Z"
   },
   {
    "duration": 56,
    "start_time": "2021-06-15T23:50:36.778Z"
   },
   {
    "duration": 30,
    "start_time": "2021-06-15T23:50:36.836Z"
   },
   {
    "duration": 29,
    "start_time": "2021-06-15T23:50:36.869Z"
   },
   {
    "duration": 23,
    "start_time": "2021-06-15T23:50:36.924Z"
   },
   {
    "duration": 9,
    "start_time": "2021-06-15T23:50:36.949Z"
   },
   {
    "duration": 23,
    "start_time": "2021-06-15T23:50:36.961Z"
   },
   {
    "duration": 43,
    "start_time": "2021-06-15T23:50:36.987Z"
   },
   {
    "duration": 6684,
    "start_time": "2021-06-15T23:50:50.415Z"
   },
   {
    "duration": 621,
    "start_time": "2021-06-15T23:51:32.672Z"
   },
   {
    "duration": 624,
    "start_time": "2021-06-15T23:52:03.766Z"
   },
   {
    "duration": 616,
    "start_time": "2021-06-15T23:52:26.701Z"
   },
   {
    "duration": 279,
    "start_time": "2021-06-15T23:54:15.021Z"
   },
   {
    "duration": 644,
    "start_time": "2021-06-15T23:54:32.054Z"
   },
   {
    "duration": 631,
    "start_time": "2021-06-15T23:54:54.512Z"
   },
   {
    "duration": 621,
    "start_time": "2021-06-15T23:55:17.169Z"
   },
   {
    "duration": 627,
    "start_time": "2021-06-15T23:55:23.571Z"
   },
   {
    "duration": 627,
    "start_time": "2021-06-15T23:57:25.234Z"
   },
   {
    "duration": 1497,
    "start_time": "2021-06-15T23:57:51.267Z"
   },
   {
    "duration": 24,
    "start_time": "2021-06-15T23:57:52.767Z"
   },
   {
    "duration": 43,
    "start_time": "2021-06-15T23:57:52.794Z"
   },
   {
    "duration": 17,
    "start_time": "2021-06-15T23:57:52.840Z"
   },
   {
    "duration": 42,
    "start_time": "2021-06-15T23:57:52.860Z"
   },
   {
    "duration": 686,
    "start_time": "2021-06-15T23:57:52.924Z"
   },
   {
    "duration": 660,
    "start_time": "2021-06-15T23:57:53.612Z"
   },
   {
    "duration": 459,
    "start_time": "2021-06-15T23:57:54.274Z"
   },
   {
    "duration": 1212,
    "start_time": "2021-06-15T23:57:54.737Z"
   },
   {
    "duration": 1086,
    "start_time": "2021-06-15T23:57:55.952Z"
   },
   {
    "duration": 786,
    "start_time": "2021-06-15T23:57:57.041Z"
   },
   {
    "duration": 353,
    "start_time": "2021-06-15T23:57:57.829Z"
   },
   {
    "duration": 455,
    "start_time": "2021-06-15T23:57:58.184Z"
   },
   {
    "duration": 403,
    "start_time": "2021-06-15T23:57:58.641Z"
   },
   {
    "duration": 33,
    "start_time": "2021-06-15T23:57:59.046Z"
   },
   {
    "duration": 44,
    "start_time": "2021-06-15T23:57:59.081Z"
   },
   {
    "duration": 698,
    "start_time": "2021-06-15T23:57:59.128Z"
   },
   {
    "duration": 36,
    "start_time": "2021-06-15T23:57:59.829Z"
   },
   {
    "duration": 30,
    "start_time": "2021-06-15T23:57:59.867Z"
   },
   {
    "duration": 152,
    "start_time": "2021-06-15T23:57:59.925Z"
   },
   {
    "duration": 52,
    "start_time": "2021-06-15T23:58:00.079Z"
   },
   {
    "duration": 32,
    "start_time": "2021-06-15T23:58:00.133Z"
   },
   {
    "duration": 58,
    "start_time": "2021-06-15T23:58:00.168Z"
   },
   {
    "duration": 39,
    "start_time": "2021-06-15T23:58:00.229Z"
   },
   {
    "duration": 62,
    "start_time": "2021-06-15T23:58:00.271Z"
   },
   {
    "duration": 34,
    "start_time": "2021-06-15T23:58:00.336Z"
   },
   {
    "duration": 57,
    "start_time": "2021-06-15T23:58:00.376Z"
   },
   {
    "duration": 10,
    "start_time": "2021-06-15T23:58:00.436Z"
   },
   {
    "duration": 37,
    "start_time": "2021-06-15T23:58:00.449Z"
   },
   {
    "duration": 35,
    "start_time": "2021-06-15T23:58:00.489Z"
   },
   {
    "duration": 337,
    "start_time": "2021-06-16T00:05:07.730Z"
   },
   {
    "duration": 352,
    "start_time": "2021-06-16T00:06:26.342Z"
   },
   {
    "duration": 464,
    "start_time": "2021-06-16T00:11:19.152Z"
   },
   {
    "duration": 432,
    "start_time": "2021-06-16T00:12:45.932Z"
   },
   {
    "duration": 423,
    "start_time": "2021-06-16T00:13:06.536Z"
   },
   {
    "duration": 939,
    "start_time": "2021-06-16T00:13:18.338Z"
   },
   {
    "duration": 498,
    "start_time": "2021-06-16T00:15:31.198Z"
   },
   {
    "duration": 97,
    "start_time": "2021-06-16T00:16:49.158Z"
   },
   {
    "duration": 526,
    "start_time": "2021-06-16T00:17:04.222Z"
   },
   {
    "duration": 515,
    "start_time": "2021-06-16T00:18:39.709Z"
   },
   {
    "duration": 1321,
    "start_time": "2021-06-16T00:22:27.125Z"
   },
   {
    "duration": 1558,
    "start_time": "2021-06-16T00:22:47.383Z"
   },
   {
    "duration": 1249,
    "start_time": "2021-06-16T00:22:55.358Z"
   },
   {
    "duration": 1553,
    "start_time": "2021-06-16T00:23:01.843Z"
   },
   {
    "duration": 1346,
    "start_time": "2021-06-16T00:23:08.331Z"
   },
   {
    "duration": 1396,
    "start_time": "2021-06-16T00:23:15.524Z"
   },
   {
    "duration": 1314,
    "start_time": "2021-06-16T00:23:23.498Z"
   },
   {
    "duration": 708,
    "start_time": "2021-06-16T00:25:17.701Z"
   },
   {
    "duration": 717,
    "start_time": "2021-06-16T00:27:02.650Z"
   },
   {
    "duration": 1571,
    "start_time": "2021-06-16T00:28:13.588Z"
   },
   {
    "duration": 23,
    "start_time": "2021-06-16T00:28:15.162Z"
   },
   {
    "duration": 40,
    "start_time": "2021-06-16T00:28:15.188Z"
   },
   {
    "duration": 17,
    "start_time": "2021-06-16T00:28:15.231Z"
   },
   {
    "duration": 36,
    "start_time": "2021-06-16T00:28:15.251Z"
   },
   {
    "duration": 696,
    "start_time": "2021-06-16T00:28:15.290Z"
   },
   {
    "duration": 666,
    "start_time": "2021-06-16T00:28:15.991Z"
   },
   {
    "duration": 538,
    "start_time": "2021-06-16T00:28:16.659Z"
   },
   {
    "duration": 1176,
    "start_time": "2021-06-16T00:28:17.201Z"
   },
   {
    "duration": 1276,
    "start_time": "2021-06-16T00:28:18.381Z"
   },
   {
    "duration": 701,
    "start_time": "2021-06-16T00:28:19.659Z"
   },
   {
    "duration": 343,
    "start_time": "2021-06-16T00:28:20.362Z"
   },
   {
    "duration": 390,
    "start_time": "2021-06-16T00:28:20.707Z"
   },
   {
    "duration": 424,
    "start_time": "2021-06-16T00:28:21.100Z"
   },
   {
    "duration": 28,
    "start_time": "2021-06-16T00:28:21.526Z"
   },
   {
    "duration": 18,
    "start_time": "2021-06-16T00:28:21.557Z"
   },
   {
    "duration": 692,
    "start_time": "2021-06-16T00:28:21.577Z"
   },
   {
    "duration": 51,
    "start_time": "2021-06-16T00:28:22.272Z"
   },
   {
    "duration": 30,
    "start_time": "2021-06-16T00:28:22.326Z"
   },
   {
    "duration": 145,
    "start_time": "2021-06-16T00:28:22.358Z"
   },
   {
    "duration": 49,
    "start_time": "2021-06-16T00:28:22.505Z"
   },
   {
    "duration": 28,
    "start_time": "2021-06-16T00:28:22.557Z"
   },
   {
    "duration": 54,
    "start_time": "2021-06-16T00:28:22.588Z"
   },
   {
    "duration": 37,
    "start_time": "2021-06-16T00:28:22.644Z"
   },
   {
    "duration": 56,
    "start_time": "2021-06-16T00:28:22.683Z"
   },
   {
    "duration": 30,
    "start_time": "2021-06-16T00:28:22.741Z"
   },
   {
    "duration": 52,
    "start_time": "2021-06-16T00:28:22.775Z"
   },
   {
    "duration": 8,
    "start_time": "2021-06-16T00:28:22.830Z"
   },
   {
    "duration": 31,
    "start_time": "2021-06-16T00:28:22.840Z"
   },
   {
    "duration": 10,
    "start_time": "2021-06-16T00:28:22.874Z"
   },
   {
    "duration": 99,
    "start_time": "2021-06-16T00:29:33.667Z"
   },
   {
    "duration": 97,
    "start_time": "2021-06-16T00:29:45.908Z"
   },
   {
    "duration": 298,
    "start_time": "2021-06-16T00:29:51.194Z"
   },
   {
    "duration": 1483,
    "start_time": "2021-06-16T00:30:40.732Z"
   },
   {
    "duration": 25,
    "start_time": "2021-06-16T00:30:42.217Z"
   },
   {
    "duration": 23,
    "start_time": "2021-06-16T00:30:42.245Z"
   },
   {
    "duration": 19,
    "start_time": "2021-06-16T00:30:42.271Z"
   },
   {
    "duration": 62,
    "start_time": "2021-06-16T00:30:42.293Z"
   },
   {
    "duration": 707,
    "start_time": "2021-06-16T00:30:42.357Z"
   },
   {
    "duration": 713,
    "start_time": "2021-06-16T00:30:43.066Z"
   },
   {
    "duration": 601,
    "start_time": "2021-06-16T00:30:43.783Z"
   },
   {
    "duration": 1412,
    "start_time": "2021-06-16T00:30:44.387Z"
   },
   {
    "duration": 1238,
    "start_time": "2021-06-16T00:30:45.801Z"
   },
   {
    "duration": 719,
    "start_time": "2021-06-16T00:30:47.042Z"
   },
   {
    "duration": 306,
    "start_time": "2021-06-16T00:30:47.764Z"
   },
   {
    "duration": 455,
    "start_time": "2021-06-16T00:30:48.073Z"
   },
   {
    "duration": 414,
    "start_time": "2021-06-16T00:30:48.530Z"
   },
   {
    "duration": 28,
    "start_time": "2021-06-16T00:30:48.946Z"
   },
   {
    "duration": 17,
    "start_time": "2021-06-16T00:30:48.977Z"
   },
   {
    "duration": 681,
    "start_time": "2021-06-16T00:30:48.996Z"
   },
   {
    "duration": 52,
    "start_time": "2021-06-16T00:30:49.679Z"
   },
   {
    "duration": 30,
    "start_time": "2021-06-16T00:30:49.734Z"
   },
   {
    "duration": 144,
    "start_time": "2021-06-16T00:30:49.766Z"
   },
   {
    "duration": 42,
    "start_time": "2021-06-16T00:30:49.912Z"
   },
   {
    "duration": 31,
    "start_time": "2021-06-16T00:30:49.956Z"
   },
   {
    "duration": 54,
    "start_time": "2021-06-16T00:30:49.991Z"
   },
   {
    "duration": 34,
    "start_time": "2021-06-16T00:30:50.048Z"
   },
   {
    "duration": 57,
    "start_time": "2021-06-16T00:30:50.084Z"
   },
   {
    "duration": 29,
    "start_time": "2021-06-16T00:30:50.144Z"
   },
   {
    "duration": 22,
    "start_time": "2021-06-16T00:30:50.175Z"
   },
   {
    "duration": 9,
    "start_time": "2021-06-16T00:30:50.223Z"
   },
   {
    "duration": 34,
    "start_time": "2021-06-16T00:30:50.234Z"
   },
   {
    "duration": 9,
    "start_time": "2021-06-16T00:30:50.270Z"
   },
   {
    "duration": 1055,
    "start_time": "2021-06-16T00:33:50.873Z"
   },
   {
    "duration": 1065,
    "start_time": "2021-06-16T00:34:15.350Z"
   },
   {
    "duration": 1526,
    "start_time": "2021-06-16T00:46:16.924Z"
   },
   {
    "duration": 28,
    "start_time": "2021-06-16T00:46:18.453Z"
   },
   {
    "duration": 41,
    "start_time": "2021-06-16T00:46:18.484Z"
   },
   {
    "duration": 18,
    "start_time": "2021-06-16T00:46:18.528Z"
   },
   {
    "duration": 49,
    "start_time": "2021-06-16T00:46:18.549Z"
   },
   {
    "duration": 676,
    "start_time": "2021-06-16T00:46:18.625Z"
   },
   {
    "duration": 1027,
    "start_time": "2021-06-16T00:46:19.304Z"
   },
   {
    "duration": 537,
    "start_time": "2021-06-16T00:46:20.334Z"
   },
   {
    "duration": 1172,
    "start_time": "2021-06-16T00:46:20.874Z"
   },
   {
    "duration": 1213,
    "start_time": "2021-06-16T00:46:22.049Z"
   },
   {
    "duration": 703,
    "start_time": "2021-06-16T00:46:23.265Z"
   },
   {
    "duration": 300,
    "start_time": "2021-06-16T00:46:23.971Z"
   },
   {
    "duration": 440,
    "start_time": "2021-06-16T00:46:24.273Z"
   },
   {
    "duration": 403,
    "start_time": "2021-06-16T00:46:24.715Z"
   },
   {
    "duration": 27,
    "start_time": "2021-06-16T00:46:25.124Z"
   },
   {
    "duration": 17,
    "start_time": "2021-06-16T00:46:25.153Z"
   },
   {
    "duration": 777,
    "start_time": "2021-06-16T00:46:25.173Z"
   },
   {
    "duration": 36,
    "start_time": "2021-06-16T00:46:25.952Z"
   },
   {
    "duration": 53,
    "start_time": "2021-06-16T00:46:25.990Z"
   },
   {
    "duration": 31,
    "start_time": "2021-06-16T00:46:26.046Z"
   },
   {
    "duration": 60,
    "start_time": "2021-06-16T00:46:26.079Z"
   },
   {
    "duration": 33,
    "start_time": "2021-06-16T00:46:26.141Z"
   },
   {
    "duration": 52,
    "start_time": "2021-06-16T00:46:26.178Z"
   },
   {
    "duration": 36,
    "start_time": "2021-06-16T00:46:26.232Z"
   },
   {
    "duration": 56,
    "start_time": "2021-06-16T00:46:26.271Z"
   },
   {
    "duration": 32,
    "start_time": "2021-06-16T00:46:26.329Z"
   },
   {
    "duration": 23,
    "start_time": "2021-06-16T00:46:26.363Z"
   },
   {
    "duration": 40,
    "start_time": "2021-06-16T00:46:26.388Z"
   },
   {
    "duration": 24,
    "start_time": "2021-06-16T00:46:26.431Z"
   },
   {
    "duration": 8,
    "start_time": "2021-06-16T00:46:26.457Z"
   },
   {
    "duration": 1516,
    "start_time": "2021-06-16T01:02:48.640Z"
   },
   {
    "duration": 23,
    "start_time": "2021-06-16T01:02:50.159Z"
   },
   {
    "duration": 40,
    "start_time": "2021-06-16T01:02:50.185Z"
   },
   {
    "duration": 20,
    "start_time": "2021-06-16T01:02:50.229Z"
   },
   {
    "duration": 36,
    "start_time": "2021-06-16T01:02:50.252Z"
   },
   {
    "duration": 715,
    "start_time": "2021-06-16T01:02:50.290Z"
   },
   {
    "duration": 1016,
    "start_time": "2021-06-16T01:02:51.008Z"
   },
   {
    "duration": 526,
    "start_time": "2021-06-16T01:02:52.027Z"
   },
   {
    "duration": 1182,
    "start_time": "2021-06-16T01:02:52.556Z"
   },
   {
    "duration": 1242,
    "start_time": "2021-06-16T01:02:53.741Z"
   },
   {
    "duration": 725,
    "start_time": "2021-06-16T01:02:54.985Z"
   },
   {
    "duration": 307,
    "start_time": "2021-06-16T01:02:55.712Z"
   },
   {
    "duration": 393,
    "start_time": "2021-06-16T01:02:56.024Z"
   },
   {
    "duration": 404,
    "start_time": "2021-06-16T01:02:56.420Z"
   },
   {
    "duration": 28,
    "start_time": "2021-06-16T01:02:56.826Z"
   },
   {
    "duration": 35,
    "start_time": "2021-06-16T01:02:56.856Z"
   },
   {
    "duration": 786,
    "start_time": "2021-06-16T01:02:56.893Z"
   },
   {
    "duration": 43,
    "start_time": "2021-06-16T01:02:57.682Z"
   },
   {
    "duration": 29,
    "start_time": "2021-06-16T01:02:57.728Z"
   },
   {
    "duration": 31,
    "start_time": "2021-06-16T01:02:57.760Z"
   },
   {
    "duration": 67,
    "start_time": "2021-06-16T01:02:57.793Z"
   },
   {
    "duration": 29,
    "start_time": "2021-06-16T01:02:57.862Z"
   },
   {
    "duration": 53,
    "start_time": "2021-06-16T01:02:57.896Z"
   },
   {
    "duration": 30,
    "start_time": "2021-06-16T01:02:57.952Z"
   },
   {
    "duration": 55,
    "start_time": "2021-06-16T01:02:57.985Z"
   },
   {
    "duration": 30,
    "start_time": "2021-06-16T01:02:58.043Z"
   },
   {
    "duration": 54,
    "start_time": "2021-06-16T01:02:58.076Z"
   },
   {
    "duration": 10,
    "start_time": "2021-06-16T01:02:58.133Z"
   },
   {
    "duration": 30,
    "start_time": "2021-06-16T01:02:58.145Z"
   },
   {
    "duration": 8,
    "start_time": "2021-06-16T01:02:58.177Z"
   }
  ],
  "hide_input": false,
  "kernelspec": {
   "display_name": "Python 3",
   "language": "python",
   "name": "python3"
  },
  "language_info": {
   "codemirror_mode": {
    "name": "ipython",
    "version": 3
   },
   "file_extension": ".py",
   "mimetype": "text/x-python",
   "name": "python",
   "nbconvert_exporter": "python",
   "pygments_lexer": "ipython3",
   "version": "3.8.5"
  },
  "toc": {
   "base_numbering": 1,
   "nav_menu": {},
   "number_sections": true,
   "sideBar": true,
   "skip_h1_title": true,
   "title_cell": "Table of Contents",
   "title_sidebar": "Contents",
   "toc_cell": false,
   "toc_position": {},
   "toc_section_display": true,
   "toc_window_display": true
  }
 },
 "nbformat": 4,
 "nbformat_minor": 2
}
